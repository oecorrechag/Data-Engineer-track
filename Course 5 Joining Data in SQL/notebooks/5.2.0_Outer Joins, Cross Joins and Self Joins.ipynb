{
 "cells": [
  {
   "cell_type": "code",
   "execution_count": 115,
   "metadata": {},
   "outputs": [
    {
     "name": "stdout",
     "output_type": "stream",
     "text": [
      "The autoreload extension is already loaded. To reload it, use:\n",
      "  %reload_ext autoreload\n"
     ]
    }
   ],
   "source": [
    "%load_ext autoreload\n",
    "%autoreload 2"
   ]
  },
  {
   "cell_type": "code",
   "execution_count": 116,
   "metadata": {},
   "outputs": [],
   "source": [
    "import pandas as pd\n",
    "import numpy as np\n",
    "\n",
    "pd.set_option('display.max_columns', None)\n",
    "pd.set_option('display.max_rows', None)\n",
    "import warnings\n",
    "warnings.filterwarnings(\"ignore\")"
   ]
  },
  {
   "cell_type": "code",
   "execution_count": 117,
   "metadata": {},
   "outputs": [],
   "source": [
    "import sys\n",
    "sys.path.append(\"../\") \n",
    "\n",
    "from utils.paths import make_dir_line\n",
    "\n",
    "modality = 'c'\n",
    "project = 'Joining Data in SQL'\n",
    "data = make_dir_line(modality, project)\n",
    "\n",
    "raw = data('raw')"
   ]
  },
  {
   "cell_type": "code",
   "execution_count": 118,
   "metadata": {},
   "outputs": [],
   "source": [
    "import sqlite3\n",
    "\n",
    "conn = sqlite3.connect(\":memory:\")  ## aca se indica el nombre de la db.\n",
    "cur = conn.cursor()"
   ]
  },
  {
   "attachments": {},
   "cell_type": "markdown",
   "metadata": {},
   "source": [
    "# 5.2.0 Outer Joins, Cross Joins and Self Joins\n",
    "\n",
    "Note: Some diferences with exercices and problems with type of value"
   ]
  },
  {
   "cell_type": "code",
   "execution_count": 119,
   "metadata": {},
   "outputs": [],
   "source": [
    "conn.executescript(\n",
    "    \"\"\"\n",
    "    \n",
    "DROP TABLE IF EXISTS cities;\n",
    "\n",
    "CREATE TABLE cities (\n",
    "    name                  STRING,\n",
    "    country_code          STRING,\n",
    "    city_proper_pop       DOUBLE,\n",
    "    metroarea_pop         DOUBLE,\n",
    "    urbanarea_pop         DOUBLE\n",
    ");\n",
    "\n",
    "\n",
    "DROP TABLE IF EXISTS countries;\n",
    "\n",
    "CREATE TABLE countries (\n",
    "  code                  STRING     PRIMARY KEY,\n",
    "  name                  VARCHAR,\n",
    "  continent             VARCHAR,\n",
    "  region                VARCHAR,\n",
    "  surface_area          REAL,\n",
    "  indep_year            INTEGER,\n",
    "  local_name            VARCHAR,\n",
    "  gov_form              VARCHAR,\n",
    "  capital               VARCHAR,\n",
    "  cap_long              REAL,\n",
    "  cap_lat               REAL\n",
    ");\n",
    "\n",
    "\n",
    "DROP TABLE IF EXISTS economies;\n",
    "\n",
    "CREATE TABLE economies (\n",
    "  econ_id               INTEGER     PRIMARY KEY,\n",
    "  code                  STRING,\n",
    "  year                  INTEGER,\n",
    "  income_group          VARCHAR,\n",
    "  gdp_percapita         REAL,\n",
    "  gross_savings         REAL,\n",
    "  inflation_rate        REAL,\n",
    "  total_investment      REAL,\n",
    "  unemployment_rate     REAL,\n",
    "  exports               REAL,\n",
    "  imports               REAL\n",
    ");\n",
    "\n",
    "\n",
    "DROP TABLE IF EXISTS languages;\n",
    "\n",
    "CREATE TABLE languages (\n",
    "  lang_id               INTEGER     PRIMARY KEY,\n",
    "  code                  VARCHAR,\n",
    "  name                  VARCHAR,\n",
    "  percent               REAL,\n",
    "  official              BOOLEAN\n",
    ");\n",
    "\n",
    "\n",
    "DROP TABLE IF EXISTS populations;\n",
    "\n",
    "CREATE TABLE populations (\n",
    "  pop_id                DOUBLE     PRIMARY KEY,\n",
    "  country_code          VARCHAR,\n",
    "  year                  DOUBLE,\n",
    "  fertility_rate        REAL,\n",
    "  life_expectancy       REAL,\n",
    "  size                  DOUBLE\n",
    ");\n",
    "\n",
    "\n",
    "DROP TABLE IF EXISTS currencies;\n",
    "\n",
    "CREATE TABLE currencies (\n",
    "  curr_id               INTEGER     PRIMARY KEY,\n",
    "  code                  VARCHAR,\n",
    "  basic_unit            VARCHAR,\n",
    "  curr_code             VARCHAR,\n",
    "  frac_unit             VARCHAR,\n",
    "  frac_perbasic         REAL\n",
    ");\n",
    "\n",
    "\n",
    "\n",
    "\n",
    "\n",
    "\"\"\"\n",
    ")\n",
    "conn.commit()"
   ]
  },
  {
   "cell_type": "code",
   "execution_count": 120,
   "metadata": {},
   "outputs": [
    {
     "data": {
      "text/plain": [
       "<sqlite3.Cursor at 0x7f89c82e91c0>"
      ]
     },
     "execution_count": 120,
     "metadata": {},
     "output_type": "execute_result"
    }
   ],
   "source": [
    "df = pd.read_csv(raw / 'countries/cities.csv', sep = ',', decimal = '.', header = 0, encoding = 'utf-8')\n",
    "cities = list(zip(df.name, df.country_code, df.city_proper_pop, df.metroarea_pop, df.urbanarea_pop))\n",
    "cur.executemany(\"INSERT INTO cities VALUES  (?,?,?,?,?)\", cities)"
   ]
  },
  {
   "cell_type": "code",
   "execution_count": 121,
   "metadata": {},
   "outputs": [
    {
     "data": {
      "text/plain": [
       "<sqlite3.Cursor at 0x7f89c82e91c0>"
      ]
     },
     "execution_count": 121,
     "metadata": {},
     "output_type": "execute_result"
    }
   ],
   "source": [
    "df = pd.read_csv(raw / 'countries/countries.csv', sep = ',', decimal = '.', header = 0, encoding = 'utf-8')\n",
    "countries = list(zip(df.code, df.country_name, df.continent, df.region, df.surface_area, df.indep_year, df.local_name, df.gov_form, df.capital, df.cap_long, df.cap_lat))\n",
    "cur.executemany(\"INSERT INTO countries VALUES  (?,?,?,?,?,?,?,?,?,?,?)\", countries)"
   ]
  },
  {
   "cell_type": "code",
   "execution_count": 122,
   "metadata": {},
   "outputs": [
    {
     "data": {
      "text/plain": [
       "<sqlite3.Cursor at 0x7f89c82e91c0>"
      ]
     },
     "execution_count": 122,
     "metadata": {},
     "output_type": "execute_result"
    }
   ],
   "source": [
    "df = pd.read_csv(raw / 'countries/economies.csv', sep = ',', decimal = '.', header = 0, encoding = 'utf-8')\n",
    "economies = list(zip(df.econ_id, df.code, df.year, df.income_group, df.gdp_percapita, df.gross_savings, df.inflation_rate, df.total_investment, df.unemployment_rate, df.exports, df.imports))\n",
    "cur.executemany(\"INSERT INTO economies VALUES  (?,?,?,?,?,?,?,?,?,?,?)\", economies)"
   ]
  },
  {
   "cell_type": "code",
   "execution_count": 123,
   "metadata": {},
   "outputs": [
    {
     "data": {
      "text/plain": [
       "<sqlite3.Cursor at 0x7f89c82e91c0>"
      ]
     },
     "execution_count": 123,
     "metadata": {},
     "output_type": "execute_result"
    }
   ],
   "source": [
    "df = pd.read_csv(raw / 'countries/languages.csv', sep = ',', decimal = '.', header = 0, encoding = 'utf-8')\n",
    "languages = list(zip(df.lang_id, df.code, df.name, df.percent, df.official))\n",
    "cur.executemany(\"INSERT INTO languages VALUES  (?,?,?,?,?)\", languages)"
   ]
  },
  {
   "cell_type": "code",
   "execution_count": 124,
   "metadata": {},
   "outputs": [
    {
     "data": {
      "text/plain": [
       "<sqlite3.Cursor at 0x7f89c82e91c0>"
      ]
     },
     "execution_count": 124,
     "metadata": {},
     "output_type": "execute_result"
    }
   ],
   "source": [
    "df = pd.read_csv(raw / 'countries/populations.csv', sep = ',', decimal = '.', header = 0, encoding = 'utf-8')\n",
    "populations = list(zip(df.pop_id, df.country_code, df.year, df.fertility_rate, df.life_expectancy, str(df.size)))\n",
    "cur.executemany(\"INSERT INTO populations VALUES  (?,?,?,?,?,?)\", populations)"
   ]
  },
  {
   "cell_type": "code",
   "execution_count": 125,
   "metadata": {},
   "outputs": [
    {
     "data": {
      "text/plain": [
       "<sqlite3.Cursor at 0x7f89c82e91c0>"
      ]
     },
     "execution_count": 125,
     "metadata": {},
     "output_type": "execute_result"
    }
   ],
   "source": [
    "df = pd.read_csv(raw / 'countries/currencies.csv', sep = ',', decimal = '.', header = 0, encoding = 'utf-8')\n",
    "currencies = list(zip(df.curr_id, df.code, df.basic_unit, df.curr_code, df.frac_unit, df.frac_perbasic))\n",
    "cur.executemany(\"INSERT INTO currencies VALUES  (?,?,?,?,?,?)\", currencies)"
   ]
  },
  {
   "attachments": {
    "image.png": {
     "image/png": "[encoded data removed]"
    }
   },
   "cell_type": "markdown",
   "metadata": {},
   "source": [
    "## 5.3.2 Remembering what is LEFT\n",
    "\n",
    "![image.png](attachment:image.png)\n",
    "\n",
    "## 5.3.3 This is a LEFT JOIN, right?"
   ]
  },
  {
   "cell_type": "code",
   "execution_count": 126,
   "metadata": {},
   "outputs": [
    {
     "data": {
      "text/plain": [
       "[('Harare', 'ZWE', 'Zimbabwe', 'Eastern Africa', 1606000.0),\n",
       " ('Lusaka', 'ZMB', 'Zambia', 'Eastern Africa', 1742979.0),\n",
       " ('Cape Town', 'ZAF', 'South Africa', 'Southern Africa', 3740026.0),\n",
       " ('Durban', 'ZAF', 'South Africa', 'Southern Africa', 3442361.0),\n",
       " ('Ekurhuleni', 'ZAF', 'South Africa', 'Southern Africa', 3178470.0),\n",
       " ('Johannesburg', 'ZAF', 'South Africa', 'Southern Africa', 4434827.0),\n",
       " (\"Sana'a\", 'YEM', 'Yemen', 'Middle East', 1937451.0),\n",
       " ('Hanoi', 'VNM', 'Vietnam', 'Southeast Asia', 6844100.0),\n",
       " ('Ho Chi Minh City', 'VNM', 'Vietnam', 'Southeast Asia', 7681700.0),\n",
       " ('Caracas', 'VEN', 'Venezuela', 'South America', 1943901.0),\n",
       " ('Maracaibo', 'VEN', 'Venezuela', 'South America', 1599940.0),\n",
       " ('Tashkent', 'UZB', 'Uzbekistan', 'Southern and Central Asia', 2309600.0),\n",
       " ('Chicago', 'USA', 'United States', 'North America', 2695598.0),\n",
       " ('Dallas', 'USA', 'United States', 'North America', 1317929.0),\n",
       " ('Houston', 'USA', 'United States', 'North America', 2489558.0),\n",
       " ('Los Angeles', 'USA', 'United States', 'North America', 3884307.0),\n",
       " ('New York City', 'USA', 'United States', 'North America', 8550405.0),\n",
       " ('Philadelphia', 'USA', 'United States', 'North America', 1567872.0),\n",
       " ('Phoenix', 'USA', 'United States', 'North America', 1563025.0),\n",
       " ('San Antonio', 'USA', 'United States', 'North America', 1469845.0),\n",
       " ('San Diego', 'USA', 'United States', 'North America', 1394928.0),\n",
       " ('Montevideo', 'URY', 'Uruguay', 'South America', 1305082.0),\n",
       " ('Kharkov', 'UKR', 'Ukraine', 'Eastern Europe', 1439566.0),\n",
       " ('Kiev', 'UKR', 'Ukraine', 'Eastern Europe', 2908703.0),\n",
       " ('Kampala', 'UGA', 'Uganda', 'Eastern Africa', 1507080.0),\n",
       " ('Dar es Salaam', 'TZA', 'Tanzania', 'Eastern Africa', 4364541.0),\n",
       " ('Ankara', 'TUR', 'Turkey', 'Middle East', 5271000.0),\n",
       " ('Istanbul', 'TUR', 'Turkey', 'Middle East', 14025000.0),\n",
       " ('Izmir', 'TUR', 'Turkey', 'Middle East', 4168000.0),\n",
       " ('Tunis', 'TUN', 'Tunisia', 'Northern Africa', 1056247.0),\n",
       " ('Bangkok', 'THA', 'Thailand', 'Southeast Asia', 8280925.0),\n",
       " ('Singapore', 'SGP', 'Singapore', 'Southeast Asia', 5535000.0),\n",
       " ('Dakar', 'SEN', 'Senegal', 'Western Africa', 1146053.0),\n",
       " ('Khartoum', 'SDN', 'Sudan', 'Northern Africa', 3639598.0),\n",
       " ('Jeddah', 'SAU', 'Saudi Arabia', 'Middle East', 3456259.0),\n",
       " ('Riyadh', 'SAU', 'Saudi Arabia', 'Middle East', 5676621.0),\n",
       " ('Moscow', 'RUS', 'Russian Federation', 'Eastern Europe', 12197596.0),\n",
       " ('Nizhny Novgorod', 'RUS', 'Russian Federation', 'Eastern Europe', 1250619.0),\n",
       " ('Novosibirsk', 'RUS', 'Russian Federation', 'Eastern Europe', 1567087.0),\n",
       " ('Omsk', 'RUS', 'Russian Federation', 'Eastern Europe', 1154116.0),\n",
       " ('Rostov-on-Don', 'RUS', 'Russian Federation', 'Eastern Europe', 1119900.0),\n",
       " ('Saint Petersburg',\n",
       "  'RUS',\n",
       "  'Russian Federation',\n",
       "  'Eastern Europe',\n",
       "  5191690.0),\n",
       " ('Yekaterinburg', 'RUS', 'Russian Federation', 'Eastern Europe', 1428042.0),\n",
       " ('Pyongyang', 'PRK', 'North Korea', 'Eastern Asia', 3255388.0),\n",
       " ('Warsaw', 'POL', 'Poland', 'Eastern Europe', 1753977.0),\n",
       " ('Caloocan', 'PHL', 'Philippines', 'Southeast Asia', 1583978.0),\n",
       " ('Davao City', 'PHL', 'Philippines', 'Southeast Asia', 1632991.0),\n",
       " ('Manila', 'PHL', 'Philippines', 'Southeast Asia', 1780148.0),\n",
       " ('Quezon City', 'PHL', 'Philippines', 'Southeast Asia', 2936116.0),\n",
       " ('Lima', 'PER', 'Peru', 'South America', 8852000.0),\n",
       " ('Faisalabad', 'PAK', 'Pakistan', 'Southern and Central Asia', 6480765.0),\n",
       " ('Gujranwala', 'PAK', 'Pakistan', 'Southern and Central Asia', 2700003.0),\n",
       " ('Hyderabad', 'PAK', 'Pakistan', 'Southern and Central Asia', 3429471.0),\n",
       " ('Islamabad', 'PAK', 'Pakistan', 'Southern and Central Asia', 1900000.0),\n",
       " ('Karachi', 'PAK', 'Pakistan', 'Southern and Central Asia', 27506000.0),\n",
       " ('Lahore', 'PAK', 'Pakistan', 'Southern and Central Asia', 10355000.0),\n",
       " ('Multan', 'PAK', 'Pakistan', 'Southern and Central Asia', 3117000.0),\n",
       " ('Peshawar', 'PAK', 'Pakistan', 'Southern and Central Asia', 3201000.0),\n",
       " ('Rawalpindi', 'PAK', 'Pakistan', 'Southern and Central Asia', 3198911.0),\n",
       " ('Auckland', 'NZL', 'New Zealand', 'Australia and New Zealand', 1495000.0),\n",
       " ('Managua', 'NIC', 'Nicaragua', 'Central America', 2560789.0),\n",
       " ('Abuja', 'NGA', 'Nigeria', 'Western Africa', 1235880.0),\n",
       " ('Ibadan', 'NGA', 'Nigeria', 'Western Africa', 1338659.0),\n",
       " ('Kano', 'NGA', 'Nigeria', 'Western Africa', 2153225.0),\n",
       " ('Lagos', 'NGA', 'Nigeria', 'Western Africa', 16060303.0),\n",
       " ('Kuala Lumpur', 'MYS', 'Malaysia', 'Southeast Asia', 1768000.0),\n",
       " ('Maputo', 'MOZ', 'Mozambique', 'Eastern Africa', 1766184.0),\n",
       " ('Mandalay', 'MMR', 'Myanmar', 'Southeast Asia', 1319452.0),\n",
       " ('Yangon', 'MMR', 'Myanmar', 'Southeast Asia', 5214000.0),\n",
       " ('Guadalajara', 'MEX', 'Mexico', 'Central America', 1495189.0),\n",
       " ('Mexico City', 'MEX', 'Mexico', 'Central America', 8974724.0),\n",
       " ('Monterrey', 'MEX', 'Mexico', 'Central America', 1130960.0),\n",
       " ('Tijuana', 'MEX', 'Mexico', 'Central America', 1696923.0),\n",
       " ('Casablanca', 'MAR', 'Morocco', 'Northern Africa', 5117832.0),\n",
       " ('Fez', 'MAR', 'Morocco', 'Northern Africa', 1112072.0),\n",
       " ('Tripoli', 'LBY', 'Libya', 'Northern Africa', 1126000.0),\n",
       " ('Busan', 'KOR', 'South Korea', 'Eastern Asia', 3510833.0),\n",
       " ('Daegu', 'KOR', 'South Korea', 'Eastern Asia', 2492994.0),\n",
       " ('Daejeon', 'KOR', 'South Korea', 'Eastern Asia', 1535028.0),\n",
       " ('Incheon', 'KOR', 'South Korea', 'Eastern Asia', 2978367.0),\n",
       " ('Kwangju', 'KOR', 'South Korea', 'Eastern Asia', 1477780.0),\n",
       " ('Seoul', 'KOR', 'South Korea', 'Eastern Asia', 9995784.0),\n",
       " ('Ulsan', 'KOR', 'South Korea', 'Eastern Asia', 1163690.0),\n",
       " ('Phnom Penh', 'KHM', 'Cambodia', 'Southeast Asia', 2234566.0),\n",
       " ('Nairobi', 'KEN', 'Kenya', 'Eastern Africa', 3138369.0),\n",
       " ('Almaty', 'KAZ', 'Kazakhstan', 'Southern and Central Asia', 1703481.0),\n",
       " ('Fukuoka', 'JPN', 'Japan', 'Eastern Asia', 1483052.0),\n",
       " ('Hiroshima', 'JPN', 'Japan', 'Eastern Asia', 1196274.0),\n",
       " ('Kawasaki', 'JPN', 'Japan', 'Eastern Asia', 1496035.0),\n",
       " ('Kobe', 'JPN', 'Japan', 'Eastern Asia', 1536499.0),\n",
       " ('Kyoto', 'JPN', 'Japan', 'Eastern Asia', 1474570.0),\n",
       " ('Nagoya', 'JPN', 'Japan', 'Eastern Asia', 2296014.0),\n",
       " ('Osaka', 'JPN', 'Japan', 'Eastern Asia', 2691742.0),\n",
       " ('Saitama', 'JPN', 'Japan', 'Eastern Asia', 1226656.0),\n",
       " ('Sapporo', 'JPN', 'Japan', 'Eastern Asia', 1918096.0),\n",
       " ('Tokyo', 'JPN', 'Japan', 'Eastern Asia', 13513734.0),\n",
       " ('Yokohama', 'JPN', 'Japan', 'Eastern Asia', 3726167.0),\n",
       " ('Milan', 'ITA', 'Italy', 'Southern Europe', 1359905.0),\n",
       " ('Rome', 'ITA', 'Italy', 'Southern Europe', 2877215.0),\n",
       " ('Baghdad', 'IRQ', 'Iraq', 'Middle East', 7180889.0),\n",
       " ('Basra', 'IRQ', 'Iraq', 'Middle East', 2750000.0),\n",
       " ('Isfahan', 'IRN', 'Iran', 'Southern and Central Asia', 2243249.0),\n",
       " ('Karaj', 'IRN', 'Iran', 'Southern and Central Asia', 1973470.0),\n",
       " ('Mashhad', 'IRN', 'Iran', 'Southern and Central Asia', 3312090.0),\n",
       " ('Shiraz', 'IRN', 'Iran', 'Southern and Central Asia', 1869001.0),\n",
       " ('Tabriz', 'IRN', 'Iran', 'Southern and Central Asia', 1733033.0),\n",
       " ('Tehran', 'IRN', 'Iran', 'Southern and Central Asia', 8154051.0),\n",
       " ('Ahmedabad', 'IND', 'India', 'Southern and Central Asia', 5570585.0),\n",
       " ('Bengaluru', 'IND', 'India', 'Southern and Central Asia', 8425970.0),\n",
       " ('Bhopal', 'IND', 'India', 'Southern and Central Asia', 1798218.0),\n",
       " ('Chennai', 'IND', 'India', 'Southern and Central Asia', 7088000.0),\n",
       " ('Delhi', 'IND', 'India', 'Southern and Central Asia', 16787941.0),\n",
       " ('Hyderabad (India)', 'IND', 'India', 'Southern and Central Asia', 7859250.0),\n",
       " ('Jaipur', 'IND', 'India', 'Southern and Central Asia', 3073350.0),\n",
       " ('Kanpur', 'IND', 'India', 'Southern and Central Asia', 2768057.0),\n",
       " ('Kochi', 'IND', 'India', 'Southern and Central Asia', 2232456.0),\n",
       " ('Kolkata', 'IND', 'India', 'Southern and Central Asia', 4486679.0),\n",
       " ('Lucknow', 'IND', 'India', 'Southern and Central Asia', 2815601.0),\n",
       " ('Mumbai', 'IND', 'India', 'Southern and Central Asia', 12478447.0),\n",
       " ('Nagpur', 'IND', 'India', 'Southern and Central Asia', 2405665.0),\n",
       " ('Patna', 'IND', 'India', 'Southern and Central Asia', 1683200.0),\n",
       " ('Pune', 'IND', 'India', 'Southern and Central Asia', 3115431.0),\n",
       " ('Surat', 'IND', 'India', 'Southern and Central Asia', 4462002.0),\n",
       " ('Vijayawada', 'IND', 'India', 'Southern and Central Asia', 1491202.0),\n",
       " ('Visakhapatnam', 'IND', 'India', 'Southern and Central Asia', 2035922.0),\n",
       " ('Bandung', 'IDN', 'Indonesia', 'Southeast Asia', 2575478.0),\n",
       " ('Jakarta', 'IDN', 'Indonesia', 'Southeast Asia', 10075310.0),\n",
       " ('Makassar', 'IDN', 'Indonesia', 'Southeast Asia', 1338633.0),\n",
       " ('Medan', 'IDN', 'Indonesia', 'Southeast Asia', 2097610.0),\n",
       " ('Palembang', 'IDN', 'Indonesia', 'Southeast Asia', 1708413.0),\n",
       " ('Semarang', 'IDN', 'Indonesia', 'Southeast Asia', 1555984.0),\n",
       " ('Surabaya', 'IDN', 'Indonesia', 'Southeast Asia', 2765487.0),\n",
       " ('Budapest', 'HUN', 'Hungary', 'Eastern Europe', 1759407.0),\n",
       " ('Guatemala City', 'GTM', 'Guatemala', 'Central America', 2110100.0),\n",
       " ('Accra', 'GHA', 'Ghana', 'Western Africa', 2070463.0),\n",
       " (\"T'bilisi\", 'GEO', 'Georgia', 'Middle East', 1118035.0),\n",
       " ('Birmingham', 'GBR', 'United Kingdom', 'British Islands', 1111300.0),\n",
       " ('London', 'GBR', 'United Kingdom', 'British Islands', 8673713.0),\n",
       " ('Paris', 'FRA', 'France', 'Western Europe', 2229621.0),\n",
       " ('Addis Ababa', 'ETH', 'Ethiopia', 'Eastern Africa', 3103673.0),\n",
       " ('Barcelona', 'ESP', 'Spain', 'Southern Europe', 1604555.0),\n",
       " ('Madrid', 'ESP', 'Spain', 'Southern Europe', 3207247.0),\n",
       " ('Alexandria', 'EGY', 'Egypt', 'Northern Africa', 4616625.0),\n",
       " ('Cairo', 'EGY', 'Egypt', 'Northern Africa', 10230350.0),\n",
       " ('Giza', 'EGY', 'Egypt', 'Northern Africa', 4239988.0),\n",
       " ('Guayaquil', 'ECU', 'Ecuador', 'South America', 3600000.0),\n",
       " ('Quito', 'ECU', 'Ecuador', 'South America', 2671191.0),\n",
       " ('Algiers', 'DZA', 'Algeria', 'Northern Africa', 3415811.0),\n",
       " ('Oran', 'DZA', 'Algeria', 'Northern Africa', 1560329.0),\n",
       " ('Berlin', 'DEU', 'Germany', 'Western Europe', 3517424.0),\n",
       " ('Cologne', 'DEU', 'Germany', 'Western Europe', 1057327.0),\n",
       " ('Hamburg', 'DEU', 'Germany', 'Western Europe', 1787408.0),\n",
       " ('Munich', 'DEU', 'Germany', 'Western Europe', 1450381.0),\n",
       " ('Prague', 'CZE', 'Czech Republic', 'Eastern Europe', 1324000.0),\n",
       " ('Havana', 'CUB', 'Cuba', 'Caribbean', 2106146.0),\n",
       " ('Barranquilla', 'COL', 'Colombia', 'South America', 1386865.0),\n",
       " ('Bogota', 'COL', 'Colombia', 'South America', 7878783.0),\n",
       " ('Cali', 'COL', 'Colombia', 'South America', 2400653.0),\n",
       " ('Medellin', 'COL', 'Colombia', 'South America', 2441123.0),\n",
       " ('Brazzaville', 'COG', 'Congo', 'Central Africa', 1827000.0),\n",
       " ('Kinshasa',\n",
       "  'COD',\n",
       "  'Congo, The Democratic Republic of the',\n",
       "  'Central Africa',\n",
       "  10130000.0),\n",
       " ('Douala', 'CMR', 'Cameroon', 'Central Africa', 2446945.0),\n",
       " ('Yaounde', 'CMR', 'Cameroon', 'Central Africa', 2440462.0),\n",
       " ('Abidjan', 'CIV', \"Cote d'Ivoire\", 'Western Africa', 4765000.0),\n",
       " ('Beijing', 'CHN', 'China', 'Eastern Asia', 21516000.0),\n",
       " ('Changchun', 'CHN', 'China', 'Eastern Asia', 3815270.0),\n",
       " ('Changsha', 'CHN', 'China', 'Eastern Asia', 7044118.0),\n",
       " ('Chaozhou', 'CHN', 'China', 'Eastern Asia', 2669844.0),\n",
       " ('Chengdu', 'CHN', 'China', 'Eastern Asia', 4741929.0),\n",
       " ('Chongqing', 'CHN', 'China', 'Eastern Asia', 8189800.0),\n",
       " ('Dalian', 'CHN', 'China', 'Eastern Asia', 2146099.0),\n",
       " ('Dongguan', 'CHN', 'China', 'Eastern Asia', 8220207.0),\n",
       " ('Foshan', 'CHN', 'China', 'Eastern Asia', 6151622.0),\n",
       " ('Fuzhou', 'CHN', 'China', 'Eastern Asia', 7115369.0),\n",
       " ('Guangzhou', 'CHN', 'China', 'Eastern Asia', 14043500.0),\n",
       " ('Hangzhou', 'CHN', 'China', 'Eastern Asia', 3560391.0),\n",
       " ('Harbin', 'CHN', 'China', 'Eastern Asia', 4280701.0),\n",
       " ('Hefei', 'CHN', 'China', 'Eastern Asia', 3352076.0),\n",
       " ('Hong Kong', 'CHN', 'China', 'Eastern Asia', 7374900.0),\n",
       " ('Jinan', 'CHN', 'China', 'Eastern Asia', 2009273.0),\n",
       " ('Lanzhou', 'CHN', 'China', 'Eastern Asia', 2177130.0),\n",
       " ('Nanjing', 'CHN', 'China', 'Eastern Asia', 8230000.0),\n",
       " ('Ningbo', 'CHN', 'China', 'Eastern Asia', 3491597.0),\n",
       " ('Qingdao', 'CHN', 'China', 'Eastern Asia', 6188100.0),\n",
       " ('Quanzhou', 'CHN', 'China', 'Eastern Asia', 8128533.0),\n",
       " ('Shanghai', 'CHN', 'China', 'Eastern Asia', 24256800.0),\n",
       " ('Shantou', 'CHN', 'China', 'Eastern Asia', 5391028.0),\n",
       " ('Shenyang', 'CHN', 'China', 'Eastern Asia', 8106171.0),\n",
       " ('Shenzhen', 'CHN', 'China', 'Eastern Asia', 10778900.0),\n",
       " ('Shijiazhuang', 'CHN', 'China', 'Eastern Asia', 4303700.0),\n",
       " ('Suzhou', 'CHN', 'China', 'Eastern Asia', 10650501.0),\n",
       " ('Tangshan', 'CHN', 'China', 'Eastern Asia', 3187171.0),\n",
       " ('Tianjin', 'CHN', 'China', 'Eastern Asia', 6859779.0),\n",
       " ('Wenzhou', 'CHN', 'China', 'Eastern Asia', 3039439.0),\n",
       " ('Wuhan', 'CHN', 'China', 'Eastern Asia', 6886253.0),\n",
       " (\"Xi'an\", 'CHN', 'China', 'Eastern Asia', 8705600.0),\n",
       " ('Xiamen', 'CHN', 'China', 'Eastern Asia', 3531347.0),\n",
       " ('Zhengzhou', 'CHN', 'China', 'Eastern Asia', 4122087.0),\n",
       " ('Zhongshan', 'CHN', 'China', 'Eastern Asia', 3121275.0),\n",
       " ('Zunyi', 'CHN', 'China', 'Eastern Asia', 6127009.0),\n",
       " ('Santiago', 'CHL', 'Chile', 'South America', 5743719.0),\n",
       " ('Calgary', 'CAN', 'Canada', 'North America', 1235171.0),\n",
       " ('Montreal', 'CAN', 'Canada', 'North America', 1649519.0),\n",
       " ('Toronto', 'CAN', 'Canada', 'North America', 2731571.0),\n",
       " ('Belo Horizonte', 'BRA', 'Brazil', 'South America', 2502557.0),\n",
       " ('Brasilia', 'BRA', 'Brazil', 'South America', 2556149.0),\n",
       " ('Campinas', 'BRA', 'Brazil', 'South America', 1164098.0),\n",
       " ('Curitiba', 'BRA', 'Brazil', 'South America', 1879355.0),\n",
       " ('Fortaleza', 'BRA', 'Brazil', 'South America', 2609716.0),\n",
       " ('Porto Alegre', 'BRA', 'Brazil', 'South America', 1476867.0),\n",
       " ('Recife', 'BRA', 'Brazil', 'South America', 1555039.0),\n",
       " ('Rio de Janeiro', 'BRA', 'Brazil', 'South America', 6429923.0),\n",
       " ('Salvador', 'BRA', 'Brazil', 'South America', 2902927.0),\n",
       " ('Sao Paulo', 'BRA', 'Brazil', 'South America', 12038175.0),\n",
       " ('Santa Cruz de la Sierra', 'BOL', 'Bolivia', 'South America', 1453549.0),\n",
       " ('Minsk', 'BLR', 'Belarus', 'Eastern Europe', 1959781.0),\n",
       " ('Chittagong', 'BGD', 'Bangladesh', 'Southern and Central Asia', 2581643.0),\n",
       " ('Dhaka', 'BGD', 'Bangladesh', 'Southern and Central Asia', 14543124.0),\n",
       " ('Ouagadougou', 'BFA', 'Burkina Faso', 'Western Africa', 2200000.0),\n",
       " ('Baku', 'AZE', 'Azerbaijan', 'Middle East', 3202300.0),\n",
       " ('Vienna', 'AUT', 'Austria', 'Western Europe', 1863881.0),\n",
       " ('Brisbane', 'AUS', 'Australia', 'Australia and New Zealand', 1180285.0),\n",
       " ('Yerevan', 'ARM', 'Armenia', 'Middle East', 1060138.0),\n",
       " ('Buenos Aires', 'ARG', 'Argentina', 'South America', 3054300.0),\n",
       " ('Cordoba', 'ARG', 'Argentina', 'South America', 1330023.0),\n",
       " ('Rosario', 'ARG', 'Argentina', 'South America', 1193605.0),\n",
       " ('Abu Dhabi', 'ARE', 'United Arab Emirates', 'Middle East', 1145000.0),\n",
       " ('Dubai', 'ARE', 'United Arab Emirates', 'Middle East', 2643410.0),\n",
       " ('Luanda', 'AGO', 'Angola', 'Central Africa', 2825311.0),\n",
       " ('Kabul', 'AFG', 'Afghanistan', 'Southern and Central Asia', 3414100.0)]"
      ]
     },
     "execution_count": 126,
     "metadata": {},
     "output_type": "execute_result"
    }
   ],
   "source": [
    "# Perform an inner join with cities as c1 and countries as c2 on country code\n",
    "cur.execute(\"\"\"\n",
    "            \n",
    "            SELECT c1.name AS city, code, c2.name AS country, region, city_proper_pop \n",
    "            FROM cities AS c1 \n",
    "            INNER JOIN countries AS c2 ON c1.country_code = c2.code \n",
    "            ORDER BY code DESC;\n",
    "            \n",
    "            \"\"\").fetchall()"
   ]
  },
  {
   "cell_type": "code",
   "execution_count": 127,
   "metadata": {},
   "outputs": [
    {
     "data": {
      "text/plain": [
       "[('Harare', 'ZWE', 'Zimbabwe', 'Eastern Africa', 1606000.0),\n",
       " ('Lusaka', 'ZMB', 'Zambia', 'Eastern Africa', 1742979.0),\n",
       " ('Cape Town', 'ZAF', 'South Africa', 'Southern Africa', 3740026.0),\n",
       " ('Durban', 'ZAF', 'South Africa', 'Southern Africa', 3442361.0),\n",
       " ('Ekurhuleni', 'ZAF', 'South Africa', 'Southern Africa', 3178470.0),\n",
       " ('Johannesburg', 'ZAF', 'South Africa', 'Southern Africa', 4434827.0),\n",
       " (\"Sana'a\", 'YEM', 'Yemen', 'Middle East', 1937451.0),\n",
       " ('Hanoi', 'VNM', 'Vietnam', 'Southeast Asia', 6844100.0),\n",
       " ('Ho Chi Minh City', 'VNM', 'Vietnam', 'Southeast Asia', 7681700.0),\n",
       " ('Caracas', 'VEN', 'Venezuela', 'South America', 1943901.0),\n",
       " ('Maracaibo', 'VEN', 'Venezuela', 'South America', 1599940.0),\n",
       " ('Tashkent', 'UZB', 'Uzbekistan', 'Southern and Central Asia', 2309600.0),\n",
       " ('Chicago', 'USA', 'United States', 'North America', 2695598.0),\n",
       " ('Dallas', 'USA', 'United States', 'North America', 1317929.0),\n",
       " ('Houston', 'USA', 'United States', 'North America', 2489558.0),\n",
       " ('Los Angeles', 'USA', 'United States', 'North America', 3884307.0),\n",
       " ('New York City', 'USA', 'United States', 'North America', 8550405.0),\n",
       " ('Philadelphia', 'USA', 'United States', 'North America', 1567872.0),\n",
       " ('Phoenix', 'USA', 'United States', 'North America', 1563025.0),\n",
       " ('San Antonio', 'USA', 'United States', 'North America', 1469845.0),\n",
       " ('San Diego', 'USA', 'United States', 'North America', 1394928.0),\n",
       " ('Montevideo', 'URY', 'Uruguay', 'South America', 1305082.0),\n",
       " ('Kharkov', 'UKR', 'Ukraine', 'Eastern Europe', 1439566.0),\n",
       " ('Kiev', 'UKR', 'Ukraine', 'Eastern Europe', 2908703.0),\n",
       " ('Kampala', 'UGA', 'Uganda', 'Eastern Africa', 1507080.0),\n",
       " ('Dar es Salaam', 'TZA', 'Tanzania', 'Eastern Africa', 4364541.0),\n",
       " ('Ankara', 'TUR', 'Turkey', 'Middle East', 5271000.0),\n",
       " ('Istanbul', 'TUR', 'Turkey', 'Middle East', 14025000.0),\n",
       " ('Izmir', 'TUR', 'Turkey', 'Middle East', 4168000.0),\n",
       " ('Tunis', 'TUN', 'Tunisia', 'Northern Africa', 1056247.0),\n",
       " ('Bangkok', 'THA', 'Thailand', 'Southeast Asia', 8280925.0),\n",
       " ('Singapore', 'SGP', 'Singapore', 'Southeast Asia', 5535000.0),\n",
       " ('Dakar', 'SEN', 'Senegal', 'Western Africa', 1146053.0),\n",
       " ('Khartoum', 'SDN', 'Sudan', 'Northern Africa', 3639598.0),\n",
       " ('Jeddah', 'SAU', 'Saudi Arabia', 'Middle East', 3456259.0),\n",
       " ('Riyadh', 'SAU', 'Saudi Arabia', 'Middle East', 5676621.0),\n",
       " ('Moscow', 'RUS', 'Russian Federation', 'Eastern Europe', 12197596.0),\n",
       " ('Nizhny Novgorod', 'RUS', 'Russian Federation', 'Eastern Europe', 1250619.0),\n",
       " ('Novosibirsk', 'RUS', 'Russian Federation', 'Eastern Europe', 1567087.0),\n",
       " ('Omsk', 'RUS', 'Russian Federation', 'Eastern Europe', 1154116.0),\n",
       " ('Rostov-on-Don', 'RUS', 'Russian Federation', 'Eastern Europe', 1119900.0),\n",
       " ('Saint Petersburg',\n",
       "  'RUS',\n",
       "  'Russian Federation',\n",
       "  'Eastern Europe',\n",
       "  5191690.0),\n",
       " ('Yekaterinburg', 'RUS', 'Russian Federation', 'Eastern Europe', 1428042.0),\n",
       " ('Pyongyang', 'PRK', 'North Korea', 'Eastern Asia', 3255388.0),\n",
       " ('Warsaw', 'POL', 'Poland', 'Eastern Europe', 1753977.0),\n",
       " ('Caloocan', 'PHL', 'Philippines', 'Southeast Asia', 1583978.0),\n",
       " ('Davao City', 'PHL', 'Philippines', 'Southeast Asia', 1632991.0),\n",
       " ('Manila', 'PHL', 'Philippines', 'Southeast Asia', 1780148.0),\n",
       " ('Quezon City', 'PHL', 'Philippines', 'Southeast Asia', 2936116.0),\n",
       " ('Lima', 'PER', 'Peru', 'South America', 8852000.0),\n",
       " ('Faisalabad', 'PAK', 'Pakistan', 'Southern and Central Asia', 6480765.0),\n",
       " ('Gujranwala', 'PAK', 'Pakistan', 'Southern and Central Asia', 2700003.0),\n",
       " ('Hyderabad', 'PAK', 'Pakistan', 'Southern and Central Asia', 3429471.0),\n",
       " ('Islamabad', 'PAK', 'Pakistan', 'Southern and Central Asia', 1900000.0),\n",
       " ('Karachi', 'PAK', 'Pakistan', 'Southern and Central Asia', 27506000.0),\n",
       " ('Lahore', 'PAK', 'Pakistan', 'Southern and Central Asia', 10355000.0),\n",
       " ('Multan', 'PAK', 'Pakistan', 'Southern and Central Asia', 3117000.0),\n",
       " ('Peshawar', 'PAK', 'Pakistan', 'Southern and Central Asia', 3201000.0),\n",
       " ('Rawalpindi', 'PAK', 'Pakistan', 'Southern and Central Asia', 3198911.0),\n",
       " ('Auckland', 'NZL', 'New Zealand', 'Australia and New Zealand', 1495000.0),\n",
       " ('Managua', 'NIC', 'Nicaragua', 'Central America', 2560789.0),\n",
       " ('Abuja', 'NGA', 'Nigeria', 'Western Africa', 1235880.0),\n",
       " ('Ibadan', 'NGA', 'Nigeria', 'Western Africa', 1338659.0),\n",
       " ('Kano', 'NGA', 'Nigeria', 'Western Africa', 2153225.0),\n",
       " ('Lagos', 'NGA', 'Nigeria', 'Western Africa', 16060303.0),\n",
       " ('Kuala Lumpur', 'MYS', 'Malaysia', 'Southeast Asia', 1768000.0),\n",
       " ('Maputo', 'MOZ', 'Mozambique', 'Eastern Africa', 1766184.0),\n",
       " ('Mandalay', 'MMR', 'Myanmar', 'Southeast Asia', 1319452.0),\n",
       " ('Yangon', 'MMR', 'Myanmar', 'Southeast Asia', 5214000.0),\n",
       " ('Guadalajara', 'MEX', 'Mexico', 'Central America', 1495189.0),\n",
       " ('Mexico City', 'MEX', 'Mexico', 'Central America', 8974724.0),\n",
       " ('Monterrey', 'MEX', 'Mexico', 'Central America', 1130960.0),\n",
       " ('Tijuana', 'MEX', 'Mexico', 'Central America', 1696923.0),\n",
       " ('Casablanca', 'MAR', 'Morocco', 'Northern Africa', 5117832.0),\n",
       " ('Fez', 'MAR', 'Morocco', 'Northern Africa', 1112072.0),\n",
       " ('Tripoli', 'LBY', 'Libya', 'Northern Africa', 1126000.0),\n",
       " ('Busan', 'KOR', 'South Korea', 'Eastern Asia', 3510833.0),\n",
       " ('Daegu', 'KOR', 'South Korea', 'Eastern Asia', 2492994.0),\n",
       " ('Daejeon', 'KOR', 'South Korea', 'Eastern Asia', 1535028.0),\n",
       " ('Incheon', 'KOR', 'South Korea', 'Eastern Asia', 2978367.0),\n",
       " ('Kwangju', 'KOR', 'South Korea', 'Eastern Asia', 1477780.0),\n",
       " ('Seoul', 'KOR', 'South Korea', 'Eastern Asia', 9995784.0),\n",
       " ('Ulsan', 'KOR', 'South Korea', 'Eastern Asia', 1163690.0),\n",
       " ('Phnom Penh', 'KHM', 'Cambodia', 'Southeast Asia', 2234566.0),\n",
       " ('Nairobi', 'KEN', 'Kenya', 'Eastern Africa', 3138369.0),\n",
       " ('Almaty', 'KAZ', 'Kazakhstan', 'Southern and Central Asia', 1703481.0),\n",
       " ('Fukuoka', 'JPN', 'Japan', 'Eastern Asia', 1483052.0),\n",
       " ('Hiroshima', 'JPN', 'Japan', 'Eastern Asia', 1196274.0),\n",
       " ('Kawasaki', 'JPN', 'Japan', 'Eastern Asia', 1496035.0),\n",
       " ('Kobe', 'JPN', 'Japan', 'Eastern Asia', 1536499.0),\n",
       " ('Kyoto', 'JPN', 'Japan', 'Eastern Asia', 1474570.0),\n",
       " ('Nagoya', 'JPN', 'Japan', 'Eastern Asia', 2296014.0),\n",
       " ('Osaka', 'JPN', 'Japan', 'Eastern Asia', 2691742.0),\n",
       " ('Saitama', 'JPN', 'Japan', 'Eastern Asia', 1226656.0),\n",
       " ('Sapporo', 'JPN', 'Japan', 'Eastern Asia', 1918096.0),\n",
       " ('Tokyo', 'JPN', 'Japan', 'Eastern Asia', 13513734.0),\n",
       " ('Yokohama', 'JPN', 'Japan', 'Eastern Asia', 3726167.0),\n",
       " ('Milan', 'ITA', 'Italy', 'Southern Europe', 1359905.0),\n",
       " ('Rome', 'ITA', 'Italy', 'Southern Europe', 2877215.0),\n",
       " ('Baghdad', 'IRQ', 'Iraq', 'Middle East', 7180889.0),\n",
       " ('Basra', 'IRQ', 'Iraq', 'Middle East', 2750000.0),\n",
       " ('Isfahan', 'IRN', 'Iran', 'Southern and Central Asia', 2243249.0),\n",
       " ('Karaj', 'IRN', 'Iran', 'Southern and Central Asia', 1973470.0),\n",
       " ('Mashhad', 'IRN', 'Iran', 'Southern and Central Asia', 3312090.0),\n",
       " ('Shiraz', 'IRN', 'Iran', 'Southern and Central Asia', 1869001.0),\n",
       " ('Tabriz', 'IRN', 'Iran', 'Southern and Central Asia', 1733033.0),\n",
       " ('Tehran', 'IRN', 'Iran', 'Southern and Central Asia', 8154051.0),\n",
       " ('Ahmedabad', 'IND', 'India', 'Southern and Central Asia', 5570585.0),\n",
       " ('Bengaluru', 'IND', 'India', 'Southern and Central Asia', 8425970.0),\n",
       " ('Bhopal', 'IND', 'India', 'Southern and Central Asia', 1798218.0),\n",
       " ('Chennai', 'IND', 'India', 'Southern and Central Asia', 7088000.0),\n",
       " ('Delhi', 'IND', 'India', 'Southern and Central Asia', 16787941.0),\n",
       " ('Hyderabad (India)', 'IND', 'India', 'Southern and Central Asia', 7859250.0),\n",
       " ('Jaipur', 'IND', 'India', 'Southern and Central Asia', 3073350.0),\n",
       " ('Kanpur', 'IND', 'India', 'Southern and Central Asia', 2768057.0),\n",
       " ('Kochi', 'IND', 'India', 'Southern and Central Asia', 2232456.0),\n",
       " ('Kolkata', 'IND', 'India', 'Southern and Central Asia', 4486679.0),\n",
       " ('Lucknow', 'IND', 'India', 'Southern and Central Asia', 2815601.0),\n",
       " ('Mumbai', 'IND', 'India', 'Southern and Central Asia', 12478447.0),\n",
       " ('Nagpur', 'IND', 'India', 'Southern and Central Asia', 2405665.0),\n",
       " ('Patna', 'IND', 'India', 'Southern and Central Asia', 1683200.0),\n",
       " ('Pune', 'IND', 'India', 'Southern and Central Asia', 3115431.0),\n",
       " ('Surat', 'IND', 'India', 'Southern and Central Asia', 4462002.0),\n",
       " ('Vijayawada', 'IND', 'India', 'Southern and Central Asia', 1491202.0),\n",
       " ('Visakhapatnam', 'IND', 'India', 'Southern and Central Asia', 2035922.0),\n",
       " ('Bandung', 'IDN', 'Indonesia', 'Southeast Asia', 2575478.0),\n",
       " ('Jakarta', 'IDN', 'Indonesia', 'Southeast Asia', 10075310.0),\n",
       " ('Makassar', 'IDN', 'Indonesia', 'Southeast Asia', 1338633.0),\n",
       " ('Medan', 'IDN', 'Indonesia', 'Southeast Asia', 2097610.0),\n",
       " ('Palembang', 'IDN', 'Indonesia', 'Southeast Asia', 1708413.0),\n",
       " ('Semarang', 'IDN', 'Indonesia', 'Southeast Asia', 1555984.0),\n",
       " ('Surabaya', 'IDN', 'Indonesia', 'Southeast Asia', 2765487.0),\n",
       " ('Budapest', 'HUN', 'Hungary', 'Eastern Europe', 1759407.0),\n",
       " ('Guatemala City', 'GTM', 'Guatemala', 'Central America', 2110100.0),\n",
       " ('Accra', 'GHA', 'Ghana', 'Western Africa', 2070463.0),\n",
       " (\"T'bilisi\", 'GEO', 'Georgia', 'Middle East', 1118035.0),\n",
       " ('Birmingham', 'GBR', 'United Kingdom', 'British Islands', 1111300.0),\n",
       " ('London', 'GBR', 'United Kingdom', 'British Islands', 8673713.0),\n",
       " ('Paris', 'FRA', 'France', 'Western Europe', 2229621.0),\n",
       " ('Addis Ababa', 'ETH', 'Ethiopia', 'Eastern Africa', 3103673.0),\n",
       " ('Barcelona', 'ESP', 'Spain', 'Southern Europe', 1604555.0),\n",
       " ('Madrid', 'ESP', 'Spain', 'Southern Europe', 3207247.0),\n",
       " ('Alexandria', 'EGY', 'Egypt', 'Northern Africa', 4616625.0),\n",
       " ('Cairo', 'EGY', 'Egypt', 'Northern Africa', 10230350.0),\n",
       " ('Giza', 'EGY', 'Egypt', 'Northern Africa', 4239988.0),\n",
       " ('Guayaquil', 'ECU', 'Ecuador', 'South America', 3600000.0),\n",
       " ('Quito', 'ECU', 'Ecuador', 'South America', 2671191.0),\n",
       " ('Algiers', 'DZA', 'Algeria', 'Northern Africa', 3415811.0),\n",
       " ('Oran', 'DZA', 'Algeria', 'Northern Africa', 1560329.0),\n",
       " ('Berlin', 'DEU', 'Germany', 'Western Europe', 3517424.0),\n",
       " ('Cologne', 'DEU', 'Germany', 'Western Europe', 1057327.0),\n",
       " ('Hamburg', 'DEU', 'Germany', 'Western Europe', 1787408.0),\n",
       " ('Munich', 'DEU', 'Germany', 'Western Europe', 1450381.0),\n",
       " ('Prague', 'CZE', 'Czech Republic', 'Eastern Europe', 1324000.0),\n",
       " ('Havana', 'CUB', 'Cuba', 'Caribbean', 2106146.0),\n",
       " ('Barranquilla', 'COL', 'Colombia', 'South America', 1386865.0),\n",
       " ('Bogota', 'COL', 'Colombia', 'South America', 7878783.0),\n",
       " ('Cali', 'COL', 'Colombia', 'South America', 2400653.0),\n",
       " ('Medellin', 'COL', 'Colombia', 'South America', 2441123.0),\n",
       " ('Brazzaville', 'COG', 'Congo', 'Central Africa', 1827000.0),\n",
       " ('Kinshasa',\n",
       "  'COD',\n",
       "  'Congo, The Democratic Republic of the',\n",
       "  'Central Africa',\n",
       "  10130000.0),\n",
       " ('Douala', 'CMR', 'Cameroon', 'Central Africa', 2446945.0),\n",
       " ('Yaounde', 'CMR', 'Cameroon', 'Central Africa', 2440462.0),\n",
       " ('Abidjan', 'CIV', \"Cote d'Ivoire\", 'Western Africa', 4765000.0),\n",
       " ('Beijing', 'CHN', 'China', 'Eastern Asia', 21516000.0),\n",
       " ('Changchun', 'CHN', 'China', 'Eastern Asia', 3815270.0),\n",
       " ('Changsha', 'CHN', 'China', 'Eastern Asia', 7044118.0),\n",
       " ('Chaozhou', 'CHN', 'China', 'Eastern Asia', 2669844.0),\n",
       " ('Chengdu', 'CHN', 'China', 'Eastern Asia', 4741929.0),\n",
       " ('Chongqing', 'CHN', 'China', 'Eastern Asia', 8189800.0),\n",
       " ('Dalian', 'CHN', 'China', 'Eastern Asia', 2146099.0),\n",
       " ('Dongguan', 'CHN', 'China', 'Eastern Asia', 8220207.0),\n",
       " ('Foshan', 'CHN', 'China', 'Eastern Asia', 6151622.0),\n",
       " ('Fuzhou', 'CHN', 'China', 'Eastern Asia', 7115369.0),\n",
       " ('Guangzhou', 'CHN', 'China', 'Eastern Asia', 14043500.0),\n",
       " ('Hangzhou', 'CHN', 'China', 'Eastern Asia', 3560391.0),\n",
       " ('Harbin', 'CHN', 'China', 'Eastern Asia', 4280701.0),\n",
       " ('Hefei', 'CHN', 'China', 'Eastern Asia', 3352076.0),\n",
       " ('Hong Kong', 'CHN', 'China', 'Eastern Asia', 7374900.0),\n",
       " ('Jinan', 'CHN', 'China', 'Eastern Asia', 2009273.0),\n",
       " ('Lanzhou', 'CHN', 'China', 'Eastern Asia', 2177130.0),\n",
       " ('Nanjing', 'CHN', 'China', 'Eastern Asia', 8230000.0),\n",
       " ('Ningbo', 'CHN', 'China', 'Eastern Asia', 3491597.0),\n",
       " ('Qingdao', 'CHN', 'China', 'Eastern Asia', 6188100.0),\n",
       " ('Quanzhou', 'CHN', 'China', 'Eastern Asia', 8128533.0),\n",
       " ('Shanghai', 'CHN', 'China', 'Eastern Asia', 24256800.0),\n",
       " ('Shantou', 'CHN', 'China', 'Eastern Asia', 5391028.0),\n",
       " ('Shenyang', 'CHN', 'China', 'Eastern Asia', 8106171.0),\n",
       " ('Shenzhen', 'CHN', 'China', 'Eastern Asia', 10778900.0),\n",
       " ('Shijiazhuang', 'CHN', 'China', 'Eastern Asia', 4303700.0),\n",
       " ('Suzhou', 'CHN', 'China', 'Eastern Asia', 10650501.0),\n",
       " ('Tangshan', 'CHN', 'China', 'Eastern Asia', 3187171.0),\n",
       " ('Tianjin', 'CHN', 'China', 'Eastern Asia', 6859779.0),\n",
       " ('Wenzhou', 'CHN', 'China', 'Eastern Asia', 3039439.0),\n",
       " ('Wuhan', 'CHN', 'China', 'Eastern Asia', 6886253.0),\n",
       " (\"Xi'an\", 'CHN', 'China', 'Eastern Asia', 8705600.0),\n",
       " ('Xiamen', 'CHN', 'China', 'Eastern Asia', 3531347.0),\n",
       " ('Zhengzhou', 'CHN', 'China', 'Eastern Asia', 4122087.0),\n",
       " ('Zhongshan', 'CHN', 'China', 'Eastern Asia', 3121275.0),\n",
       " ('Zunyi', 'CHN', 'China', 'Eastern Asia', 6127009.0),\n",
       " ('Santiago', 'CHL', 'Chile', 'South America', 5743719.0),\n",
       " ('Calgary', 'CAN', 'Canada', 'North America', 1235171.0),\n",
       " ('Montreal', 'CAN', 'Canada', 'North America', 1649519.0),\n",
       " ('Toronto', 'CAN', 'Canada', 'North America', 2731571.0),\n",
       " ('Belo Horizonte', 'BRA', 'Brazil', 'South America', 2502557.0),\n",
       " ('Brasilia', 'BRA', 'Brazil', 'South America', 2556149.0),\n",
       " ('Campinas', 'BRA', 'Brazil', 'South America', 1164098.0),\n",
       " ('Curitiba', 'BRA', 'Brazil', 'South America', 1879355.0),\n",
       " ('Fortaleza', 'BRA', 'Brazil', 'South America', 2609716.0),\n",
       " ('Porto Alegre', 'BRA', 'Brazil', 'South America', 1476867.0),\n",
       " ('Recife', 'BRA', 'Brazil', 'South America', 1555039.0),\n",
       " ('Rio de Janeiro', 'BRA', 'Brazil', 'South America', 6429923.0),\n",
       " ('Salvador', 'BRA', 'Brazil', 'South America', 2902927.0),\n",
       " ('Sao Paulo', 'BRA', 'Brazil', 'South America', 12038175.0),\n",
       " ('Santa Cruz de la Sierra', 'BOL', 'Bolivia', 'South America', 1453549.0),\n",
       " ('Minsk', 'BLR', 'Belarus', 'Eastern Europe', 1959781.0),\n",
       " ('Chittagong', 'BGD', 'Bangladesh', 'Southern and Central Asia', 2581643.0),\n",
       " ('Dhaka', 'BGD', 'Bangladesh', 'Southern and Central Asia', 14543124.0),\n",
       " ('Ouagadougou', 'BFA', 'Burkina Faso', 'Western Africa', 2200000.0),\n",
       " ('Baku', 'AZE', 'Azerbaijan', 'Middle East', 3202300.0),\n",
       " ('Vienna', 'AUT', 'Austria', 'Western Europe', 1863881.0),\n",
       " ('Brisbane', 'AUS', 'Australia', 'Australia and New Zealand', 1180285.0),\n",
       " ('Yerevan', 'ARM', 'Armenia', 'Middle East', 1060138.0),\n",
       " ('Buenos Aires', 'ARG', 'Argentina', 'South America', 3054300.0),\n",
       " ('Cordoba', 'ARG', 'Argentina', 'South America', 1330023.0),\n",
       " ('Rosario', 'ARG', 'Argentina', 'South America', 1193605.0),\n",
       " ('Abu Dhabi', 'ARE', 'United Arab Emirates', 'Middle East', 1145000.0),\n",
       " ('Dubai', 'ARE', 'United Arab Emirates', 'Middle East', 2643410.0),\n",
       " ('Luanda', 'AGO', 'Angola', 'Central Africa', 2825311.0),\n",
       " ('Kabul', 'AFG', 'Afghanistan', 'Southern and Central Asia', 3414100.0),\n",
       " ('Bucharest', None, None, None, 1883425.0),\n",
       " ('Kaohsiung', None, None, None, 2778918.0),\n",
       " ('New Taipei City', None, None, None, 3954929.0),\n",
       " ('Taichung', None, None, None, 2752413.0),\n",
       " ('Tainan', None, None, None, 1885252.0),\n",
       " ('Taipei', None, None, None, 2704974.0)]"
      ]
     },
     "execution_count": 127,
     "metadata": {},
     "output_type": "execute_result"
    }
   ],
   "source": [
    "# -- Join right table (with alias)\n",
    "cur.execute(\"\"\"\n",
    "            \n",
    "            SELECT c1.name AS city, code, c2.name AS country, region, city_proper_pop \n",
    "            FROM cities AS c1 \n",
    "            LEFT JOIN countries AS c2 ON c1.country_code = c2.code \n",
    "            ORDER BY code DESC;\n",
    "            \n",
    "            \"\"\").fetchall()"
   ]
  },
  {
   "attachments": {},
   "cell_type": "markdown",
   "metadata": {},
   "source": [
    "## 5.3.4 Building on your LEFT JOIN"
   ]
  },
  {
   "cell_type": "code",
   "execution_count": 128,
   "metadata": {},
   "outputs": [
    {
     "data": {
      "text/plain": [
       "[('Afghanistan', 'Southern and Central Asia', 539.667),\n",
       " ('Angola', 'Central Africa', 3599.27),\n",
       " ('Albania', 'Southern Europe', 4098.13),\n",
       " ('United Arab Emirates', 'Middle East', 34628.63),\n",
       " ('Argentina', 'South America', 10412.95),\n",
       " ('Armenia', 'Middle East', 3121.78),\n",
       " ('Antigua and Barbuda', 'Caribbean', 13531.78),\n",
       " ('Australia', 'Australia and New Zealand', 56362.84),\n",
       " ('Austria', 'Western Europe', 46757.13),\n",
       " ('Azerbaijan', 'Middle East', 5847.26),\n",
       " ('Burundi', 'Eastern Africa', 242.84),\n",
       " ('Belgium', 'Western Europe', 44691.32),\n",
       " ('Benin', 'Western Africa', 734.278),\n",
       " ('Burkina Faso', 'Western Africa', 588.584),\n",
       " ('Bangladesh', 'Southern and Central Asia', 807.531),\n",
       " ('Bulgaria', 'Eastern Europe', 6743.74),\n",
       " ('Bahrain', 'Middle East', 20823.22),\n",
       " ('Bahamas', 'Caribbean', 22957.79),\n",
       " ('Bosnia and Herzegovina', 'Southern Europe', 4404.37),\n",
       " ('Belarus', 'Eastern Europe', 6023.15),\n",
       " ('Belize', 'Central America', 4321.29),\n",
       " ('Bolivia', 'South America', 1994.91),\n",
       " ('Brazil', 'South America', 11297.84),\n",
       " ('Barbados', 'Caribbean', 16079.89),\n",
       " ('Brunei', 'Southeast Asia', 35437.22),\n",
       " ('Bhutan', 'Southern and Central Asia', 1998.75),\n",
       " ('Botswana', 'Southern Africa', 6853.67),\n",
       " ('Central African Republic', 'Central Africa', 456.564),\n",
       " ('Canada', 'North America', 47512.68),\n",
       " ('Switzerland', 'Western Europe', 74570.66),\n",
       " ('Chile', 'South America', 12789.76),\n",
       " ('China', 'Eastern Asia', 4524.06),\n",
       " (\"Cote d'Ivoire\", 'Western Africa', 1195.44),\n",
       " ('Cameroon', 'Central Africa', 1158.78),\n",
       " ('Congo, The Democratic Republic of the', 'Central Africa', 292.955),\n",
       " ('Congo', 'Central Africa', 3183.68),\n",
       " ('Colombia', 'South America', 6305.29),\n",
       " ('Comoros', 'Eastern Africa', 789.466),\n",
       " ('Cape Verde', 'Western Africa', 3413.26),\n",
       " ('Costa Rica', 'Central America', 8300.69),\n",
       " ('Cyprus', 'Middle East', 31262.53),\n",
       " ('Czech Republic', 'Eastern Europe', 19787.29),\n",
       " ('Germany', 'Western Europe', 42641.68),\n",
       " ('Djibouti', 'Eastern Africa', 1306.54),\n",
       " ('Dominica', 'Caribbean', 6975.99),\n",
       " ('Denmark', 'Nordic Countries', 58177.16),\n",
       " ('Dominican Republic', 'Caribbean', 5685.77),\n",
       " ('Algeria', 'Northern Africa', 4480.72),\n",
       " ('Ecuador', 'South America', 4633.25),\n",
       " ('Egypt', 'Northern Africa', 2921.76),\n",
       " ('Eritrea', 'Eastern Africa', 395.645),\n",
       " ('Spain', 'Southern Europe', 30802.85),\n",
       " ('Estonia', 'Baltic Countries', 14654.28),\n",
       " ('Ethiopia', 'Eastern Africa', 360.829),\n",
       " ('Finland', 'Nordic Countries', 46391.71),\n",
       " ('Fiji Islands', 'Melanesia', 3780.24),\n",
       " ('France', 'Western Europe', 42249.06),\n",
       " ('Micronesia, Federated States of', 'Micronesia', 2888.18),\n",
       " ('Gabon', 'Central Africa', 8917.32),\n",
       " ('United Kingdom', 'British Islands', 38737.56),\n",
       " ('Georgia', 'Middle East', 2951.24),\n",
       " ('Ghana', 'Western Africa', 1357.64),\n",
       " ('Guinea', 'Western Africa', 435.728),\n",
       " ('Gambia', 'Western Africa', 562.2),\n",
       " ('Guinea-Bissau', 'Western Africa', 582.54),\n",
       " ('Equatorial Guinea', 'Central Africa', 23411.83),\n",
       " ('Greece', 'Southern Europe', 26972.87),\n",
       " ('Grenada', 'Caribbean', 7365.67),\n",
       " ('Guatemala', 'Central America', 2875.31),\n",
       " ('Guyana', 'South America', 3004.23),\n",
       " ('Honduras', 'Central America', 2096.2),\n",
       " ('Croatia', 'Southern Europe', 13505.03),\n",
       " ('Haiti', 'Caribbean', 662.013),\n",
       " ('Hungary', 'Eastern Europe', 13007.56),\n",
       " ('Indonesia', 'Southeast Asia', 3178.13),\n",
       " ('India', 'Southern and Central Asia', 1429.6),\n",
       " ('Ireland', 'British Islands', 48439.1),\n",
       " ('Iran', 'Southern and Central Asia', 6252.52),\n",
       " ('Iraq', 'Middle East', 4473.71),\n",
       " ('Iceland', 'Nordic Countries', 41622.66),\n",
       " ('Israel', 'Middle East', 30673.39),\n",
       " ('Italy', 'Southern Europe', 35969.19),\n",
       " ('Jamaica', 'Caribbean', 4812.07),\n",
       " ('Jordan', 'Middle East', 4322.82),\n",
       " ('Japan', 'Eastern Asia', 44673.61),\n",
       " ('Kazakhstan', 'Southern and Central Asia', 9008.71),\n",
       " ('Kenya', 'Eastern Africa', 1038.95),\n",
       " ('Kyrgyzstan', 'Southern and Central Asia', 875.264),\n",
       " ('Cambodia', 'Southeast Asia', 781.912),\n",
       " ('Kiribati', 'Micronesia', 1490.9),\n",
       " ('Saint Kitts and Nevis', 'Caribbean', 13466.83),\n",
       " ('South Korea', 'Eastern Asia', 22086.95),\n",
       " ('Kuwait', 'Middle East', 32216.41),\n",
       " ('Laos', 'Southeast Asia', 1069.75),\n",
       " ('Lebanon', 'Middle East', 8755.85),\n",
       " ('Liberia', 'Western Africa', 341.985),\n",
       " ('Libya', 'Northern Africa', 12149.59),\n",
       " ('Saint Lucia', 'Caribbean', 7491.66),\n",
       " ('Sri Lanka', 'Southern and Central Asia', 2779.74),\n",
       " ('Lesotho', 'Southern Africa', 1364.36),\n",
       " ('Lithuania', 'Baltic Countries', 12010.68),\n",
       " ('Luxembourg', 'Western Europe', 105573.58),\n",
       " ('Latvia', 'Baltic Countries', 11228.13),\n",
       " ('Macao', 'Eastern Asia', 50921.11),\n",
       " ('Morocco', 'Northern Africa', 2926.67),\n",
       " ('Moldova', 'Eastern Europe', 1632.78),\n",
       " ('Madagascar', 'Eastern Africa', 414.143),\n",
       " ('Maldives', 'Southern and Central Asia', 7259.49),\n",
       " ('Mexico', 'Central America', 9199.8),\n",
       " ('Marshall Islands', 'Micronesia', 3113.18),\n",
       " ('Macedonia', 'Southern Europe', 4576.23),\n",
       " ('Mali', 'Western Africa', 764.957),\n",
       " ('Malta', 'Southern Europe', 21150.42),\n",
       " ('Myanmar', 'Southeast Asia', 996.632),\n",
       " ('Mongolia', 'Eastern Asia', 2608.31),\n",
       " ('Mozambique', 'Eastern Africa', 429.948),\n",
       " ('Mauritania', 'Western Africa', 1318.07),\n",
       " ('Mauritius', 'Eastern Africa', 7772.13),\n",
       " ('Malawi', 'Eastern Africa', 442.765),\n",
       " ('Malaysia', 'Southeast Asia', 8920.48),\n",
       " ('Namibia', 'Southern Africa', 5410.98),\n",
       " ('Niger', 'Western Africa', 378.205),\n",
       " ('Nigeria', 'Western Africa', 2365.01),\n",
       " ('Nicaragua', 'Central America', 1523.48),\n",
       " ('Netherlands', 'Western Europe', 50433.31),\n",
       " ('Norway', 'Nordic Countries', 87309.3),\n",
       " ('Nepal', 'Southern and Central Asia', 595.395),\n",
       " ('Nauru', 'Micronesia', 4936.67),\n",
       " ('New Zealand', 'Australia and New Zealand', 33221.93),\n",
       " ('Oman', 'Middle East', 20327.06),\n",
       " ('Pakistan', 'Southern and Central Asia', 1026.63),\n",
       " ('Panama', 'Central America', 7896.91),\n",
       " ('Peru', 'South America', 5008.68),\n",
       " ('Philippines', 'Southeast Asia', 2155.41),\n",
       " ('Palau', 'Micronesia', 10059.33),\n",
       " ('Papua New Guinea', 'Melanesia', 2151.07),\n",
       " ('Poland', 'Eastern Europe', 12601.91),\n",
       " ('Puerto Rico', 'Caribbean', 26435.74),\n",
       " ('Portugal', 'Southern Europe', 22580.68),\n",
       " ('Paraguay', 'South America', 3199.48),\n",
       " ('Qatar', 'Middle East', 76413.23),\n",
       " ('Russian Federation', 'Eastern Europe', 11445.13),\n",
       " ('Rwanda', 'Eastern Africa', 577.411),\n",
       " ('Saudi Arabia', 'Middle East', 19112.69),\n",
       " ('Sudan', 'Northern Africa', 1627.5),\n",
       " ('Senegal', 'Western Africa', 999.775),\n",
       " ('Singapore', 'Southeast Asia', 46569.4),\n",
       " ('Solomon Islands', 'Melanesia', 1275.88),\n",
       " ('Sierra Leone', 'Western Africa', 448.198),\n",
       " ('El Salvador', 'Central America', 3546.08),\n",
       " ('San Marino', 'Southern Europe', 64631.16),\n",
       " ('Sao Tome and Principe', 'Central Africa', 1107.87),\n",
       " ('Suriname', 'South America', 8224.07),\n",
       " ('Slovakia', 'Eastern Europe', 16634.74),\n",
       " ('Slovenia', 'Southern Europe', 23499.59),\n",
       " ('Sweden', 'Nordic Countries', 51869.16),\n",
       " ('Swaziland', 'Southern Africa', 4267.04),\n",
       " ('Seychelles', 'Eastern Africa', 10805.1),\n",
       " ('Syria', 'Middle East', 2806.69),\n",
       " ('Chad', 'Central Africa', 1046.89),\n",
       " ('Togo', 'Western Africa', 497.408),\n",
       " ('Thailand', 'Southeast Asia', 5065.38),\n",
       " ('Tajikistan', 'Southern and Central Asia', 740.733),\n",
       " ('Turkmenistan', 'Southern and Central Asia', 4479.01),\n",
       " ('Tonga', 'Polynesia', 3843.11),\n",
       " ('Trinidad and Tobago', 'Caribbean', 16683.99),\n",
       " ('Tunisia', 'Northern Africa', 4176.93),\n",
       " ('Turkey', 'Middle East', 10475.61),\n",
       " ('Tuvalu', 'Polynesia', 3076.88),\n",
       " ('Tanzania', 'Eastern Africa', 725.765),\n",
       " ('Uganda', 'Eastern Africa', 594.461),\n",
       " ('Ukraine', 'Eastern Europe', 2982.81),\n",
       " ('Uruguay', 'South America', 11859.9),\n",
       " ('United States', 'North America', 48310.34),\n",
       " ('Uzbekistan', 'Southern and Central Asia', 1367.13),\n",
       " ('Saint Vincent and the Grenadines', 'Caribbean', 6224.22),\n",
       " ('Venezuela', 'South America', 10316.83),\n",
       " ('Vietnam', 'Southeast Asia', 1297.23),\n",
       " ('Vanuatu', 'Melanesia', 2923.25),\n",
       " ('Samoa', 'Polynesia', 3434.1),\n",
       " ('Yemen', 'Middle East', 1266.79),\n",
       " ('South Africa', 'Southern Africa', 7361.94),\n",
       " ('Zambia', 'Eastern Africa', 1456.16),\n",
       " ('Zimbabwe', 'Eastern Africa', 765.418)]"
      ]
     },
     "execution_count": 128,
     "metadata": {},
     "output_type": "execute_result"
    }
   ],
   "source": [
    "# -- Match on code fields, Filter for the year 2010\n",
    "cur.execute(\"\"\"\n",
    "            \n",
    "            SELECT name, region, gdp_percapita\n",
    "            FROM countries AS c\n",
    "            LEFT JOIN economies AS e\n",
    "            ON c.code = e.code\n",
    "            WHERE year = 2010;\n",
    "            \n",
    "            \"\"\").fetchall()"
   ]
  },
  {
   "cell_type": "code",
   "execution_count": 129,
   "metadata": {},
   "outputs": [
    {
     "data": {
      "text/plain": [
       "[('Australia and New Zealand', 44792.384999999995),\n",
       " ('Baltic Countries', 12631.029999999999),\n",
       " ('British Islands', 43588.33),\n",
       " ('Caribbean', 11413.339461538462),\n",
       " ('Central Africa', 4797.239888888889),\n",
       " ('Central America', 4969.969999999999),\n",
       " ('Eastern Africa', 1757.3481875),\n",
       " ('Eastern Asia', 24962.807999999997),\n",
       " ('Eastern Europe', 10095.456666666667),\n",
       " ('Melanesia', 2532.6099999999997),\n",
       " ('Micronesia', 4497.652),\n",
       " ('Middle East', 18204.64176470588),\n",
       " ('Nordic Countries', 57073.998),\n",
       " ('North America', 47911.509999999995),\n",
       " ('Northern Africa', 4713.861666666667),\n",
       " ('Polynesia', 3451.3633333333332),\n",
       " ('South America', 7420.599166666667),\n",
       " ('Southeast Asia', 10547.154400000001),\n",
       " ('Southern Africa', 5051.598),\n",
       " ('Southern Europe', 22926.410909090908),\n",
       " ('Southern and Central Asia', 2797.1549999999997),\n",
       " ('Western Africa', 998.9548750000001),\n",
       " ('Western Europe', 58130.962857142855)]"
      ]
     },
     "execution_count": 129,
     "metadata": {},
     "output_type": "execute_result"
    }
   ],
   "source": [
    "# -- Select region, and average gdp_percapita as avg_gdp, Group by region\n",
    "cur.execute(\"\"\"\n",
    "            \n",
    "            SELECT region, AVG(gdp_percapita) AS avg_gdp\n",
    "            FROM countries AS c\n",
    "            LEFT JOIN economies AS e\n",
    "            USING(code)\n",
    "            WHERE year = 2010\n",
    "            GROUP BY region;\n",
    "            \n",
    "            \"\"\").fetchall()\n"
   ]
  },
  {
   "cell_type": "code",
   "execution_count": 130,
   "metadata": {},
   "outputs": [
    {
     "data": {
      "text/plain": [
       "[('Western Europe', 58130.962857142855),\n",
       " ('Nordic Countries', 57073.998),\n",
       " ('North America', 47911.509999999995),\n",
       " ('Australia and New Zealand', 44792.384999999995),\n",
       " ('British Islands', 43588.33),\n",
       " ('Eastern Asia', 24962.807999999997),\n",
       " ('Southern Europe', 22926.410909090908),\n",
       " ('Middle East', 18204.64176470588),\n",
       " ('Baltic Countries', 12631.029999999999),\n",
       " ('Caribbean', 11413.339461538462)]"
      ]
     },
     "execution_count": 130,
     "metadata": {},
     "output_type": "execute_result"
    }
   ],
   "source": [
    "# -- Order by descending avg_gdp, Return only first 10 records\n",
    "cur.execute(\"\"\"\n",
    "            \n",
    "            SELECT region, AVG(gdp_percapita) AS avg_gdp\n",
    "            FROM countries AS c\n",
    "            LEFT JOIN economies AS e\n",
    "            USING(code)\n",
    "            WHERE year = 2010\n",
    "            GROUP BY region\n",
    "            ORDER BY avg_gdp DESC\n",
    "            LIMIT 10;\n",
    "            \n",
    "            \"\"\").fetchall()"
   ]
  },
  {
   "attachments": {},
   "cell_type": "markdown",
   "metadata": {},
   "source": [
    "## 5.3.5 Is this RIGHT?\n",
    "\n",
    "Note: RIGHT and FULL OUTER JOINs are not currently supported in SQLITE3"
   ]
  },
  {
   "cell_type": "code",
   "execution_count": 131,
   "metadata": {},
   "outputs": [],
   "source": [
    "# -- Modify this query to use RIGHT JOIN instead of LEFT JOIN\n",
    "# cur.execute(\"\"\"\n",
    "            \n",
    "#             SELECT countries.name AS country, languages.name AS language, percent\n",
    "#             FROM languages\n",
    "#             RIGHT JOIN countries\n",
    "#             USING(code)\n",
    "#             ORDER BY language;\n",
    "            \n",
    "#             \"\"\").fetchall()"
   ]
  },
  {
   "attachments": {},
   "cell_type": "markdown",
   "metadata": {},
   "source": [
    "## 5.3.7 Comparing joins"
   ]
  },
  {
   "cell_type": "code",
   "execution_count": 132,
   "metadata": {},
   "outputs": [],
   "source": [
    "# # -- Join to currencies, Where region is North America or name is null\n",
    "# cur.execute(\"\"\"\n",
    "            \n",
    "#             SELECT name AS country, code, region, basic_unit\n",
    "#             FROM countries\n",
    "#             FULL JOIN currencies\n",
    "#             USING (code)\n",
    "#             WHERE region = 'North America' OR region IS NULL\n",
    "#             ORDER BY region;\n",
    "            \n",
    "#             \"\"\").fetchall()"
   ]
  },
  {
   "cell_type": "code",
   "execution_count": 133,
   "metadata": {},
   "outputs": [
    {
     "data": {
      "text/plain": [
       "[('Bermuda', 'BMU', 'North America', 'Bermudian dollar'),\n",
       " ('Greenland', 'GRL', 'North America', None),\n",
       " ('Canada', 'CAN', 'North America', 'Canadian dollar'),\n",
       " ('United States', 'USA', 'North America', 'United States dollar')]"
      ]
     },
     "execution_count": 133,
     "metadata": {},
     "output_type": "execute_result"
    }
   ],
   "source": [
    "# -- replace FULL JOIN for LEFT JOIN\n",
    "cur.execute(\"\"\"\n",
    "            \n",
    "            SELECT name AS country, code, region, basic_unit\n",
    "            FROM countries\n",
    "            LEFT JOIN currencies\n",
    "            USING (code)\n",
    "            WHERE region = 'North America' \n",
    "                OR name IS NULL\n",
    "            ORDER BY region;\n",
    "            \n",
    "            \"\"\").fetchall()"
   ]
  },
  {
   "cell_type": "code",
   "execution_count": 134,
   "metadata": {},
   "outputs": [
    {
     "data": {
      "text/plain": [
       "[('Bermuda', 'BMU', 'North America', 'Bermudian dollar'),\n",
       " ('Canada', 'CAN', 'North America', 'Canadian dollar'),\n",
       " ('United States', 'USA', 'North America', 'United States dollar')]"
      ]
     },
     "execution_count": 134,
     "metadata": {},
     "output_type": "execute_result"
    }
   ],
   "source": [
    "# -- replace FULL JOIN for INNER JOIN\n",
    "cur.execute(\"\"\"\n",
    "            \n",
    "            SELECT name AS country, code, region, basic_unit\n",
    "            FROM countries\n",
    "            INNER JOIN currencies\n",
    "            USING (code)\n",
    "            WHERE region = 'North America' \n",
    "                OR name IS NULL\n",
    "            ORDER BY region;\n",
    "            \n",
    "            \"\"\").fetchall()"
   ]
  },
  {
   "attachments": {},
   "cell_type": "markdown",
   "metadata": {},
   "source": [
    "## 5.3.8 Chaining FULL JOINs"
   ]
  },
  {
   "cell_type": "code",
   "execution_count": 135,
   "metadata": {},
   "outputs": [],
   "source": [
    "# # -- Full join with languages, Full join with currencies\n",
    "# cur.execute(\"\"\"\n",
    "            \n",
    "#             SELECT \n",
    "#                 c1.name AS country, \n",
    "#                 region, \n",
    "#                 l.name AS language,\n",
    "#                 basic_unit, \n",
    "#                 frac_unit\n",
    "#             FROM countries as c1 \n",
    "#             FULL JOIN languages AS l\n",
    "#             USING(code)\n",
    "#             FULL JOIN currencies AS c2\n",
    "#             USING(code)\n",
    "#             WHERE region LIKE 'M%esia';\n",
    "            \n",
    "#             \"\"\").fetchall()"
   ]
  },
  {
   "attachments": {},
   "cell_type": "markdown",
   "metadata": {},
   "source": [
    "## 5.3.10 Histories and languages"
   ]
  },
  {
   "cell_type": "code",
   "execution_count": 136,
   "metadata": {},
   "outputs": [
    {
     "data": {
      "text/plain": [
       "[('India', 'Hindi'),\n",
       " ('India', 'Bengali'),\n",
       " ('India', 'Telugu'),\n",
       " ('India', 'Marathi'),\n",
       " ('India', 'Tamil'),\n",
       " ('India', 'Urdu'),\n",
       " ('India', 'Gujarati'),\n",
       " ('India', 'Kannada'),\n",
       " ('India', 'Malayalam'),\n",
       " ('India', 'Oriya'),\n",
       " ('India', 'Punjabi'),\n",
       " ('India', 'Assamese'),\n",
       " ('India', 'Maithili'),\n",
       " ('India', 'Other'),\n",
       " ('Pakistan', 'Punjabi'),\n",
       " ('Pakistan', 'Sindhi'),\n",
       " ('Pakistan', 'Saraiki'),\n",
       " ('Pakistan', 'Pashto'),\n",
       " ('Pakistan', 'Urdu'),\n",
       " ('Pakistan', 'Balochi'),\n",
       " ('Pakistan', 'Hindko'),\n",
       " ('Pakistan', 'Brahui'),\n",
       " ('Pakistan', 'English'),\n",
       " ('Pakistan', 'Burushaski'),\n",
       " ('Pakistan', 'Other')]"
      ]
     },
     "execution_count": 136,
     "metadata": {},
     "output_type": "execute_result"
    }
   ],
   "source": [
    "# -- Inner join countries as c with languages as l on code\n",
    "cur.execute(\"\"\"\n",
    "            \n",
    "            SELECT c.name AS country, l.name AS language\n",
    "            FROM countries AS c\n",
    "            -- Inner join countries as c with languages as l on code\n",
    "            INNER JOIN languages AS l\n",
    "            USING(code)\n",
    "            WHERE c.code IN ('PAK','IND')\n",
    "                AND l.code in ('PAK','IND');\n",
    "            \n",
    "            \"\"\").fetchall()"
   ]
  },
  {
   "cell_type": "code",
   "execution_count": 137,
   "metadata": {},
   "outputs": [
    {
     "data": {
      "text/plain": [
       "[('India', 'Hindi'),\n",
       " ('India', 'Bengali'),\n",
       " ('India', 'Telugu'),\n",
       " ('India', 'Marathi'),\n",
       " ('India', 'Tamil'),\n",
       " ('India', 'Urdu'),\n",
       " ('India', 'Gujarati'),\n",
       " ('India', 'Kannada'),\n",
       " ('India', 'Malayalam'),\n",
       " ('India', 'Oriya'),\n",
       " ('India', 'Punjabi'),\n",
       " ('India', 'Assamese'),\n",
       " ('India', 'Maithili'),\n",
       " ('India', 'Other'),\n",
       " ('India', 'Punjabi'),\n",
       " ('India', 'Sindhi'),\n",
       " ('India', 'Saraiki'),\n",
       " ('India', 'Pashto'),\n",
       " ('India', 'Urdu'),\n",
       " ('India', 'Balochi'),\n",
       " ('India', 'Hindko'),\n",
       " ('India', 'Brahui'),\n",
       " ('India', 'English'),\n",
       " ('India', 'Burushaski'),\n",
       " ('India', 'Other'),\n",
       " ('Pakistan', 'Hindi'),\n",
       " ('Pakistan', 'Bengali'),\n",
       " ('Pakistan', 'Telugu'),\n",
       " ('Pakistan', 'Marathi'),\n",
       " ('Pakistan', 'Tamil'),\n",
       " ('Pakistan', 'Urdu'),\n",
       " ('Pakistan', 'Gujarati'),\n",
       " ('Pakistan', 'Kannada'),\n",
       " ('Pakistan', 'Malayalam'),\n",
       " ('Pakistan', 'Oriya'),\n",
       " ('Pakistan', 'Punjabi'),\n",
       " ('Pakistan', 'Assamese'),\n",
       " ('Pakistan', 'Maithili'),\n",
       " ('Pakistan', 'Other'),\n",
       " ('Pakistan', 'Punjabi'),\n",
       " ('Pakistan', 'Sindhi'),\n",
       " ('Pakistan', 'Saraiki'),\n",
       " ('Pakistan', 'Pashto'),\n",
       " ('Pakistan', 'Urdu'),\n",
       " ('Pakistan', 'Balochi'),\n",
       " ('Pakistan', 'Hindko'),\n",
       " ('Pakistan', 'Brahui'),\n",
       " ('Pakistan', 'English'),\n",
       " ('Pakistan', 'Burushaski'),\n",
       " ('Pakistan', 'Other')]"
      ]
     },
     "execution_count": 137,
     "metadata": {},
     "output_type": "execute_result"
    }
   ],
   "source": [
    "# -- kind of join to look at possible combinations of languages\n",
    "cur.execute(\"\"\"\n",
    "            \n",
    "            SELECT c.name AS country, l.name AS language\n",
    "            FROM countries AS c        \n",
    "            CROSS JOIN languages AS l\n",
    "            WHERE c.code in ('PAK','IND')\n",
    "                AND l.code in ('PAK','IND');\n",
    "            \n",
    "            \"\"\").fetchall()"
   ]
  },
  {
   "attachments": {},
   "cell_type": "markdown",
   "metadata": {},
   "source": [
    "## 5.3.11 Choosing your join"
   ]
  },
  {
   "cell_type": "code",
   "execution_count": 138,
   "metadata": {},
   "outputs": [
    {
     "data": {
      "text/plain": [
       "[('Afghanistan', 'Southern and Central Asia', 58.9708292682927),\n",
       " ('Aruba', 'Caribbean', 74.9535365853659)]"
      ]
     },
     "execution_count": 138,
     "metadata": {},
     "output_type": "execute_result"
    }
   ],
   "source": [
    "# -- kind of join to look at possible combinations of languages\n",
    "cur.execute(\"\"\"\n",
    "            \n",
    "            SELECT \n",
    "                c.name AS country,\n",
    "                region,\n",
    "                life_expectancy AS life_exp\n",
    "            FROM countries AS c\n",
    "            LEFT JOIN populations AS p\n",
    "            ON c.code = p.country_code\n",
    "            WHERE year = 2010\n",
    "            ORDER BY life_exp\n",
    "            LIMIT 5;\n",
    "                        \n",
    "            \"\"\").fetchall()"
   ]
  },
  {
   "attachments": {},
   "cell_type": "markdown",
   "metadata": {},
   "source": [
    "## 5.3.12 Comparing a country to itself"
   ]
  },
  {
   "cell_type": "code",
   "execution_count": 139,
   "metadata": {},
   "outputs": [
    {
     "data": {
      "text/plain": [
       "[('ABW', 2.0, 2.0),\n",
       " ('ABW', 2.0, 6.0),\n",
       " ('ABW', 6.0, 2.0),\n",
       " ('ABW', 6.0, 6.0),\n",
       " ('AFG', 0.0, 0.0),\n",
       " ('AFG', 0.0, 4.0),\n",
       " ('AFG', 4.0, 0.0),\n",
       " ('AFG', 4.0, 4.0)]"
      ]
     },
     "execution_count": 139,
     "metadata": {},
     "output_type": "execute_result"
    }
   ],
   "source": [
    "# -- Select aliased fields from populations as p1  -> melt\n",
    "cur.execute(\"\"\"\n",
    "            \n",
    "            SELECT p1.country_code, p1.size AS size2010, p2.size AS size2015\n",
    "            FROM populations AS p1\n",
    "            INNER JOIN populations AS p2\n",
    "            ON p1.country_code = p2.country_code\n",
    "                        \n",
    "            \"\"\").fetchall()"
   ]
  },
  {
   "cell_type": "code",
   "execution_count": 146,
   "metadata": {},
   "outputs": [
    {
     "data": {
      "text/plain": [
       "[('ABW', 2.0, 6.0), ('AFG', 0.0, 4.0)]"
      ]
     },
     "execution_count": 146,
     "metadata": {},
     "output_type": "execute_result"
    }
   ],
   "source": [
    "# -- difference 5 years\n",
    "cur.execute(\"\"\"\n",
    "            \n",
    "            SELECT \n",
    "                p1.country_code, \n",
    "                p1.size AS size2010, \n",
    "                p2.size AS size2015\n",
    "            FROM populations AS p1\n",
    "            INNER JOIN populations AS p2\n",
    "            ON p1.country_code = p2.country_code\n",
    "            WHERE p1.year = 2010\n",
    "                AND p1.year = p2.year - 5\n",
    "                        \n",
    "            \"\"\").fetchall()"
   ]
  },
  {
   "attachments": {
    "image.png": {
     "image/png": "[encoded data removed]"
    }
   },
   "cell_type": "markdown",
   "metadata": {},
   "source": [
    "## 5.3.13 All joins on deck\n",
    "\n",
    "![image.png](attachment:image.png)"
   ]
  },
  {
   "cell_type": "code",
   "execution_count": 142,
   "metadata": {},
   "outputs": [
    {
     "name": "stdout",
     "output_type": "stream",
     "text": [
      "Ok_\n"
     ]
    }
   ],
   "source": [
    "print('Ok_')"
   ]
  }
 ],
 "metadata": {
  "kernelspec": {
   "display_name": "Python 3",
   "language": "python",
   "name": "python3"
  },
  "language_info": {
   "codemirror_mode": {
    "name": "ipython",
    "version": 3
   },
   "file_extension": ".py",
   "mimetype": "text/x-python",
   "name": "python",
   "nbconvert_exporter": "python",
   "pygments_lexer": "ipython3",
   "version": "3.11.4"
  },
  "orig_nbformat": 4,
  "vscode": {
   "interpreter": {
    "hash": "5238573367df39f7286bb46f9ff5f08f63a01a80960060ce41e3c79b190280fa"
   }
  }
 },
 "nbformat": 4,
 "nbformat_minor": 2
}
