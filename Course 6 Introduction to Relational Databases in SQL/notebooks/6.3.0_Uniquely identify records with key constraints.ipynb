{
 "cells": [
  {
   "cell_type": "code",
   "execution_count": 8,
   "metadata": {},
   "outputs": [
    {
     "name": "stdout",
     "output_type": "stream",
     "text": [
      "The autoreload extension is already loaded. To reload it, use:\n",
      "  %reload_ext autoreload\n"
     ]
    }
   ],
   "source": [
    "%load_ext autoreload\n",
    "%autoreload 2"
   ]
  },
  {
   "cell_type": "code",
   "execution_count": 9,
   "metadata": {},
   "outputs": [
    {
     "name": "stdout",
     "output_type": "stream",
     "text": [
      "The autoreload extension is already loaded. To reload it, use:\n",
      "  %reload_ext autoreload\n"
     ]
    }
   ],
   "source": [
    "%load_ext autoreload\n",
    "%autoreload 2"
   ]
  },
  {
   "cell_type": "code",
   "execution_count": 10,
   "metadata": {},
   "outputs": [],
   "source": [
    "import pandas as pd\n",
    "import numpy as np\n",
    "\n",
    "pd.set_option('display.max_columns', None)\n",
    "pd.set_option('display.max_rows', None)\n",
    "import warnings\n",
    "warnings.filterwarnings(\"ignore\")"
   ]
  },
  {
   "cell_type": "code",
   "execution_count": 11,
   "metadata": {},
   "outputs": [],
   "source": [
    "import sys\n",
    "sys.path.append(\"../\") \n",
    "\n",
    "from utils.paths import make_dir_line\n",
    "\n",
    "modality = 'c'\n",
    "project = 'Introduction to Relational Databases in SQL'\n",
    "data = make_dir_line(modality, project)\n",
    "\n",
    "raw = data('raw')"
   ]
  },
  {
   "cell_type": "code",
   "execution_count": 12,
   "metadata": {},
   "outputs": [],
   "source": [
    "import sqlite3\n",
    "\n",
    "conn = sqlite3.connect(\":memory:\")  ## aca se indica el nombre de la db.\n",
    "cur = conn.cursor()"
   ]
  },
  {
   "attachments": {},
   "cell_type": "markdown",
   "metadata": {},
   "source": [
    "# 6.3.0_Uniquely identify records with key constraints"
   ]
  },
  {
   "cell_type": "code",
   "execution_count": 13,
   "metadata": {},
   "outputs": [],
   "source": [
    "conn.executescript(\n",
    "    \"\"\"\n",
    "    \n",
    "    DROP TABLE IF EXISTS university_professors;\n",
    "\n",
    "    CREATE TABLE university_professors (\n",
    "        firstname             VARCHAR,\n",
    "        lastname              VARCHAR,\n",
    "        university            VARCHAR,\n",
    "        university_shortname  VARCHAR,\n",
    "        university_city       VARCHAR,\n",
    "        function              VARCHAR,\n",
    "        organization          VARCHAR,\n",
    "        organization_sector   VARCHAR\n",
    "    );\n",
    "\n",
    "\n",
    "    DROP TABLE IF EXISTS professors;\n",
    "\n",
    "    CREATE TABLE professors (\n",
    "        firstname            text,\n",
    "        lastname             text,\n",
    "        university_shortname text\n",
    "    );\n",
    "\n",
    "\n",
    "    DROP TABLE IF EXISTS universities;\n",
    "    \n",
    "    CREATE TABLE universities (\n",
    "        university_shortname text,\n",
    "        university           text,\n",
    "        university_city      text\n",
    "    );\n",
    "\n",
    "\n",
    "    DROP TABLE IF EXISTS affiliations;\n",
    "\n",
    "    CREATE TABLE affiliations (\n",
    "        firstname             text,\n",
    "        lastname              text,\n",
    "        function              text\n",
    "    );\n",
    "\n",
    "\n",
    "    DROP TABLE IF EXISTS organizations;\n",
    "\n",
    "    CREATE TABLE organizations (\n",
    "        organization        text,\n",
    "        organization_sector text\n",
    "    );\n",
    "    \n",
    "    \n",
    "    DROP TABLE IF EXISTS cars;\n",
    "\n",
    "    CREATE TABLE cars (\n",
    "        make   varchar(64) NOT NULL,\n",
    "        model  varchar(64) NOT NULL,\n",
    "        mpg    integer NOT NULL\n",
    "        \n",
    "    );\n",
    "    \n",
    "\n",
    "    \"\"\"\n",
    ")\n",
    "conn.commit()"
   ]
  },
  {
   "cell_type": "code",
   "execution_count": 16,
   "metadata": {},
   "outputs": [
    {
     "data": {
      "text/plain": [
       "<sqlite3.Cursor at 0x7fc89c1195c0>"
      ]
     },
     "execution_count": 16,
     "metadata": {},
     "output_type": "execute_result"
    }
   ],
   "source": [
    "df = pd.read_csv(raw / 'university_professors.csv', sep = ',', decimal = '.', header = 0, encoding = 'utf-8')\n",
    "university_professors = list(zip(df.firstname, df.lastname, df.university, df.university_shortname, df.university_city, df.function, df.organization, df.organization_sector))\n",
    "cur.executemany(\"INSERT INTO university_professors VALUES  (?,?,?,?,?,?,?,?)\", university_professors)\n",
    "\n",
    "df = pd.read_csv(raw / 'cars.csv', sep = ',', decimal = '.', header = 0, encoding = 'utf-8')\n",
    "cars = list(zip(df.make, df.model, df.mpg))\n",
    "cur.executemany(\"INSERT INTO cars VALUES  (?,?,?)\", cars)"
   ]
  },
  {
   "cell_type": "code",
   "execution_count": 17,
   "metadata": {},
   "outputs": [],
   "source": [
    "cur.executescript(\n",
    "    \"\"\"\n",
    "    \n",
    "    \n",
    "    INSERT INTO universities \n",
    "    SELECT DISTINCT university_shortname, university, university_city \n",
    "    FROM university_professors;\n",
    "    \n",
    "    \n",
    "    INSERT INTO professors \n",
    "    SELECT DISTINCT firstname, lastname, university_shortname \n",
    "    FROM university_professors;\n",
    "\n",
    "\n",
    "    INSERT INTO affiliations \n",
    "    SELECT DISTINCT firstname, lastname, function\n",
    "    FROM university_professors; \n",
    "    \n",
    "    \n",
    "    INSERT INTO organizations \n",
    "    SELECT DISTINCT organization, organization_sector \n",
    "    FROM university_professors; \n",
    "    \n",
    "\n",
    "    \"\"\"\n",
    ")\n",
    "conn.commit()"
   ]
  },
  {
   "attachments": {},
   "cell_type": "markdown",
   "metadata": {},
   "source": [
    "## 6.3.2 Get to know SELECT COUNT DISTINCT"
   ]
  },
  {
   "cell_type": "code",
   "execution_count": 18,
   "metadata": {},
   "outputs": [
    {
     "data": {
      "text/plain": [
       "[(11,)]"
      ]
     },
     "execution_count": 18,
     "metadata": {},
     "output_type": "execute_result"
    }
   ],
   "source": [
    "# -- Count the number of rows in universities\n",
    "cur.execute(\"\"\"\n",
    "            \n",
    "            SELECT DISTINCT COUNT (*)\n",
    "            FROM universities;\n",
    "                        \n",
    "            \"\"\").fetchall()"
   ]
  },
  {
   "cell_type": "code",
   "execution_count": 19,
   "metadata": {},
   "outputs": [
    {
     "data": {
      "text/plain": [
       "[(9,)]"
      ]
     },
     "execution_count": 19,
     "metadata": {},
     "output_type": "execute_result"
    }
   ],
   "source": [
    "# -- Count the number of distinct values in the university_city column\n",
    "cur.execute(\"\"\"\n",
    "            \n",
    "            SELECT COUNT(DISTINCT(university_city))\n",
    "            FROM universities;\n",
    "                        \n",
    "            \"\"\").fetchall()"
   ]
  },
  {
   "attachments": {},
   "cell_type": "markdown",
   "metadata": {},
   "source": [
    "## 6.3.3 Identify keys with SELECT COUNT DISTINCT"
   ]
  },
  {
   "cell_type": "code",
   "execution_count": 20,
   "metadata": {},
   "outputs": [],
   "source": [
    "# # -- Try out different combinations\n",
    "# cur.execute(\"\"\"\n",
    "            \n",
    "#             SELECT COUNT(DISTINCT(firstname, lastname)) \n",
    "#             FROM professors;\n",
    "                        \n",
    "#             \"\"\").fetchall()\n"
   ]
  },
  {
   "attachments": {
    "image.png": {
     "image/png": "[encoded data removed]"
    }
   },
   "cell_type": "markdown",
   "metadata": {},
   "source": [
    "## 6.3.5 Identify the primary key\n",
    "\n",
    "Which of the following column or column combinations could best serve as primary key?\n",
    "\n",
    "![image.png](attachment:image.png)\n",
    "\n",
    "R:/ PK = {license_no}. A primary key consisting solely of \"license_no\" is probably the wisest choice, as license numbers are certainly unique across all registered cars in a country.\n",
    "\n",
    "## 6.3.6 ADD key CONSTRAINTs to the tables"
   ]
  },
  {
   "cell_type": "code",
   "execution_count": 21,
   "metadata": {},
   "outputs": [
    {
     "data": {
      "text/plain": [
       "[]"
      ]
     },
     "execution_count": 21,
     "metadata": {},
     "output_type": "execute_result"
    }
   ],
   "source": [
    "# -- Rename the organization column to id\n",
    "cur.execute(\"\"\"\n",
    "            \n",
    "            ALTER TABLE organizations\n",
    "            RENAME COLUMN organization TO id;\n",
    "                        \n",
    "            \"\"\").fetchall()"
   ]
  },
  {
   "cell_type": "code",
   "execution_count": 22,
   "metadata": {},
   "outputs": [],
   "source": [
    "# # -- Make id a primary key\n",
    "# cur.execute(\"\"\"\n",
    "            \n",
    "#             ALTER TABLE organizations\n",
    "#             ADD CONSTRAINT organization_pk PRIMARY KEY (id);\n",
    "                        \n",
    "#             \"\"\").fetchall()"
   ]
  },
  {
   "cell_type": "code",
   "execution_count": 23,
   "metadata": {},
   "outputs": [
    {
     "data": {
      "text/plain": [
       "[]"
      ]
     },
     "execution_count": 23,
     "metadata": {},
     "output_type": "execute_result"
    }
   ],
   "source": [
    "# -- Rename the organization column to id\n",
    "cur.execute(\"\"\"\n",
    "            \n",
    "            ALTER TABLE universities\n",
    "            RENAME COLUMN university_shortname TO id;\n",
    "                        \n",
    "            \"\"\").fetchall()"
   ]
  },
  {
   "cell_type": "code",
   "execution_count": 24,
   "metadata": {},
   "outputs": [],
   "source": [
    "# # -- Make id a primary key\n",
    "# cur.execute(\"\"\"\n",
    "            \n",
    "#             ALTER TABLE universities\n",
    "#             ADD CONSTRAINT university_pk PRIMARY KEY (id);\n",
    "                        \n",
    "#             \"\"\").fetchall()"
   ]
  },
  {
   "attachments": {},
   "cell_type": "markdown",
   "metadata": {},
   "source": [
    "## 6.3.8 Add a SERIAL surrogate key"
   ]
  },
  {
   "cell_type": "code",
   "execution_count": 25,
   "metadata": {},
   "outputs": [
    {
     "data": {
      "text/plain": [
       "[]"
      ]
     },
     "execution_count": 25,
     "metadata": {},
     "output_type": "execute_result"
    }
   ],
   "source": [
    "# -- Add the new column to the table\n",
    "cur.execute(\"\"\"\n",
    "            \n",
    "            ALTER TABLE professors \n",
    "            ADD COLUMN id serial;\n",
    "                        \n",
    "            \"\"\").fetchall()"
   ]
  },
  {
   "cell_type": "code",
   "execution_count": 26,
   "metadata": {},
   "outputs": [],
   "source": [
    "# # -- Make id a primary key\n",
    "# cur.execute(\"\"\"\n",
    "            \n",
    "#             ALTER TABLE professors \n",
    "#             ADD CONSTRAINT professors_pkey PRIMARY KEY (id);\n",
    "                        \n",
    "#             \"\"\").fetchall()"
   ]
  },
  {
   "cell_type": "code",
   "execution_count": 27,
   "metadata": {},
   "outputs": [
    {
     "data": {
      "text/plain": [
       "[('Karl', 'Aberer', 'EPF', None),\n",
       " ('Reza Shokrollah', 'Abhari', 'ETH', None),\n",
       " ('Georges', 'Abou Jaoudé', 'EPF', None),\n",
       " ('Hugues', 'Abriel', 'UBE', None),\n",
       " ('Daniel', 'Aebersold', 'UBE', None),\n",
       " ('Christoph', 'Aebi', 'UBE', None),\n",
       " ('Marcelo', 'Aebi', 'ULA', None),\n",
       " ('Patrick', 'Aebischer', 'EPF', None),\n",
       " ('Stephan', 'Aier', 'USG', None),\n",
       " ('Anastasia', 'Ailamaki', 'EPF', None)]"
      ]
     },
     "execution_count": 27,
     "metadata": {},
     "output_type": "execute_result"
    }
   ],
   "source": [
    "# -- Have a look at the first 10 rows of professors\n",
    "cur.execute(\"\"\"\n",
    "            \n",
    "            SELECT * \n",
    "            FROM professors \n",
    "            LIMIT 10;\n",
    "                        \n",
    "            \"\"\").fetchall()"
   ]
  },
  {
   "attachments": {},
   "cell_type": "markdown",
   "metadata": {},
   "source": [
    "## 6.3.9 CONCATenate columns to a surrogate key"
   ]
  },
  {
   "cell_type": "code",
   "execution_count": 32,
   "metadata": {},
   "outputs": [],
   "source": [
    "# # -- Count the number of distinct rows with columns make, model\n",
    "# cur.execute(\"\"\"\n",
    "            \n",
    "#             SELECT COUNT(DISTINCT(make, model)) \n",
    "#             FROM cars;\n",
    "                        \n",
    "#             \"\"\").fetchall()"
   ]
  },
  {
   "cell_type": "code",
   "execution_count": 33,
   "metadata": {},
   "outputs": [
    {
     "data": {
      "text/plain": [
       "[]"
      ]
     },
     "execution_count": 33,
     "metadata": {},
     "output_type": "execute_result"
    }
   ],
   "source": [
    "# -- Add the id column\n",
    "cur.execute(\"\"\"\n",
    "            \n",
    "            ALTER TABLE cars \n",
    "            ADD COLUMN id serial;\n",
    "                        \n",
    "            \"\"\").fetchall()"
   ]
  },
  {
   "cell_type": "code",
   "execution_count": 35,
   "metadata": {},
   "outputs": [],
   "source": [
    "# # -- Update id with make + model\n",
    "# cur.execute(\"\"\"\n",
    "            \n",
    "#             UPDATE cars\n",
    "#             SET id = CONCAT(make, model);\n",
    "                        \n",
    "#             \"\"\").fetchall()"
   ]
  },
  {
   "cell_type": "code",
   "execution_count": 36,
   "metadata": {},
   "outputs": [],
   "source": [
    "# # -- Make id a primary key\n",
    "# cur.execute(\"\"\"\n",
    "            \n",
    "#             ALTER TABLE cars\n",
    "#             ADD CONSTRAINT id_pk PRIMARY KEY (id);\n",
    "                        \n",
    "#             \"\"\").fetchall()"
   ]
  },
  {
   "cell_type": "code",
   "execution_count": 37,
   "metadata": {},
   "outputs": [
    {
     "data": {
      "text/plain": [
       "[('Subaru', 'Forester', 24, None),\n",
       " ('Opel', 'Astra', 45, None),\n",
       " ('Opel', 'Vectra', 40, None),\n",
       " ('Ford', 'Avenger', 30, None),\n",
       " ('Ford', 'Galaxy', 30, None),\n",
       " ('Toyota', 'Prius', 50, None),\n",
       " ('Toyota', 'Speedster', 30, None),\n",
       " ('Toyota', 'Galaxy', 20, None),\n",
       " ('Mitsubishi', 'Forester', 10, None),\n",
       " ('Mitsubishi', 'Galaxy', 30, None),\n",
       " ('Subaru', 'Forester', 24, None),\n",
       " ('Opel', 'Astra', 45, None),\n",
       " ('Opel', 'Vectra', 40, None),\n",
       " ('Ford', 'Avenger', 30, None),\n",
       " ('Ford', 'Galaxy', 30, None),\n",
       " ('Toyota', 'Prius', 50, None),\n",
       " ('Toyota', 'Speedster', 30, None),\n",
       " ('Toyota', 'Galaxy', 20, None),\n",
       " ('Mitsubishi', 'Forester', 10, None),\n",
       " ('Mitsubishi', 'Galaxy', 30, None)]"
      ]
     },
     "execution_count": 37,
     "metadata": {},
     "output_type": "execute_result"
    }
   ],
   "source": [
    "# -- Have a look at the table\n",
    "cur.execute(\"\"\"\n",
    "            \n",
    "            SELECT * \n",
    "            FROM cars;\n",
    "                        \n",
    "            \"\"\").fetchall()"
   ]
  },
  {
   "cell_type": "code",
   "execution_count": null,
   "metadata": {},
   "outputs": [],
   "source": []
  },
  {
   "cell_type": "code",
   "execution_count": null,
   "metadata": {},
   "outputs": [],
   "source": []
  },
  {
   "cell_type": "code",
   "execution_count": null,
   "metadata": {},
   "outputs": [],
   "source": []
  },
  {
   "cell_type": "code",
   "execution_count": null,
   "metadata": {},
   "outputs": [],
   "source": []
  },
  {
   "cell_type": "code",
   "execution_count": null,
   "metadata": {},
   "outputs": [],
   "source": []
  },
  {
   "cell_type": "code",
   "execution_count": null,
   "metadata": {},
   "outputs": [
    {
     "data": {
      "text/plain": [
       "[]"
      ]
     },
     "execution_count": 10,
     "metadata": {},
     "output_type": "execute_result"
    }
   ],
   "source": [
    "cur.execute(\"\"\"\n",
    "            \n",
    "\n",
    "                        \n",
    "            \"\"\").fetchall()"
   ]
  },
  {
   "cell_type": "code",
   "execution_count": null,
   "metadata": {},
   "outputs": [
    {
     "name": "stdout",
     "output_type": "stream",
     "text": [
      "Ok_\n"
     ]
    }
   ],
   "source": [
    "print('Ok_')"
   ]
  }
 ],
 "metadata": {
  "kernelspec": {
   "display_name": "Python 3",
   "language": "python",
   "name": "python3"
  },
  "language_info": {
   "codemirror_mode": {
    "name": "ipython",
    "version": 3
   },
   "file_extension": ".py",
   "mimetype": "text/x-python",
   "name": "python",
   "nbconvert_exporter": "python",
   "pygments_lexer": "ipython3",
   "version": "3.11.4"
  },
  "orig_nbformat": 4,
  "vscode": {
   "interpreter": {
    "hash": "5238573367df39f7286bb46f9ff5f08f63a01a80960060ce41e3c79b190280fa"
   }
  }
 },
 "nbformat": 4,
 "nbformat_minor": 2
}
