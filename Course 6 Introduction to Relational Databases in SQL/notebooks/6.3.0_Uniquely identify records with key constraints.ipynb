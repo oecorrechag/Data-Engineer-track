{
 "cells": [
  {
   "cell_type": "code",
   "execution_count": 1,
   "metadata": {},
   "outputs": [],
   "source": [
    "%load_ext autoreload\n",
    "%autoreload 2"
   ]
  },
  {
   "cell_type": "code",
   "execution_count": 2,
   "metadata": {},
   "outputs": [
    {
     "name": "stdout",
     "output_type": "stream",
     "text": [
      "The autoreload extension is already loaded. To reload it, use:\n",
      "  %reload_ext autoreload\n"
     ]
    }
   ],
   "source": [
    "%load_ext autoreload\n",
    "%autoreload 2"
   ]
  },
  {
   "cell_type": "code",
   "execution_count": 3,
   "metadata": {},
   "outputs": [],
   "source": [
    "import pandas as pd\n",
    "import numpy as np\n",
    "\n",
    "pd.set_option('display.max_columns', None)\n",
    "pd.set_option('display.max_rows', None)\n",
    "import warnings\n",
    "warnings.filterwarnings(\"ignore\")"
   ]
  },
  {
   "cell_type": "code",
   "execution_count": 4,
   "metadata": {},
   "outputs": [],
   "source": [
    "import sys\n",
    "sys.path.append(\"../\") \n",
    "\n",
    "from utils.paths import make_dir_line\n",
    "\n",
    "modality = 'c'\n",
    "project = 'Introduction to Relational Databases in SQL'\n",
    "data = make_dir_line(modality, project)\n",
    "\n",
    "raw = data('raw')"
   ]
  },
  {
   "cell_type": "code",
   "execution_count": 5,
   "metadata": {},
   "outputs": [],
   "source": [
    "import sqlite3\n",
    "\n",
    "conn = sqlite3.connect(\":memory:\")  ## aca se indica el nombre de la db.\n",
    "cur = conn.cursor()"
   ]
  },
  {
   "attachments": {},
   "cell_type": "markdown",
   "metadata": {},
   "source": [
    "# 6.3.0_Uniquely identify records with key constraints"
   ]
  },
  {
   "cell_type": "code",
   "execution_count": 6,
   "metadata": {},
   "outputs": [],
   "source": [
    "conn.executescript(\n",
    "    \"\"\"\n",
    "    \n",
    "    DROP TABLE IF EXISTS university_professors;\n",
    "\n",
    "    CREATE TABLE university_professors (\n",
    "        firstname             VARCHAR,\n",
    "        lastname              VARCHAR,\n",
    "        university            VARCHAR,\n",
    "        university_shortname  VARCHAR,\n",
    "        university_city       VARCHAR,\n",
    "        function              VARCHAR,\n",
    "        organization          VARCHAR,\n",
    "        organization_sector   VARCHAR\n",
    "    );\n",
    "\n",
    "\n",
    "    DROP TABLE IF EXISTS professors;\n",
    "\n",
    "    CREATE TABLE professors (\n",
    "        firstname            text,\n",
    "        lastname             text,\n",
    "        university_shortname text\n",
    "    );\n",
    "\n",
    "\n",
    "    DROP TABLE IF EXISTS universities;\n",
    "    \n",
    "    CREATE TABLE universities (\n",
    "        university_shortname text,\n",
    "        university           text,\n",
    "        university_city      text\n",
    "    );\n",
    "\n",
    "\n",
    "    DROP TABLE IF EXISTS affiliations;\n",
    "\n",
    "    CREATE TABLE affiliations (\n",
    "        firstname             text,\n",
    "        lastname              text,\n",
    "        function              text\n",
    "    );\n",
    "\n",
    "\n",
    "    DROP TABLE IF EXISTS organizations;\n",
    "\n",
    "    CREATE TABLE organizations (\n",
    "        organization        text,\n",
    "        organization_sector text\n",
    "    );\n",
    "    \n",
    "\n",
    "    \"\"\"\n",
    ")\n",
    "conn.commit()"
   ]
  },
  {
   "cell_type": "code",
   "execution_count": 7,
   "metadata": {},
   "outputs": [
    {
     "data": {
      "text/plain": [
       "<sqlite3.Cursor at 0x7f97999dcfc0>"
      ]
     },
     "execution_count": 7,
     "metadata": {},
     "output_type": "execute_result"
    }
   ],
   "source": [
    "df = pd.read_csv(raw / 'university_professors.csv', sep = ',', decimal = '.', header = 0, encoding = 'utf-8')\n",
    "university_professors = list(zip(df.firstname, df.lastname, df.university, df.university_shortname, df.university_city, df.function, df.organization, df.organization_sector))\n",
    "cur.executemany(\"INSERT INTO university_professors VALUES  (?,?,?,?,?,?,?,?)\", university_professors)"
   ]
  },
  {
   "cell_type": "code",
   "execution_count": 8,
   "metadata": {},
   "outputs": [],
   "source": [
    "cur.executescript(\n",
    "    \"\"\"\n",
    "    \n",
    "    \n",
    "    INSERT INTO universities \n",
    "    SELECT DISTINCT university_shortname, university, university_city \n",
    "    FROM university_professors;\n",
    "    \n",
    "    \n",
    "    INSERT INTO professors \n",
    "    SELECT DISTINCT firstname, lastname, university_shortname \n",
    "    FROM university_professors;\n",
    "\n",
    "\n",
    "    INSERT INTO affiliations \n",
    "    SELECT DISTINCT firstname, lastname, function\n",
    "    FROM university_professors; \n",
    "    \n",
    "    \n",
    "    INSERT INTO organizations \n",
    "    SELECT DISTINCT organization, organization_sector \n",
    "    FROM university_professors; \n",
    "    \n",
    "\n",
    "    \"\"\"\n",
    ")\n",
    "conn.commit()"
   ]
  },
  {
   "attachments": {},
   "cell_type": "markdown",
   "metadata": {},
   "source": [
    "## 6.3.2 Get to know SELECT COUNT DISTINCT"
   ]
  },
  {
   "cell_type": "code",
   "execution_count": 9,
   "metadata": {},
   "outputs": [
    {
     "data": {
      "text/plain": [
       "[(11,)]"
      ]
     },
     "execution_count": 9,
     "metadata": {},
     "output_type": "execute_result"
    }
   ],
   "source": [
    "# -- Count the number of rows in universities\n",
    "cur.execute(\"\"\"\n",
    "            \n",
    "            SELECT DISTINCT COUNT (*)\n",
    "            FROM universities;\n",
    "                        \n",
    "            \"\"\").fetchall()"
   ]
  },
  {
   "cell_type": "code",
   "execution_count": 10,
   "metadata": {},
   "outputs": [
    {
     "data": {
      "text/plain": [
       "[(9,)]"
      ]
     },
     "execution_count": 10,
     "metadata": {},
     "output_type": "execute_result"
    }
   ],
   "source": [
    "# -- Count the number of distinct values in the university_city column\n",
    "cur.execute(\"\"\"\n",
    "            \n",
    "            SELECT COUNT(DISTINCT(university_city))\n",
    "            FROM universities;\n",
    "                        \n",
    "            \"\"\").fetchall()"
   ]
  },
  {
   "attachments": {},
   "cell_type": "markdown",
   "metadata": {},
   "source": [
    "## 6.3.3 Identify keys with SELECT COUNT DISTINCT"
   ]
  },
  {
   "cell_type": "code",
   "execution_count": 17,
   "metadata": {},
   "outputs": [],
   "source": [
    "# # -- Try out different combinations\n",
    "# cur.execute(\"\"\"\n",
    "            \n",
    "#             SELECT COUNT(DISTINCT(firstname, lastname)) \n",
    "#             FROM professors;\n",
    "                        \n",
    "#             \"\"\").fetchall()\n"
   ]
  },
  {
   "attachments": {},
   "cell_type": "markdown",
   "metadata": {},
   "source": [
    "## 6.3.5 Identify the primary key"
   ]
  },
  {
   "cell_type": "code",
   "execution_count": null,
   "metadata": {},
   "outputs": [],
   "source": []
  },
  {
   "cell_type": "code",
   "execution_count": null,
   "metadata": {},
   "outputs": [],
   "source": []
  },
  {
   "cell_type": "code",
   "execution_count": null,
   "metadata": {},
   "outputs": [],
   "source": []
  },
  {
   "cell_type": "code",
   "execution_count": null,
   "metadata": {},
   "outputs": [
    {
     "data": {
      "text/plain": [
       "[]"
      ]
     },
     "execution_count": 10,
     "metadata": {},
     "output_type": "execute_result"
    }
   ],
   "source": [
    "cur.execute(\"\"\"\n",
    "            \n",
    "\n",
    "                        \n",
    "            \"\"\").fetchall()"
   ]
  },
  {
   "cell_type": "code",
   "execution_count": null,
   "metadata": {},
   "outputs": [
    {
     "name": "stdout",
     "output_type": "stream",
     "text": [
      "Ok_\n"
     ]
    }
   ],
   "source": [
    "print('Ok_')"
   ]
  }
 ],
 "metadata": {
  "kernelspec": {
   "display_name": "Python 3",
   "language": "python",
   "name": "python3"
  },
  "language_info": {
   "codemirror_mode": {
    "name": "ipython",
    "version": 3
   },
   "file_extension": ".py",
   "mimetype": "text/x-python",
   "name": "python",
   "nbconvert_exporter": "python",
   "pygments_lexer": "ipython3",
   "version": "3.11.4"
  },
  "orig_nbformat": 4,
  "vscode": {
   "interpreter": {
    "hash": "5238573367df39f7286bb46f9ff5f08f63a01a80960060ce41e3c79b190280fa"
   }
  }
 },
 "nbformat": 4,
 "nbformat_minor": 2
}
