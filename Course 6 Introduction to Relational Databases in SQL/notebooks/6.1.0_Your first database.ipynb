{
 "cells": [
  {
   "cell_type": "code",
   "execution_count": 1,
   "metadata": {},
   "outputs": [],
   "source": [
    "%load_ext autoreload\n",
    "%autoreload 2"
   ]
  },
  {
   "cell_type": "code",
   "execution_count": 2,
   "metadata": {},
   "outputs": [
    {
     "name": "stdout",
     "output_type": "stream",
     "text": [
      "The autoreload extension is already loaded. To reload it, use:\n",
      "  %reload_ext autoreload\n"
     ]
    }
   ],
   "source": [
    "%load_ext autoreload\n",
    "%autoreload 2"
   ]
  },
  {
   "cell_type": "code",
   "execution_count": 3,
   "metadata": {},
   "outputs": [],
   "source": [
    "import pandas as pd\n",
    "import numpy as np\n",
    "\n",
    "pd.set_option('display.max_columns', None)\n",
    "pd.set_option('display.max_rows', None)\n",
    "import warnings\n",
    "warnings.filterwarnings(\"ignore\")"
   ]
  },
  {
   "cell_type": "code",
   "execution_count": 4,
   "metadata": {},
   "outputs": [],
   "source": [
    "import sys\n",
    "sys.path.append(\"../\") \n",
    "\n",
    "from utils.paths import make_dir_line\n",
    "\n",
    "modality = 'c'\n",
    "project = 'Introduction to Relational Databases in SQL'\n",
    "data = make_dir_line(modality, project)\n",
    "\n",
    "raw = data('raw')"
   ]
  },
  {
   "cell_type": "code",
   "execution_count": 5,
   "metadata": {},
   "outputs": [],
   "source": [
    "import sqlite3\n",
    "\n",
    "conn = sqlite3.connect(\":memory:\")  ## aca se indica el nombre de la db.\n",
    "cur = conn.cursor()"
   ]
  },
  {
   "attachments": {},
   "cell_type": "markdown",
   "metadata": {},
   "source": [
    "# 6.1.0 Your first database"
   ]
  },
  {
   "cell_type": "code",
   "execution_count": 8,
   "metadata": {},
   "outputs": [],
   "source": [
    "conn.executescript(\n",
    "    \"\"\"\n",
    "    \n",
    "DROP TABLE IF EXISTS university_professors;\n",
    "\n",
    "CREATE TABLE university_professors (\n",
    "  firstname             VARCHAR,\n",
    "  lastname              VARCHAR,\n",
    "  university            VARCHAR,\n",
    "  university_shortname  VARCHAR,\n",
    "  university_city       VARCHAR,\n",
    "  function              VARCHAR,\n",
    "  organization          VARCHAR,\n",
    "  organization_sector   VARCHAR\n",
    ");\n",
    "\n",
    "\"\"\"\n",
    ")\n",
    "conn.commit()"
   ]
  },
  {
   "cell_type": "code",
   "execution_count": 9,
   "metadata": {},
   "outputs": [
    {
     "data": {
      "text/plain": [
       "<sqlite3.Cursor at 0x7f0d8d4e3cc0>"
      ]
     },
     "execution_count": 9,
     "metadata": {},
     "output_type": "execute_result"
    }
   ],
   "source": [
    "df = pd.read_csv(raw / 'university_professors.csv', sep = ',', decimal = '.', header = 0, encoding = 'utf-8')\n",
    "university_professors = list(zip(df.firstname, df.lastname, df.university, df.university_shortname, df.university_city, df.function, df.organization, df.organization_sector))\n",
    "cur.executemany(\"INSERT INTO university_professors VALUES  (?,?,?,?,?,?,?,?)\", university_professors)"
   ]
  },
  {
   "attachments": {},
   "cell_type": "markdown",
   "metadata": {},
   "source": [
    "## 6.1.2 Attributes of relational databases\n",
    "\n",
    "Which of the following statements does **not** hold true for databases? Relational databases\n",
    "\n",
    "R:/ are called \"relational\" because they store data only about people.\n",
    "\n",
    "## 6.1.3 Query information_schema with SELECT"
   ]
  },
  {
   "cell_type": "code",
   "execution_count": 12,
   "metadata": {},
   "outputs": [
    {
     "data": {
      "text/plain": [
       "[('university_professors',\n",
       "  'CREATE TABLE university_professors (\\n  firstname             VARCHAR,\\n  lastname              VARCHAR,\\n  university            VARCHAR,\\n  university_shortname  VARCHAR,\\n  university_city       VARCHAR,\\n  function              VARCHAR,\\n  organization          VARCHAR,\\n  organization_sector   VARCHAR\\n)')]"
      ]
     },
     "execution_count": 12,
     "metadata": {},
     "output_type": "execute_result"
    }
   ],
   "source": [
    "# -- Query the right table in information_schema, Specify the correct table_schema value (SQLite3)\n",
    "cur.execute(\"\"\"\n",
    "            \n",
    "            SELECT name, sql \n",
    "            FROM sqlite_master\n",
    "            WHERE type='table'\n",
    "            ORDER BY name;\n",
    "                        \n",
    "            \"\"\").fetchall()"
   ]
  },
  {
   "attachments": {},
   "cell_type": "markdown",
   "metadata": {},
   "source": [
    "Question: How many columns does the table university_professors have?\n",
    "\n",
    "R:/ 8"
   ]
  },
  {
   "cell_type": "code",
   "execution_count": 14,
   "metadata": {},
   "outputs": [
    {
     "data": {
      "text/plain": [
       "[('Karl',\n",
       "  'Aberer',\n",
       "  'ETH Lausanne',\n",
       "  'EPF',\n",
       "  'Lausanne',\n",
       "  'Chairman of L3S Advisory Board',\n",
       "  'L3S Advisory Board',\n",
       "  'Education & research'),\n",
       " ('Karl',\n",
       "  'Aberer',\n",
       "  'ETH Lausanne',\n",
       "  'EPF',\n",
       "  'Lausanne',\n",
       "  'Member Conseil of Zeno-Karl Schindler Foundation',\n",
       "  'Zeno-Karl Schindler Foundation',\n",
       "  'Education & research'),\n",
       " ('Karl',\n",
       "  'Aberer',\n",
       "  'ETH Lausanne',\n",
       "  'EPF',\n",
       "  'Lausanne',\n",
       "  'Member of Conseil Fondation IDIAP',\n",
       "  'Fondation IDIAP',\n",
       "  'Education & research'),\n",
       " ('Karl',\n",
       "  'Aberer',\n",
       "  'ETH Lausanne',\n",
       "  'EPF',\n",
       "  'Lausanne',\n",
       "  'Panel Member ',\n",
       "  'SNF Ambizione Program',\n",
       "  'Education & research'),\n",
       " ('Reza Shokrollah',\n",
       "  'Abhari',\n",
       "  'ETH Zürich',\n",
       "  'ETH',\n",
       "  'Zurich',\n",
       "  'Aufsichtsratsmandat',\n",
       "  'PNE Wind AG',\n",
       "  'Energy, environment & mobility')]"
      ]
     },
     "execution_count": 14,
     "metadata": {},
     "output_type": "execute_result"
    }
   ],
   "source": [
    "# -- Query the first five rows of our table\n",
    "cur.execute(\"\"\"\n",
    "            \n",
    "            SELECT * \n",
    "            FROM university_professors \n",
    "            LIMIT 5;\n",
    "                        \n",
    "            \"\"\").fetchall()"
   ]
  },
  {
   "attachments": {},
   "cell_type": "markdown",
   "metadata": {},
   "source": [
    "## 6.1.4 CREATE your first few TABLEs\n",
    "\n",
    "Notas: Esto siguiente se puede resolver con un unico conn.executescript"
   ]
  },
  {
   "cell_type": "code",
   "execution_count": 21,
   "metadata": {},
   "outputs": [
    {
     "data": {
      "text/plain": [
       "[]"
      ]
     },
     "execution_count": 21,
     "metadata": {},
     "output_type": "execute_result"
    }
   ],
   "source": [
    "cur.execute(\"\"\"\n",
    "            \n",
    "            DROP TABLE IF EXISTS professors;\n",
    "                        \n",
    "            \"\"\").fetchall()"
   ]
  },
  {
   "cell_type": "code",
   "execution_count": 22,
   "metadata": {},
   "outputs": [
    {
     "data": {
      "text/plain": [
       "[]"
      ]
     },
     "execution_count": 22,
     "metadata": {},
     "output_type": "execute_result"
    }
   ],
   "source": [
    "# -- Create a table for the professors entity type\n",
    "\n",
    "cur.execute(\"\"\"\n",
    "            \n",
    "            CREATE TABLE professors (\n",
    "            firstname text,\n",
    "            lastname text\n",
    "            );\n",
    "                        \n",
    "            \"\"\").fetchall()"
   ]
  },
  {
   "cell_type": "code",
   "execution_count": 23,
   "metadata": {},
   "outputs": [
    {
     "data": {
      "text/plain": [
       "[]"
      ]
     },
     "execution_count": 23,
     "metadata": {},
     "output_type": "execute_result"
    }
   ],
   "source": [
    "# -- Print the contents of this table\n",
    "cur.execute(\"\"\"\n",
    "            \n",
    "            SELECT * \n",
    "            FROM professors\n",
    "                        \n",
    "            \"\"\").fetchall()"
   ]
  },
  {
   "cell_type": "code",
   "execution_count": 25,
   "metadata": {},
   "outputs": [
    {
     "data": {
      "text/plain": [
       "[]"
      ]
     },
     "execution_count": 25,
     "metadata": {},
     "output_type": "execute_result"
    }
   ],
   "source": [
    "cur.execute(\"\"\"\n",
    "            \n",
    "            DROP TABLE IF EXISTS universities;\n",
    "                        \n",
    "            \"\"\").fetchall()"
   ]
  },
  {
   "cell_type": "code",
   "execution_count": 26,
   "metadata": {},
   "outputs": [
    {
     "data": {
      "text/plain": [
       "[]"
      ]
     },
     "execution_count": 26,
     "metadata": {},
     "output_type": "execute_result"
    }
   ],
   "source": [
    "# -- Create a table for the universities entity type\n",
    "\n",
    "cur.execute(\"\"\"\n",
    "            \n",
    "            CREATE TABLE universities (\n",
    "            university_shortname text,\n",
    "            university text text,\n",
    "            university_city text\n",
    "            \n",
    "            );\n",
    "                        \n",
    "            \"\"\").fetchall()"
   ]
  },
  {
   "cell_type": "code",
   "execution_count": 27,
   "metadata": {},
   "outputs": [
    {
     "data": {
      "text/plain": [
       "[]"
      ]
     },
     "execution_count": 27,
     "metadata": {},
     "output_type": "execute_result"
    }
   ],
   "source": [
    "# -- Print the contents of this table\n",
    "cur.execute(\"\"\"\n",
    "            \n",
    "            SELECT * \n",
    "            FROM universities\n",
    "                        \n",
    "            \"\"\").fetchall()"
   ]
  },
  {
   "attachments": {},
   "cell_type": "markdown",
   "metadata": {},
   "source": [
    "## 6.1.5 ADD a COLUMN with ALTER TABLE"
   ]
  },
  {
   "cell_type": "code",
   "execution_count": 28,
   "metadata": {},
   "outputs": [
    {
     "data": {
      "text/plain": [
       "[]"
      ]
     },
     "execution_count": 28,
     "metadata": {},
     "output_type": "execute_result"
    }
   ],
   "source": [
    "# -- Add the university_shortname column\n",
    "cur.execute(\"\"\"\n",
    "                        \n",
    "            ALTER TABLE professors\n",
    "            ADD COLUMN university_shortname text;\n",
    "\n",
    "            \"\"\").fetchall()"
   ]
  },
  {
   "cell_type": "code",
   "execution_count": 29,
   "metadata": {},
   "outputs": [
    {
     "data": {
      "text/plain": [
       "[]"
      ]
     },
     "execution_count": 29,
     "metadata": {},
     "output_type": "execute_result"
    }
   ],
   "source": [
    "# -- Print the contents of this table\n",
    "cur.execute(\"\"\"\n",
    "                        \n",
    "            SELECT * \n",
    "            FROM professors\n",
    "\n",
    "            \"\"\").fetchall()"
   ]
  },
  {
   "attachments": {},
   "cell_type": "markdown",
   "metadata": {},
   "source": [
    "## 6.1.7 RENAME and DROP COLUMNs in affiliations"
   ]
  },
  {
   "cell_type": "code",
   "execution_count": 31,
   "metadata": {},
   "outputs": [
    {
     "data": {
      "text/plain": [
       "[]"
      ]
     },
     "execution_count": 31,
     "metadata": {},
     "output_type": "execute_result"
    }
   ],
   "source": [
    "cur.execute(\"DROP TABLE IF EXISTS organizations;\").fetchall()"
   ]
  },
  {
   "cell_type": "code",
   "execution_count": 32,
   "metadata": {},
   "outputs": [
    {
     "data": {
      "text/plain": [
       "[]"
      ]
     },
     "execution_count": 32,
     "metadata": {},
     "output_type": "execute_result"
    }
   ],
   "source": [
    "cur.execute(\"\"\"\n",
    "            \n",
    "            CREATE TABLE organizations (\n",
    "            organization        text,\n",
    "            organization_sector text\n",
    "            );\n",
    "                        \n",
    "            \"\"\").fetchall()"
   ]
  },
  {
   "cell_type": "code",
   "execution_count": null,
   "metadata": {},
   "outputs": [],
   "source": [
    "cur.execute(\"DROP TABLE IF EXISTS affiliations;\").fetchall()"
   ]
  },
  {
   "cell_type": "code",
   "execution_count": 33,
   "metadata": {},
   "outputs": [
    {
     "data": {
      "text/plain": [
       "[]"
      ]
     },
     "execution_count": 33,
     "metadata": {},
     "output_type": "execute_result"
    }
   ],
   "source": [
    "cur.execute(\"\"\"\n",
    "            \n",
    "            CREATE TABLE affiliations (\n",
    "            firstname             text,\n",
    "            lastname              text,\n",
    "            university_shortname  text,\n",
    "            function              text,\n",
    "            organisation          text\n",
    "            );\n",
    "                        \n",
    "            \"\"\").fetchall()"
   ]
  },
  {
   "cell_type": "code",
   "execution_count": 34,
   "metadata": {},
   "outputs": [
    {
     "data": {
      "text/plain": [
       "[]"
      ]
     },
     "execution_count": 34,
     "metadata": {},
     "output_type": "execute_result"
    }
   ],
   "source": [
    "# -- Rename the organisation column\n",
    "cur.execute(\"\"\"\n",
    "            \n",
    "            ALTER TABLE affiliations\n",
    "            RENAME COLUMN organisation TO organization;\n",
    "                        \n",
    "            \"\"\").fetchall()"
   ]
  },
  {
   "cell_type": "code",
   "execution_count": 35,
   "metadata": {},
   "outputs": [
    {
     "data": {
      "text/plain": [
       "[]"
      ]
     },
     "execution_count": 35,
     "metadata": {},
     "output_type": "execute_result"
    }
   ],
   "source": [
    "# -- Delete the university_shortname column\n",
    "cur.execute(\"\"\"\n",
    "            \n",
    "            ALTER TABLE affiliations\n",
    "            DROP COLUMN university_shortname;\n",
    "                        \n",
    "            \"\"\").fetchall()"
   ]
  },
  {
   "cell_type": "code",
   "execution_count": null,
   "metadata": {},
   "outputs": [],
   "source": [
    "\n"
   ]
  },
  {
   "cell_type": "code",
   "execution_count": null,
   "metadata": {},
   "outputs": [],
   "source": []
  },
  {
   "cell_type": "code",
   "execution_count": null,
   "metadata": {},
   "outputs": [],
   "source": []
  },
  {
   "cell_type": "code",
   "execution_count": null,
   "metadata": {},
   "outputs": [],
   "source": []
  },
  {
   "cell_type": "code",
   "execution_count": 51,
   "metadata": {},
   "outputs": [
    {
     "name": "stdout",
     "output_type": "stream",
     "text": [
      "Ok_\n"
     ]
    }
   ],
   "source": [
    "print('Ok_')"
   ]
  }
 ],
 "metadata": {
  "kernelspec": {
   "display_name": "Python 3",
   "language": "python",
   "name": "python3"
  },
  "language_info": {
   "codemirror_mode": {
    "name": "ipython",
    "version": 3
   },
   "file_extension": ".py",
   "mimetype": "text/x-python",
   "name": "python",
   "nbconvert_exporter": "python",
   "pygments_lexer": "ipython3",
   "version": "3.11.4"
  },
  "orig_nbformat": 4,
  "vscode": {
   "interpreter": {
    "hash": "5238573367df39f7286bb46f9ff5f08f63a01a80960060ce41e3c79b190280fa"
   }
  }
 },
 "nbformat": 4,
 "nbformat_minor": 2
}
