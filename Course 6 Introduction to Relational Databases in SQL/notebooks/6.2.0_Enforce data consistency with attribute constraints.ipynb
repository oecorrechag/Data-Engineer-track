{
 "cells": [
  {
   "cell_type": "code",
   "execution_count": 66,
   "metadata": {},
   "outputs": [
    {
     "name": "stdout",
     "output_type": "stream",
     "text": [
      "The autoreload extension is already loaded. To reload it, use:\n",
      "  %reload_ext autoreload\n"
     ]
    }
   ],
   "source": [
    "%load_ext autoreload\n",
    "%autoreload 2"
   ]
  },
  {
   "cell_type": "code",
   "execution_count": 67,
   "metadata": {},
   "outputs": [
    {
     "name": "stdout",
     "output_type": "stream",
     "text": [
      "The autoreload extension is already loaded. To reload it, use:\n",
      "  %reload_ext autoreload\n"
     ]
    }
   ],
   "source": [
    "%load_ext autoreload\n",
    "%autoreload 2"
   ]
  },
  {
   "cell_type": "code",
   "execution_count": 68,
   "metadata": {},
   "outputs": [],
   "source": [
    "import pandas as pd\n",
    "import numpy as np\n",
    "\n",
    "pd.set_option('display.max_columns', None)\n",
    "pd.set_option('display.max_rows', None)\n",
    "import warnings\n",
    "warnings.filterwarnings(\"ignore\")"
   ]
  },
  {
   "cell_type": "code",
   "execution_count": 69,
   "metadata": {},
   "outputs": [],
   "source": [
    "import sys\n",
    "sys.path.append(\"../../\") \n",
    "\n",
    "from utils.paths import make_dir_line\n",
    "\n",
    "modality = 'c'\n",
    "project = 'Introduction to Relational Databases in SQL'\n",
    "data = make_dir_line(modality, project)\n",
    "\n",
    "raw = data('raw')"
   ]
  },
  {
   "cell_type": "code",
   "execution_count": 70,
   "metadata": {},
   "outputs": [],
   "source": [
    "import sqlite3\n",
    "\n",
    "conn = sqlite3.connect(\":memory:\")  ## aca se indica el nombre de la db.\n",
    "cur = conn.cursor()"
   ]
  },
  {
   "attachments": {},
   "cell_type": "markdown",
   "metadata": {},
   "source": [
    "# 6.2.0 Enforce data consistency with attribute constraints\n",
    "\n",
    "info: https://www.postgresql.org/docs/10/datatype-datetime.html#DATATYPE-DATETIME-INPUT"
   ]
  },
  {
   "cell_type": "code",
   "execution_count": 71,
   "metadata": {},
   "outputs": [],
   "source": [
    "conn.executescript(\n",
    "    \"\"\"\n",
    "    \n",
    "DROP TABLE IF EXISTS transactions;\n",
    "\n",
    "CREATE TABLE transactions (\n",
    "  transaction_date    DATE,\n",
    "  amount              INTEGER,\n",
    "  fee                 TEXT\n",
    ");\n",
    "\n",
    "\"\"\"\n",
    ")\n",
    "conn.commit()"
   ]
  },
  {
   "cell_type": "code",
   "execution_count": 72,
   "metadata": {},
   "outputs": [
    {
     "data": {
      "text/plain": [
       "<sqlite3.Cursor at 0x7f458b096240>"
      ]
     },
     "execution_count": 72,
     "metadata": {},
     "output_type": "execute_result"
    }
   ],
   "source": [
    "df = pd.read_csv(raw / 'transactions.csv', sep = ',', decimal = '.', header = 0, encoding = 'utf-8')\n",
    "transactions = list(zip(df.transaction_date, df.amount, df.fee))\n",
    "cur.executemany(\"INSERT INTO transactions VALUES  (?,?,?)\", transactions)"
   ]
  },
  {
   "attachments": {},
   "cell_type": "markdown",
   "metadata": {},
   "source": [
    "## 6.2.2 Types of database constraints\n",
    "\n",
    "Which of the following is **not** used to enforce a database constraint?\n",
    "\n",
    "R:/ SQL aggregate functions. SQL aggregate functions are not used to enforce constraints, but to do calculations on data.\n",
    "\n",
    "## 6.2.3 Conforming with data types"
   ]
  },
  {
   "cell_type": "code",
   "execution_count": 73,
   "metadata": {},
   "outputs": [
    {
     "data": {
      "text/plain": [
       "[]"
      ]
     },
     "execution_count": 73,
     "metadata": {},
     "output_type": "execute_result"
    }
   ],
   "source": [
    "# -- Let's add a record to the table\n",
    "cur.execute(\"\"\"\n",
    "            \n",
    "            INSERT INTO transactions (transaction_date, amount, fee) \n",
    "            VALUES ('24/09/2018', 5454, '30');\n",
    "                        \n",
    "            \"\"\").fetchall()"
   ]
  },
  {
   "cell_type": "code",
   "execution_count": 74,
   "metadata": {},
   "outputs": [
    {
     "data": {
      "text/plain": [
       "[('8/01/1999', 500, '20'),\n",
       " ('20/02/2001', 403, '15'),\n",
       " ('20/03/2001', 3430, '35'),\n",
       " ('24/09/2018', 5454, '30')]"
      ]
     },
     "execution_count": 74,
     "metadata": {},
     "output_type": "execute_result"
    }
   ],
   "source": [
    "# -- Doublecheck the contents\n",
    "cur.execute(\"\"\"\n",
    "            \n",
    "            SELECT *\n",
    "            FROM transactions;\n",
    "                        \n",
    "            \"\"\").fetchall()"
   ]
  },
  {
   "attachments": {},
   "cell_type": "markdown",
   "metadata": {},
   "source": [
    "## 6.2.4 Type CASTs"
   ]
  },
  {
   "cell_type": "code",
   "execution_count": 75,
   "metadata": {},
   "outputs": [
    {
     "data": {
      "text/plain": [
       "[('8/01/1999', 520),\n",
       " ('20/02/2001', 418),\n",
       " ('20/03/2001', 3465),\n",
       " ('24/09/2018', 5484)]"
      ]
     },
     "execution_count": 75,
     "metadata": {},
     "output_type": "execute_result"
    }
   ],
   "source": [
    "# -- Calculate the net amount as amount + fee\n",
    "cur.execute(\"\"\"\n",
    "            \n",
    "            SELECT transaction_date, amount + CAST(fee AS integer) AS net_amount \n",
    "            FROM transactions;\n",
    "                        \n",
    "            \"\"\").fetchall()"
   ]
  },
  {
   "attachments": {},
   "cell_type": "markdown",
   "metadata": {},
   "source": [
    "## 6.2.6 Change types with ALTER COLUMN"
   ]
  },
  {
   "cell_type": "code",
   "execution_count": 76,
   "metadata": {},
   "outputs": [],
   "source": [
    "conn = sqlite3.connect(\":memory:\") \n",
    "cur = conn.cursor()"
   ]
  },
  {
   "cell_type": "code",
   "execution_count": 77,
   "metadata": {},
   "outputs": [],
   "source": [
    "conn.executescript(\n",
    "    \"\"\"\n",
    "    \n",
    "    DROP TABLE IF EXISTS university_professors;\n",
    "\n",
    "    CREATE TABLE university_professors (\n",
    "        firstname             VARCHAR,\n",
    "        lastname              VARCHAR,\n",
    "        university            VARCHAR,\n",
    "        university_shortname  VARCHAR,\n",
    "        university_city       VARCHAR,\n",
    "        function              VARCHAR,\n",
    "        organization          VARCHAR,\n",
    "        organization_sector   VARCHAR\n",
    "    );\n",
    "\n",
    "\n",
    "    DROP TABLE IF EXISTS professors;\n",
    "\n",
    "    CREATE TABLE professors (\n",
    "        firstname            text,\n",
    "        lastname             text,\n",
    "        university_shortname text\n",
    "    );\n",
    "\n",
    "\n",
    "    DROP TABLE IF EXISTS universities;\n",
    "    \n",
    "    CREATE TABLE universities (\n",
    "        university_shortname text,\n",
    "        university           text,\n",
    "        university_city      text\n",
    "    );\n",
    "\n",
    "\n",
    "    DROP TABLE IF EXISTS organizations;\n",
    "\n",
    "    CREATE TABLE organizations (\n",
    "        organization        text,\n",
    "        organization_sector text\n",
    "    );\n",
    "\n",
    "\n",
    "    DROP TABLE IF EXISTS affiliations;\n",
    "\n",
    "    CREATE TABLE affiliations (\n",
    "        firstname             text,\n",
    "        lastname              text,\n",
    "        function              text,\n",
    "        organization          text\n",
    "    );\n",
    "\n",
    "\n",
    "    \"\"\"\n",
    ")\n",
    "conn.commit()"
   ]
  },
  {
   "cell_type": "code",
   "execution_count": 78,
   "metadata": {},
   "outputs": [
    {
     "data": {
      "text/plain": [
       "<sqlite3.Cursor at 0x7f458b095e40>"
      ]
     },
     "execution_count": 78,
     "metadata": {},
     "output_type": "execute_result"
    }
   ],
   "source": [
    "df = pd.read_csv(raw / 'university_professors.csv', sep = ',', decimal = '.', header = 0, encoding = 'utf-8')\n",
    "university_professors = list(zip(df.firstname, df.lastname, df.university, df.university_shortname, df.university_city, df.function, df.organization, df.organization_sector))\n",
    "cur.executemany(\"INSERT INTO university_professors VALUES  (?,?,?,?,?,?,?,?)\", university_professors)"
   ]
  },
  {
   "cell_type": "code",
   "execution_count": 79,
   "metadata": {},
   "outputs": [
    {
     "data": {
      "text/plain": [
       "<sqlite3.Cursor at 0x7f458b095e40>"
      ]
     },
     "execution_count": 79,
     "metadata": {},
     "output_type": "execute_result"
    }
   ],
   "source": [
    "cur.executescript(\"\"\"\n",
    "    \n",
    "    INSERT INTO professors \n",
    "    SELECT DISTINCT firstname, lastname, university_shortname \n",
    "    FROM university_professors;\n",
    "\n",
    "    INSERT INTO affiliations \n",
    "    SELECT DISTINCT firstname, lastname, function, organization \n",
    "    FROM university_professors;            \n",
    "                \n",
    "                \"\"\")"
   ]
  },
  {
   "cell_type": "code",
   "execution_count": 80,
   "metadata": {},
   "outputs": [
    {
     "data": {
      "text/plain": [
       "[('EPF',),\n",
       " ('ETH',),\n",
       " ('UBE',),\n",
       " ('ULA',),\n",
       " ('USG',),\n",
       " ('UNE',),\n",
       " ('UFR',),\n",
       " ('USI',),\n",
       " ('UBA',),\n",
       " ('UGE',),\n",
       " ('UZH',)]"
      ]
     },
     "execution_count": 80,
     "metadata": {},
     "output_type": "execute_result"
    }
   ],
   "source": [
    "# -- Select the university_shortname column\n",
    "cur.execute(\"\"\"\n",
    "            \n",
    "            SELECT DISTINCT(university_shortname) \n",
    "            FROM professors;\n",
    "                        \n",
    "            \"\"\").fetchall()"
   ]
  },
  {
   "cell_type": "code",
   "execution_count": 81,
   "metadata": {},
   "outputs": [],
   "source": [
    "# # -- Specify the correct fixed-length character type\n",
    "# cur.execute(\"\"\"\n",
    "            \n",
    "#             ALTER TABLE professors\n",
    "#             ALTER COLUMN university_shortname\n",
    "#             TYPE char(3);\n",
    "                        \n",
    "#             \"\"\").fetchall()"
   ]
  },
  {
   "cell_type": "code",
   "execution_count": 82,
   "metadata": {},
   "outputs": [],
   "source": [
    "# # -- Specify the correct fixed-length character type\n",
    "# cur.execute(\"\"\"\n",
    "            \n",
    "#             ALTER TABLE professors\n",
    "#             ALTER COLUMN firstname\n",
    "#             TYPE varchar(64);\n",
    "                        \n",
    "#             \"\"\").fetchall()"
   ]
  },
  {
   "attachments": {},
   "cell_type": "markdown",
   "metadata": {},
   "source": [
    "## 6.2.7 Convert types USING a function\n",
    "\n",
    "If you don't want to reserve too much space for a certain varchar column, you can truncate the values before converting its type."
   ]
  },
  {
   "cell_type": "code",
   "execution_count": 83,
   "metadata": {},
   "outputs": [],
   "source": [
    "# # -- Convert the values in firstname to a max. of 16 characters\n",
    "# cur.execute(\"\"\"\n",
    "            \n",
    "#             ALTER TABLE professors \n",
    "#             ALTER COLUMN firstname \n",
    "#             TYPE varchar(16)\n",
    "#             USING SUBSTRING(firstname FROM 1 FOR 16)\n",
    "                        \n",
    "#             \"\"\").fetchall()"
   ]
  },
  {
   "attachments": {},
   "cell_type": "markdown",
   "metadata": {},
   "source": [
    "## 6.2.9 Disallow NULL values with SET NOT NULL"
   ]
  },
  {
   "cell_type": "code",
   "execution_count": 84,
   "metadata": {},
   "outputs": [],
   "source": [
    "# # -- Disallow NULL values in firstname\n",
    "# cur.execute(\"\"\"\n",
    "            \n",
    "#             ALTER TABLE professors \n",
    "#             ALTER COLUMN firstname SET NOT NULL;\n",
    "                        \n",
    "#             \"\"\").fetchall()"
   ]
  },
  {
   "cell_type": "code",
   "execution_count": 85,
   "metadata": {},
   "outputs": [],
   "source": [
    "# # -- Disallow NULL values in lastname\n",
    "# cur.execute(\"\"\"\n",
    "                        \n",
    "#             ALTER TABLE professors \n",
    "#             ALTER COLUMN lastname SET NOT NULL;\n",
    "                        \n",
    "#             \"\"\").fetchall()"
   ]
  },
  {
   "attachments": {},
   "cell_type": "markdown",
   "metadata": {},
   "source": [
    "## 6.2.10 What happens if you try to enter NULLs?"
   ]
  },
  {
   "cell_type": "code",
   "execution_count": 86,
   "metadata": {},
   "outputs": [],
   "source": [
    "# cur.execute(\"\"\"\n",
    "            \n",
    "#             INSERT INTO professors (firstname, lastname, university_shortname)\n",
    "#             VALUES (NULL, 'Miller', 'ETH');\n",
    "                        \n",
    "#             \"\"\").fetchall()"
   ]
  },
  {
   "attachments": {},
   "cell_type": "markdown",
   "metadata": {},
   "source": [
    "Question: Why does this throw an error?\n",
    "\n",
    "R:/ Because a database constraint is violated. This statement violates one of the not-null constraints you've just specified.\n",
    "\n",
    "## 6.2.11 Make your columns UNIQUE with ADD CONSTRAINT"
   ]
  },
  {
   "cell_type": "code",
   "execution_count": 87,
   "metadata": {},
   "outputs": [],
   "source": [
    "# -- Make universities.university_shortname unique\n",
    "# cur.execute(\"\"\"\n",
    "            \n",
    "#             ALTER TABLE universities\n",
    "#             ADD CONSTRAINT university_shortname_unq UNIQUE(university_shortname);\n",
    "                        \n",
    "#             \"\"\").fetchall()"
   ]
  },
  {
   "cell_type": "code",
   "execution_count": 88,
   "metadata": {},
   "outputs": [],
   "source": [
    "# # -- Make organizations.organization unique\n",
    "# cur.execute(\"\"\"\n",
    "            \n",
    "#             ALTER TABLE organizations\n",
    "#             ADD CONSTRAINT organization_unq UNIQUE(organization);\n",
    "                        \n",
    "#             \"\"\").fetchall()"
   ]
  },
  {
   "cell_type": "code",
   "execution_count": 89,
   "metadata": {},
   "outputs": [
    {
     "name": "stdout",
     "output_type": "stream",
     "text": [
      "Ok_\n"
     ]
    }
   ],
   "source": [
    "print('Ok_')"
   ]
  }
 ],
 "metadata": {
  "kernelspec": {
   "display_name": "Python 3",
   "language": "python",
   "name": "python3"
  },
  "language_info": {
   "codemirror_mode": {
    "name": "ipython",
    "version": 3
   },
   "file_extension": ".py",
   "mimetype": "text/x-python",
   "name": "python",
   "nbconvert_exporter": "python",
   "pygments_lexer": "ipython3",
   "version": "3.11.4"
  },
  "orig_nbformat": 4,
  "vscode": {
   "interpreter": {
    "hash": "5238573367df39f7286bb46f9ff5f08f63a01a80960060ce41e3c79b190280fa"
   }
  }
 },
 "nbformat": 4,
 "nbformat_minor": 2
}
