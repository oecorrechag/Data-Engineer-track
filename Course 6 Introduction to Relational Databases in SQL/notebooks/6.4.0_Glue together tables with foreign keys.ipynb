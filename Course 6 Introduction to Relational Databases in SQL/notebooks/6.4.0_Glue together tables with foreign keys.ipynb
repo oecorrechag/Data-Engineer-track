{
 "cells": [
  {
   "cell_type": "code",
   "execution_count": 1,
   "metadata": {},
   "outputs": [],
   "source": [
    "%load_ext autoreload\n",
    "%autoreload 2"
   ]
  },
  {
   "cell_type": "code",
   "execution_count": 2,
   "metadata": {},
   "outputs": [
    {
     "name": "stdout",
     "output_type": "stream",
     "text": [
      "The autoreload extension is already loaded. To reload it, use:\n",
      "  %reload_ext autoreload\n"
     ]
    }
   ],
   "source": [
    "%load_ext autoreload\n",
    "%autoreload 2"
   ]
  },
  {
   "cell_type": "code",
   "execution_count": 3,
   "metadata": {},
   "outputs": [],
   "source": [
    "import pandas as pd\n",
    "import numpy as np\n",
    "\n",
    "pd.set_option('display.max_columns', None)\n",
    "pd.set_option('display.max_rows', None)\n",
    "import warnings\n",
    "warnings.filterwarnings(\"ignore\")"
   ]
  },
  {
   "cell_type": "code",
   "execution_count": 4,
   "metadata": {},
   "outputs": [],
   "source": [
    "import sys\n",
    "sys.path.append(\"../../\") \n",
    "\n",
    "from utils.paths import make_dir_line\n",
    "\n",
    "modality = 'c'\n",
    "project = 'Introduction to Relational Databases in SQL'\n",
    "data = make_dir_line(modality, project)\n",
    "\n",
    "raw = data('raw')"
   ]
  },
  {
   "cell_type": "code",
   "execution_count": 5,
   "metadata": {},
   "outputs": [],
   "source": [
    "import sqlite3\n",
    "\n",
    "conn = sqlite3.connect(\":memory:\")  ## aca se indica el nombre de la db.\n",
    "cur = conn.cursor()"
   ]
  },
  {
   "attachments": {},
   "cell_type": "markdown",
   "metadata": {},
   "source": [
    "# 6.4.0_Glue together tables with foreign keys"
   ]
  },
  {
   "cell_type": "code",
   "execution_count": 6,
   "metadata": {},
   "outputs": [],
   "source": [
    "conn.executescript(\n",
    "    \"\"\"\n",
    "    \n",
    "    DROP TABLE IF EXISTS university_professors;\n",
    "\n",
    "    CREATE TABLE university_professors (\n",
    "        firstname             VARCHAR,\n",
    "        lastname              VARCHAR,\n",
    "        university            VARCHAR,\n",
    "        university_shortname  VARCHAR,\n",
    "        university_city       VARCHAR,\n",
    "        function              VARCHAR,\n",
    "        organization          VARCHAR,\n",
    "        organization_sector   VARCHAR\n",
    "    );\n",
    "\n",
    "\n",
    "    DROP TABLE IF EXISTS professors;\n",
    "\n",
    "    CREATE TABLE professors (\n",
    "        firstname            text,\n",
    "        lastname             text,\n",
    "        university_shortname text\n",
    "    );\n",
    "\n",
    "\n",
    "    DROP TABLE IF EXISTS universities;\n",
    "    \n",
    "    CREATE TABLE universities (\n",
    "        id                   text,\n",
    "        university           text,\n",
    "        university_city      text\n",
    "    );\n",
    "\n",
    "\n",
    "    DROP TABLE IF EXISTS affiliations;\n",
    "\n",
    "    CREATE TABLE affiliations (\n",
    "        firstname             text,\n",
    "        lastname              text,\n",
    "        function              text\n",
    "    );\n",
    "\n",
    "\n",
    "    DROP TABLE IF EXISTS organizations;\n",
    "\n",
    "    CREATE TABLE organizations (\n",
    "        organization        text,\n",
    "        organization_sector text\n",
    "    );\n",
    "    \n",
    "    \n",
    "    DROP TABLE IF EXISTS cars;\n",
    "\n",
    "    CREATE TABLE cars (\n",
    "        make   varchar(64) NOT NULL,\n",
    "        model  varchar(64) NOT NULL,\n",
    "        mpg    integer NOT NULL\n",
    "        \n",
    "    );\n",
    "    \n",
    "\n",
    "    \"\"\"\n",
    ")\n",
    "conn.commit()"
   ]
  },
  {
   "cell_type": "code",
   "execution_count": 7,
   "metadata": {},
   "outputs": [
    {
     "data": {
      "text/plain": [
       "<sqlite3.Cursor at 0x7fcde1804e40>"
      ]
     },
     "execution_count": 7,
     "metadata": {},
     "output_type": "execute_result"
    }
   ],
   "source": [
    "df = pd.read_csv(raw / 'university_professors.csv', sep = ',', decimal = '.', header = 0, encoding = 'utf-8')\n",
    "university_professors = list(zip(df.firstname, df.lastname, df.university, df.university_shortname, df.university_city, df.function, df.organization, df.organization_sector))\n",
    "cur.executemany(\"INSERT INTO university_professors VALUES  (?,?,?,?,?,?,?,?)\", university_professors)\n",
    "\n",
    "df = pd.read_csv(raw / 'cars.csv', sep = ',', decimal = '.', header = 0, encoding = 'utf-8')\n",
    "cars = list(zip(df.make, df.model, df.mpg))\n",
    "cur.executemany(\"INSERT INTO cars VALUES  (?,?,?)\", cars)"
   ]
  },
  {
   "cell_type": "code",
   "execution_count": 8,
   "metadata": {},
   "outputs": [],
   "source": [
    "cur.executescript(\n",
    "    \"\"\"\n",
    "    \n",
    "    \n",
    "    INSERT INTO universities \n",
    "    SELECT DISTINCT university_shortname, university, university_city \n",
    "    FROM university_professors;\n",
    "    \n",
    "    \n",
    "    INSERT INTO professors \n",
    "    SELECT DISTINCT firstname, lastname, university_shortname \n",
    "    FROM university_professors;\n",
    "\n",
    "\n",
    "    INSERT INTO affiliations \n",
    "    SELECT DISTINCT firstname, lastname, function\n",
    "    FROM university_professors; \n",
    "    \n",
    "    \n",
    "    INSERT INTO organizations \n",
    "    SELECT DISTINCT organization, organization_sector \n",
    "    FROM university_professors; \n",
    "    \n",
    "\n",
    "    \"\"\"\n",
    ")\n",
    "conn.commit()"
   ]
  },
  {
   "attachments": {},
   "cell_type": "markdown",
   "metadata": {},
   "source": [
    "## 6.4.2 REFERENCE a table with a FOREIGN KEY"
   ]
  },
  {
   "cell_type": "code",
   "execution_count": 9,
   "metadata": {},
   "outputs": [
    {
     "data": {
      "text/plain": [
       "[]"
      ]
     },
     "execution_count": 9,
     "metadata": {},
     "output_type": "execute_result"
    }
   ],
   "source": [
    "# -- Rename the university_shortname column\n",
    "cur.execute(\"\"\"\n",
    "            \n",
    "            ALTER TABLE professors\n",
    "            RENAME COLUMN university_shortname TO university_id;\n",
    "\n",
    "            \"\"\").fetchall()"
   ]
  },
  {
   "cell_type": "code",
   "execution_count": 10,
   "metadata": {},
   "outputs": [],
   "source": [
    "# # -- Add a foreign key on professors referencing universities\n",
    "# cur.execute(\"\"\"\n",
    "            \n",
    "#             ALTER TABLE professors\n",
    "#             ADD CONSTRAINT professors_fkey FOREIGN KEY (university_id) REFERENCES universities (id);\n",
    "\n",
    "#             \"\"\").fetchall()"
   ]
  },
  {
   "cell_type": "markdown",
   "metadata": {},
   "source": [
    "## 6.4.3 Explore foreign key constraints"
   ]
  },
  {
   "cell_type": "code",
   "execution_count": 11,
   "metadata": {},
   "outputs": [
    {
     "data": {
      "text/plain": [
       "[]"
      ]
     },
     "execution_count": 11,
     "metadata": {},
     "output_type": "execute_result"
    }
   ],
   "source": [
    "# -- Try to insert a new professor (fix)\n",
    "cur.execute(\"\"\"\n",
    "            \n",
    "            INSERT INTO professors (firstname, lastname, university_id)\n",
    "            VALUES ('Albert', 'Einstein', 'UZH');\n",
    "\n",
    "            \"\"\").fetchall()"
   ]
  },
  {
   "cell_type": "markdown",
   "metadata": {},
   "source": [
    "## 6.4.4 JOIN tables linked by a foreign key"
   ]
  },
  {
   "cell_type": "code",
   "execution_count": 12,
   "metadata": {},
   "outputs": [
    {
     "data": {
      "text/plain": [
       "[('Abhari', 'ETH', 'Zurich'),\n",
       " ('Axhausen', 'ETH', 'Zurich'),\n",
       " ('Baschera', 'ETH', 'Zurich'),\n",
       " ('Basin', 'ETH', 'Zurich'),\n",
       " ('Bechtold', 'ETH', 'Zurich'),\n",
       " ('Boutellier', 'ETH', 'Zurich'),\n",
       " ('Capkun', 'ETH', 'Zurich'),\n",
       " ('Carreira', 'ETH', 'Zurich'),\n",
       " ('Chen', 'ETH', 'Zurich'),\n",
       " (\"D'Andrea\", 'ETH', 'Zurich'),\n",
       " ('Diederich', 'ETH', 'Zurich'),\n",
       " ('Eberle', 'ETH', 'Zurich'),\n",
       " ('Ermanni', 'ETH', 'Zurich'),\n",
       " ('Faist', 'ETH', 'Zurich'),\n",
       " ('Fontana', 'ETH', 'Zurich'),\n",
       " ('Frossard', 'ETH', 'Zurich'),\n",
       " ('Gramazio', 'ETH', 'Zurich'),\n",
       " ('Gross', 'ETH', 'Zurich'),\n",
       " ('Grote', 'ETH', 'Zurich'),\n",
       " ('Gruber', 'ETH', 'Zurich'),\n",
       " ('Gruissem', 'ETH', 'Zurich'),\n",
       " ('Guzzella', 'ETH', 'Zurich'),\n",
       " ('Günther', 'ETH', 'Zurich'),\n",
       " ('Hafen', 'ETH', 'Zurich'),\n",
       " ('Heinrich', 'ETH', 'Zurich'),\n",
       " ('Hellweg', 'ETH', 'Zurich'),\n",
       " ('Holdenrieder', 'ETH', 'Zurich'),\n",
       " ('Hungerbühler', 'ETH', 'Zurich'),\n",
       " ('Jenny', 'ETH', 'Zurich'),\n",
       " ('Kaufmann', 'ETH', 'Zurich'),\n",
       " ('Klumpner', 'ETH', 'Zurich'),\n",
       " ('Kohler', 'ETH', 'Zurich'),\n",
       " ('Krek', 'ETH', 'Zurich'),\n",
       " ('Lanzavecchia', 'ETH', 'Zurich'),\n",
       " ('Levine', 'ETH', 'Zurich'),\n",
       " ('Loeliger', 'ETH', 'Zurich'),\n",
       " ('Maurer', 'ETH', 'Zurich'),\n",
       " ('Meboldt', 'ETH', 'Zurich'),\n",
       " ('Meili', 'ETH', 'Zurich'),\n",
       " ('Menz', 'ETH', 'Zurich'),\n",
       " ('Morari', 'ETH', 'Zurich'),\n",
       " ('Morbidelli', 'ETH', 'Zurich'),\n",
       " ('Nelson', 'ETH', 'Zurich'),\n",
       " ('Neri', 'ETH', 'Zurich'),\n",
       " ('Poulikakos', 'ETH', 'Zurich'),\n",
       " ('Robertsson', 'ETH', 'Zurich'),\n",
       " ('Rudolf von Rohr', 'ETH', 'Zurich'),\n",
       " ('Saar', 'ETH', 'Zurich'),\n",
       " ('Schlüter', 'ETH', 'Zurich'),\n",
       " ('Schubert', 'ETH', 'Zurich'),\n",
       " ('Schulin', 'ETH', 'Zurich'),\n",
       " ('Schönsleben', 'ETH', 'Zurich'),\n",
       " ('Siegwart', 'ETH', 'Zurich'),\n",
       " ('Sornette', 'ETH', 'Zurich'),\n",
       " ('Stalder', 'ETH', 'Zurich'),\n",
       " ('Steinfeld', 'ETH', 'Zurich'),\n",
       " ('Székely', 'ETH', 'Zurich'),\n",
       " ('Tröster', 'ETH', 'Zurich'),\n",
       " ('Vogel', 'ETH', 'Zurich'),\n",
       " ('Wegener', 'ETH', 'Zurich'),\n",
       " ('Weidmann', 'ETH', 'Zurich'),\n",
       " ('Wennemers', 'ETH', 'Zurich'),\n",
       " ('Widmayer', 'ETH', 'Zurich'),\n",
       " ('Widmer', 'ETH', 'Zurich'),\n",
       " ('Wolfrum', 'ETH', 'Zurich'),\n",
       " ('Wüest', 'ETH', 'Zurich'),\n",
       " ('von Krogh', 'ETH', 'Zurich'),\n",
       " ('Bühler', 'UZH', 'Zurich'),\n",
       " ('Einstein', 'UZH', 'Zurich'),\n",
       " ('Gademann', 'UZH', 'Zurich'),\n",
       " ('Gugerli', 'UZH', 'Zurich'),\n",
       " ('Jackowski', 'UZH', 'Zurich'),\n",
       " ('Szucs', 'UZH', 'Zurich')]"
      ]
     },
     "execution_count": 12,
     "metadata": {},
     "output_type": "execute_result"
    }
   ],
   "source": [
    "# -- Select all professors working for universities in the city of Zurich\n",
    "cur.execute(\"\"\"\n",
    "            \n",
    "            SELECT professors.lastname, universities.id, universities.university_city\n",
    "            FROM professors\n",
    "            JOIN universities\n",
    "            ON professors.university_id = universities.id\n",
    "            AND universities.university_city = 'Zurich';\n",
    "\n",
    "            \"\"\").fetchall()"
   ]
  },
  {
   "cell_type": "markdown",
   "metadata": {},
   "source": [
    "## 6.4.6 Add foreign keys to the \"affiliations\" table"
   ]
  },
  {
   "cell_type": "code",
   "execution_count": 15,
   "metadata": {},
   "outputs": [
    {
     "data": {
      "text/plain": [
       "[]"
      ]
     },
     "execution_count": 15,
     "metadata": {},
     "output_type": "execute_result"
    }
   ],
   "source": [
    "# -- Add a professor_id column\n",
    "cur.execute(\"\"\"\n",
    "            \n",
    "            ALTER TABLE affiliations\n",
    "            ADD COLUMN professor_id integer REFERENCES professors (id);\n",
    "\n",
    "            \"\"\").fetchall()"
   ]
  },
  {
   "cell_type": "code",
   "execution_count": null,
   "metadata": {},
   "outputs": [],
   "source": [
    "# # -- Rename the organization column to organization_id\n",
    "# cur.execute(\"\"\"\n",
    "            \n",
    "#             ALTER TABLE affiliations\n",
    "#             RENAME organization TO organization_id\n",
    "\n",
    "#             \"\"\").fetchall()"
   ]
  },
  {
   "cell_type": "code",
   "execution_count": null,
   "metadata": {},
   "outputs": [],
   "source": [
    "# # -- Rename the organization column to organization_id\n",
    "# cur.execute(\"\"\"\n",
    "            \n",
    "#             ALTER TABLE affiliations\n",
    "#             ADD CONSTRAINT affiliations_organization_fkey FOREIGN KEY (organization_id) REFERENCES organizations (id);\n",
    "\n",
    "#             \"\"\").fetchall()"
   ]
  },
  {
   "cell_type": "markdown",
   "metadata": {},
   "source": [
    "## 6.4.7 Populate the \"professor_id\" column"
   ]
  },
  {
   "cell_type": "code",
   "execution_count": 13,
   "metadata": {},
   "outputs": [
    {
     "data": {
      "text/plain": [
       "[('Karl', 'Aberer', 'Chairman of L3S Advisory Board'),\n",
       " ('Karl', 'Aberer', 'Member Conseil of Zeno-Karl Schindler Foundation'),\n",
       " ('Karl', 'Aberer', 'Member of Conseil Fondation IDIAP'),\n",
       " ('Karl', 'Aberer', 'Panel Member '),\n",
       " ('Reza Shokrollah', 'Abhari', 'Aufsichtsratsmandat'),\n",
       " ('Georges',\n",
       "  'Abou Jaoudé',\n",
       "  \"Professeur invité (2 interventions d'une semaine)\"),\n",
       " ('Hugues', 'Abriel', None),\n",
       " ('Daniel', 'Aebersold', None),\n",
       " ('Christoph', 'Aebi', None),\n",
       " ('Marcelo', 'Aebi', None)]"
      ]
     },
     "execution_count": 13,
     "metadata": {},
     "output_type": "execute_result"
    }
   ],
   "source": [
    "# -- Have a look at the 10 first rows of affiliations\n",
    "cur.execute(\"\"\"\n",
    "            \n",
    "            SELECT * \n",
    "            FROM affiliations \n",
    "            LIMIT 10;\n",
    "\n",
    "            \"\"\").fetchall()"
   ]
  },
  {
   "cell_type": "code",
   "execution_count": 17,
   "metadata": {},
   "outputs": [],
   "source": [
    "# -- Set professor_id to professors.id where firstname, lastname correspond to rows in professors\n",
    "# cur.execute(\"\"\"\n",
    "            \n",
    "#             UPDATE affiliations\n",
    "#             SET professor_id = professors.id\n",
    "#             FROM professors\n",
    "#             WHERE affiliations.firstname = professors.firstname AND affiliations.lastname = professors.lastname;\n",
    "\n",
    "#             \"\"\").fetchall()"
   ]
  },
  {
   "cell_type": "code",
   "execution_count": 18,
   "metadata": {},
   "outputs": [
    {
     "data": {
      "text/plain": [
       "[('Karl', 'Aberer', 'Chairman of L3S Advisory Board', None),\n",
       " ('Karl', 'Aberer', 'Member Conseil of Zeno-Karl Schindler Foundation', None),\n",
       " ('Karl', 'Aberer', 'Member of Conseil Fondation IDIAP', None),\n",
       " ('Karl', 'Aberer', 'Panel Member ', None),\n",
       " ('Reza Shokrollah', 'Abhari', 'Aufsichtsratsmandat', None),\n",
       " ('Georges',\n",
       "  'Abou Jaoudé',\n",
       "  \"Professeur invité (2 interventions d'une semaine)\",\n",
       "  None),\n",
       " ('Hugues', 'Abriel', None, None),\n",
       " ('Daniel', 'Aebersold', None, None),\n",
       " ('Christoph', 'Aebi', None, None),\n",
       " ('Marcelo', 'Aebi', None, None)]"
      ]
     },
     "execution_count": 18,
     "metadata": {},
     "output_type": "execute_result"
    }
   ],
   "source": [
    "# -- Have a look at the 10 first rows of affiliations again\n",
    "cur.execute(\"\"\"\n",
    "            \n",
    "            SELECT * \n",
    "            FROM affiliations \n",
    "            LIMIT 10;\n",
    "\n",
    "            \"\"\").fetchall()"
   ]
  },
  {
   "cell_type": "markdown",
   "metadata": {},
   "source": [
    "## 6.4.8 Drop \"firstname\" and \"lastname\""
   ]
  },
  {
   "cell_type": "code",
   "execution_count": 19,
   "metadata": {},
   "outputs": [
    {
     "data": {
      "text/plain": [
       "[]"
      ]
     },
     "execution_count": 19,
     "metadata": {},
     "output_type": "execute_result"
    }
   ],
   "source": [
    "# -- Drop the firstname column\n",
    "cur.execute(\"\"\"\n",
    "            \n",
    "            ALTER TABLE affiliations\n",
    "            DROP COLUMN firstname;\n",
    "\n",
    "            \"\"\").fetchall()"
   ]
  },
  {
   "cell_type": "code",
   "execution_count": 21,
   "metadata": {},
   "outputs": [
    {
     "data": {
      "text/plain": [
       "[]"
      ]
     },
     "execution_count": 21,
     "metadata": {},
     "output_type": "execute_result"
    }
   ],
   "source": [
    "# -- Drop the lastname column\n",
    "cur.execute(\"\"\"\n",
    "            \n",
    "            ALTER TABLE affiliations\n",
    "            DROP COLUMN lastname;\n",
    "\n",
    "            \"\"\").fetchall()"
   ]
  },
  {
   "cell_type": "markdown",
   "metadata": {},
   "source": [
    "## 6.4.10 Referential integrity violations"
   ]
  },
  {
   "cell_type": "code",
   "execution_count": null,
   "metadata": {},
   "outputs": [],
   "source": []
  },
  {
   "cell_type": "code",
   "execution_count": null,
   "metadata": {},
   "outputs": [],
   "source": []
  },
  {
   "cell_type": "code",
   "execution_count": null,
   "metadata": {},
   "outputs": [],
   "source": []
  },
  {
   "cell_type": "code",
   "execution_count": null,
   "metadata": {},
   "outputs": [
    {
     "name": "stdout",
     "output_type": "stream",
     "text": [
      "Ok_\n"
     ]
    }
   ],
   "source": [
    "print('Ok_')"
   ]
  }
 ],
 "metadata": {
  "kernelspec": {
   "display_name": "Python 3",
   "language": "python",
   "name": "python3"
  },
  "language_info": {
   "codemirror_mode": {
    "name": "ipython",
    "version": 3
   },
   "file_extension": ".py",
   "mimetype": "text/x-python",
   "name": "python",
   "nbconvert_exporter": "python",
   "pygments_lexer": "ipython3",
   "version": "3.11.4"
  },
  "orig_nbformat": 4,
  "vscode": {
   "interpreter": {
    "hash": "5238573367df39f7286bb46f9ff5f08f63a01a80960060ce41e3c79b190280fa"
   }
  }
 },
 "nbformat": 4,
 "nbformat_minor": 2
}
