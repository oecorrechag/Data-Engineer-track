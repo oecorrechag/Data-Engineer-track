{
 "cells": [
  {
   "cell_type": "code",
   "execution_count": 12,
   "metadata": {},
   "outputs": [
    {
     "name": "stdout",
     "output_type": "stream",
     "text": [
      "The autoreload extension is already loaded. To reload it, use:\n",
      "  %reload_ext autoreload\n"
     ]
    }
   ],
   "source": [
    "%load_ext autoreload\n",
    "%autoreload 2"
   ]
  },
  {
   "cell_type": "code",
   "execution_count": 13,
   "metadata": {},
   "outputs": [],
   "source": [
    "import pandas as pd\n",
    "import numpy as np\n",
    "\n",
    "pd.set_option('display.max_columns', None)\n",
    "pd.set_option('display.max_rows', None)\n",
    "import warnings\n",
    "warnings.filterwarnings(\"ignore\")"
   ]
  },
  {
   "cell_type": "code",
   "execution_count": 14,
   "metadata": {},
   "outputs": [],
   "source": [
    "import sys\n",
    "sys.path.append(\"../\") \n",
    "\n",
    "from utils.paths import make_dir_line\n",
    "\n",
    "modality = 'c'\n",
    "project = 'Intermediate SQL'\n",
    "data = make_dir_line(modality, project)\n",
    "\n",
    "raw = data('raw')"
   ]
  },
  {
   "cell_type": "code",
   "execution_count": 15,
   "metadata": {},
   "outputs": [],
   "source": [
    "import sqlite3\n",
    "\n",
    "conn = sqlite3.connect(\":memory:\")  ## aca se indica el nombre de la db.\n",
    "cur = conn.cursor()"
   ]
  },
  {
   "attachments": {},
   "cell_type": "markdown",
   "metadata": {},
   "source": [
    "# 3.4.0 Sorting and Grouping"
   ]
  },
  {
   "cell_type": "code",
   "execution_count": 16,
   "metadata": {},
   "outputs": [],
   "source": [
    "conn.executescript(\n",
    "    \"\"\"\n",
    "DROP TABLE IF EXISTS films;\n",
    "\n",
    "CREATE TABLE films (\n",
    "    id            INT,\n",
    "    title         STRING,\n",
    "    release_year  INT,\n",
    "    country       STRING,\n",
    "    duration      INT,\n",
    "    language      STRING,\n",
    "    certification STRING,\n",
    "    gross         DOUBLE,\n",
    "    budget        DOUBLE\n",
    ");\n",
    "\n",
    "DROP TABLE IF EXISTS people;\n",
    "\n",
    "CREATE TABLE people (\n",
    "    id        INT,\n",
    "    name      STRING,\n",
    "    birthdate STRING,\n",
    "    deathdate STRING\n",
    ");\n",
    "\n",
    "DROP TABLE IF EXISTS reviews;\n",
    "\n",
    "CREATE TABLE reviews (\n",
    "    id             INT,\n",
    "    film_id        INT,\n",
    "    num_user       INT,\n",
    "    num_critic     INT,\n",
    "    imdb_score     DOUBLE,\n",
    "    num_votes      DOUBLE,\n",
    "    facebook_likes DOUBLE\n",
    ");\n",
    "\n",
    "DROP TABLE IF EXISTS roles;\n",
    "\n",
    "CREATE TABLE roles (\n",
    "    id        INT,\n",
    "    film_id   INT,\n",
    "    person_id INT,\n",
    "    role      STRING\n",
    ");\n",
    "\n",
    "\"\"\"\n",
    ")\n",
    "conn.commit()"
   ]
  },
  {
   "cell_type": "code",
   "execution_count": 17,
   "metadata": {},
   "outputs": [
    {
     "data": {
      "text/plain": [
       "<sqlite3.Cursor at 0x1b3a3c73840>"
      ]
     },
     "execution_count": 17,
     "metadata": {},
     "output_type": "execute_result"
    }
   ],
   "source": [
    "df = pd.read_csv(raw / 'films.csv', sep = ',', decimal = '.', header = None, encoding = 'utf-8')\n",
    "df.columns = ['id','title','release_year','country','duration','language','certification','gross','budget']\n",
    "films = list(zip(df.id, df.title, df.release_year, df.country, df.duration, df.language, df.certification, df.gross, df.budget))\n",
    "cur.executemany(\"INSERT INTO films VALUES  (?,?,?,?,?,?,?,?,?)\", films)"
   ]
  },
  {
   "cell_type": "code",
   "execution_count": 18,
   "metadata": {},
   "outputs": [
    {
     "data": {
      "text/plain": [
       "<sqlite3.Cursor at 0x1b3a3c73840>"
      ]
     },
     "execution_count": 18,
     "metadata": {},
     "output_type": "execute_result"
    }
   ],
   "source": [
    "df = pd.read_csv(raw / 'people.csv', sep = ',', decimal = '.', header = None, encoding = 'utf-8')\n",
    "df.columns = ['id','name','birthdate','deathdate']\n",
    "people = list(zip(df.id, df.name, df.birthdate, df.deathdate))\n",
    "cur.executemany(\"INSERT INTO people VALUES  (?,?,?,?)\", people)"
   ]
  },
  {
   "cell_type": "code",
   "execution_count": 19,
   "metadata": {},
   "outputs": [
    {
     "data": {
      "text/plain": [
       "<sqlite3.Cursor at 0x1b3a3c73840>"
      ]
     },
     "execution_count": 19,
     "metadata": {},
     "output_type": "execute_result"
    }
   ],
   "source": [
    "df = pd.read_csv(raw / 'reviews.csv', sep = ',', decimal = '.', header = 0, encoding = 'utf-8')\n",
    "df.columns = ['id','film_id','num_user','num_critic','imdb_score','num_votes','facebook_likes']\n",
    "df = df.loc[:,['id','film_id','num_user','num_critic','imdb_score','num_votes','facebook_likes']]\n",
    "reviews = list(zip(df.id, df.film_id, df.num_user, df.num_critic, df.imdb_score, df.num_votes, df.facebook_likes))\n",
    "cur.executemany(\"INSERT INTO reviews VALUES  (?,?,?,?,?,?,?)\", reviews)"
   ]
  },
  {
   "cell_type": "code",
   "execution_count": 20,
   "metadata": {},
   "outputs": [
    {
     "data": {
      "text/plain": [
       "<sqlite3.Cursor at 0x1b3a3c73840>"
      ]
     },
     "execution_count": 20,
     "metadata": {},
     "output_type": "execute_result"
    }
   ],
   "source": [
    "df = pd.read_csv(raw / 'roles.csv', sep = ',', decimal = '.', header = None, encoding = 'utf-8')\n",
    "df.columns = ['id','film_id','person_id','role']\n",
    "roles = list(zip(df.id, df.film_id, df.person_id, df.role))\n",
    "cur.executemany(\"INSERT INTO roles VALUES  (?,?,?,?)\", roles)"
   ]
  },
  {
   "attachments": {},
   "cell_type": "markdown",
   "metadata": {},
   "source": [
    "## 3.4.2 Sorting single fields"
   ]
  },
  {
   "cell_type": "code",
   "execution_count": null,
   "metadata": {},
   "outputs": [],
   "source": []
  }
 ],
 "metadata": {
  "kernelspec": {
   "display_name": "Python 3",
   "language": "python",
   "name": "python3"
  },
  "language_info": {
   "codemirror_mode": {
    "name": "ipython",
    "version": 3
   },
   "file_extension": ".py",
   "mimetype": "text/x-python",
   "name": "python",
   "nbconvert_exporter": "python",
   "pygments_lexer": "ipython3",
   "version": "3.11.0"
  },
  "orig_nbformat": 4,
  "vscode": {
   "interpreter": {
    "hash": "5238573367df39f7286bb46f9ff5f08f63a01a80960060ce41e3c79b190280fa"
   }
  }
 },
 "nbformat": 4,
 "nbformat_minor": 2
}
