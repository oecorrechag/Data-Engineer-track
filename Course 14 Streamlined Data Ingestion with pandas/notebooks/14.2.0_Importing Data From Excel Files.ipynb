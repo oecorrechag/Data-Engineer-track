{
 "cells": [
  {
   "cell_type": "code",
   "execution_count": 2,
   "metadata": {},
   "outputs": [],
   "source": [
    "%load_ext autoreload\n",
    "%autoreload 2"
   ]
  },
  {
   "cell_type": "code",
   "execution_count": 3,
   "metadata": {},
   "outputs": [],
   "source": [
    "import pandas as pd\n",
    "import numpy as np\n",
    "\n",
    "import matplotlib.pyplot as plt\n",
    "\n",
    "pd.set_option('display.max_columns', None)\n",
    "pd.set_option('display.max_rows', None)\n",
    "import warnings\n",
    "warnings.filterwarnings(\"ignore\")"
   ]
  },
  {
   "cell_type": "code",
   "execution_count": 4,
   "metadata": {},
   "outputs": [],
   "source": [
    "import sys\n",
    "sys.path.append(\"../../../\") \n",
    "\n",
    "from utils.paths import make_dir_line\n",
    "\n",
    "modality = 'c'\n",
    "project = 'Streamlined Data Ingestion with pandas'\n",
    "data = make_dir_line(modality, project)\n",
    "\n",
    "raw = data('raw')"
   ]
  },
  {
   "cell_type": "markdown",
   "metadata": {},
   "source": [
    "# 14.2.0 Importing Data From Excel Files\n",
    "\n",
    "## 14.2.2 Get data from a spreadsheet"
   ]
  },
  {
   "cell_type": "code",
   "execution_count": 5,
   "metadata": {},
   "outputs": [
    {
     "name": "stdout",
     "output_type": "stream",
     "text": [
      "    Age  AttendedBootcamp  BootcampFinish  BootcampLoanYesNo BootcampName  \\\n",
      "0  28.0               0.0             NaN                NaN          NaN   \n",
      "1  22.0               0.0             NaN                NaN          NaN   \n",
      "2  19.0               0.0             NaN                NaN          NaN   \n",
      "3  26.0               0.0             NaN                NaN          NaN   \n",
      "4  20.0               0.0             NaN                NaN          NaN   \n",
      "\n",
      "   BootcampRecommend  ChildrenNumber                 CityPopulation  \\\n",
      "0                NaN             NaN  between 100,000 and 1 million   \n",
      "1                NaN             NaN  between 100,000 and 1 million   \n",
      "2                NaN             NaN            more than 1 million   \n",
      "3                NaN             NaN            more than 1 million   \n",
      "4                NaN             NaN  between 100,000 and 1 million   \n",
      "\n",
      "   CodeEventConferences  CodeEventDjangoGirls  CodeEventGameJam  \\\n",
      "0                   NaN                   NaN               NaN   \n",
      "1                   NaN                   NaN               NaN   \n",
      "2                   NaN                   NaN               NaN   \n",
      "3                   NaN                   NaN               NaN   \n",
      "4                   NaN                   NaN               NaN   \n",
      "\n",
      "   CodeEventGirlDev  CodeEventHackathons  CodeEventMeetup  \\\n",
      "0               NaN                  NaN              NaN   \n",
      "1               NaN                  NaN              NaN   \n",
      "2               NaN                  NaN              NaN   \n",
      "3               NaN                  NaN              NaN   \n",
      "4               NaN                  NaN              NaN   \n",
      "\n",
      "   CodeEventNodeSchool  CodeEventNone  CodeEventOther  CodeEventRailsBridge  \\\n",
      "0                  NaN            NaN             NaN                   NaN   \n",
      "1                  NaN            NaN             NaN                   NaN   \n",
      "2                  NaN            NaN             NaN                   NaN   \n",
      "3                  NaN            NaN             NaN                   NaN   \n",
      "4                  NaN            NaN             NaN                   NaN   \n",
      "\n",
      "   CodeEventRailsGirls  CodeEventStartUpWknd  CodeEventWomenCode  \\\n",
      "0                  NaN                   NaN                 NaN   \n",
      "1                  NaN                   NaN                 NaN   \n",
      "2                  NaN                   NaN                 NaN   \n",
      "3                  NaN                   NaN                 1.0   \n",
      "4                  NaN                   NaN                 NaN   \n",
      "\n",
      "   CodeEventWorkshop  CommuteTime            CountryCitizen  \\\n",
      "0                NaN         35.0  United States of America   \n",
      "1                NaN         90.0  United States of America   \n",
      "2                NaN         45.0  United States of America   \n",
      "3                NaN         45.0  United States of America   \n",
      "4                NaN         10.0  United States of America   \n",
      "\n",
      "                CountryLive                        EmploymentField  \\\n",
      "0  United States of America      office and administrative support   \n",
      "1  United States of America                      food and beverage   \n",
      "2  United States of America                                finance   \n",
      "3  United States of America  arts, entertainment, sports, or media   \n",
      "4  United States of America                              education   \n",
      "\n",
      "  EmploymentFieldOther    EmploymentStatus EmploymentStatusOther  \\\n",
      "0                  NaN  Employed for wages                   NaN   \n",
      "1                  NaN  Employed for wages                   NaN   \n",
      "2                  NaN  Employed for wages                   NaN   \n",
      "3                  NaN  Employed for wages                   NaN   \n",
      "4                  NaN  Employed for wages                   NaN   \n",
      "\n",
      "   ExpectedEarning  FinanciallySupporting  Gender  HasChildren  HasDebt  \\\n",
      "0              NaN                    0.0    male          0.0      1.0   \n",
      "1          50000.0                    NaN    male          NaN      0.0   \n",
      "2              NaN                    NaN    male          NaN      0.0   \n",
      "3          65000.0                    NaN  female          NaN      1.0   \n",
      "4          45000.0                    NaN  female          NaN      1.0   \n",
      "\n",
      "   HasFinancialDependents  HasHighSpdInternet  HasHomeMortgage  \\\n",
      "0                     1.0                 1.0              0.0   \n",
      "1                     0.0                 1.0              NaN   \n",
      "2                     0.0                 1.0              NaN   \n",
      "3                     0.0                 1.0              0.0   \n",
      "4                     0.0                 1.0              0.0   \n",
      "\n",
      "   HasServedInMilitary  HasStudentDebt  HomeMortgageOwe  HoursLearning  \\\n",
      "0                  0.0             1.0              NaN           30.0   \n",
      "1                  0.0             NaN              NaN           30.0   \n",
      "2                  0.0             NaN              NaN           20.0   \n",
      "3                  0.0             1.0              NaN           20.0   \n",
      "4                  0.0             0.0              NaN           25.0   \n",
      "\n",
      "                               ID.x                              ID.y  \\\n",
      "0  cef35615d61b202f1dc794ef2746df14  48fd66e15301df9727e13e6e80aef941   \n",
      "1  323e5a113644d18185c743c241407754  a8cd67193184084b1e32b362225bf280   \n",
      "2  b29a1027e5cd062e654a63764157461d  129b4479808fe006e768502b957a0c52   \n",
      "3  04a11e4bcb573a1261eb0d9948d32637  7313b696ac8f0517a3d0ec7725039bb2   \n",
      "4  9368291c93d5d5f5c8cdb1a575e18bec  d0f75544984896ccfd361af6d9b26047   \n",
      "\n",
      "    Income  IsEthnicMinority  IsReceiveDisabilitiesBenefits  IsSoftwareDev  \\\n",
      "0  32000.0               0.0                            0.0              0   \n",
      "1  15000.0               0.0                            0.0              0   \n",
      "2  48000.0               0.0                            0.0              0   \n",
      "3  43000.0               0.0                            0.0              0   \n",
      "4   6000.0               1.0                            0.0              0   \n",
      "\n",
      "   IsUnderEmployed              JobApplyWhen                          JobPref  \\\n",
      "0              1.0                       NaN                        freelance   \n",
      "1              1.0  Within the next 6 months               work for a startup   \n",
      "2              0.0                       NaN          start your own business   \n",
      "3              1.0  Within the next 6 months               work for a startup   \n",
      "4              1.0  Within the next 6 months  work for a medium-sized company   \n",
      "\n",
      "   JobRelocateYesNo           JobRoleInterest  \\\n",
      "0               NaN                       NaN   \n",
      "1               1.0   Front-End Web Developer   \n",
      "2               NaN                       NaN   \n",
      "3               NaN   Front-End Web Developer   \n",
      "4               1.0  Full-Stack Web Developer   \n",
      "\n",
      "                         JobWherePref LanguageAtHome  \\\n",
      "0                                 NaN        English   \n",
      "1  in an office with other developers        English   \n",
      "2                                 NaN        English   \n",
      "3                           from home        English   \n",
      "4  in an office with other developers          Khmer   \n",
      "\n",
      "                     MaritalStatus  MoneyForLearning  MonthsProgramming  \\\n",
      "0  married or domestic partnership               0.0                1.0   \n",
      "1                              NaN              20.0                2.0   \n",
      "2                              NaN              50.0               24.0   \n",
      "3                              NaN             100.0                3.0   \n",
      "4                              NaN            1300.0               48.0   \n",
      "\n",
      "                                 NetworkID         Part1EndTime  \\\n",
      "0                               2c6f0af42c  2016-03-29 21:24:53   \n",
      "1                               d048ac774d  2016-03-29 21:27:09   \n",
      "2                               241513bbbe  2016-03-29 21:27:11   \n",
      "3  809298000000000071062979228803985833984  2016-03-29 21:28:47   \n",
      "4                               cdc466b1ee  2016-03-29 21:29:27   \n",
      "\n",
      "        Part1StartTime         Part2EndTime       Part2StartTime  \\\n",
      "0  2016-03-29 21:23:13  2016-03-29 21:27:25  2016-03-29 21:24:57   \n",
      "1  2016-03-29 21:24:59  2016-03-29 21:29:10  2016-03-29 21:27:14   \n",
      "2  2016-03-29 21:25:37  2016-03-29 21:28:21  2016-03-29 21:27:13   \n",
      "3  2016-03-29 21:21:37  2016-03-29 21:30:51  2016-03-29 21:28:51   \n",
      "4  2016-03-29 21:26:22  2016-03-29 21:31:54  2016-03-29 21:29:32   \n",
      "\n",
      "   PodcastChangeLog  PodcastCodeNewbie  PodcastDeveloperTea  \\\n",
      "0               NaN                NaN                  NaN   \n",
      "1               NaN                NaN                  NaN   \n",
      "2               NaN                NaN                  NaN   \n",
      "3               NaN                NaN                  NaN   \n",
      "4               NaN                NaN                  NaN   \n",
      "\n",
      "   PodcastDotNetRocks  PodcastJsAir  PodcastJSJabber  PodcastNone  \\\n",
      "0                 NaN           NaN              NaN          1.0   \n",
      "1                 NaN           NaN              NaN          NaN   \n",
      "2                 NaN           NaN              NaN          1.0   \n",
      "3                 NaN           NaN              NaN          1.0   \n",
      "4                 NaN           NaN              NaN          1.0   \n",
      "\n",
      "           PodcastOther PodcastProgrammingThrowDown PodcastRubyRogues  \\\n",
      "0                   NaN                         NaN               NaN   \n",
      "1  Front-end happy hour                         NaN               NaN   \n",
      "2                   NaN                         NaN               NaN   \n",
      "3                   NaN                         NaN               NaN   \n",
      "4                   NaN                         NaN               NaN   \n",
      "\n",
      "   PodcastSEDaily  PodcastShopTalk  PodcastTalkPython  PodcastWebAhead  \\\n",
      "0             NaN              NaN                NaN              NaN   \n",
      "1             NaN              NaN                NaN              NaN   \n",
      "2             NaN              NaN                NaN              NaN   \n",
      "3             NaN              NaN                NaN              NaN   \n",
      "4             NaN              NaN                NaN              NaN   \n",
      "\n",
      "   ResourceCodecademy  ResourceCodeWars  ResourceCoursera  ResourceEdX  \\\n",
      "0                 NaN               NaN               1.0          NaN   \n",
      "1                 NaN               NaN               1.0          NaN   \n",
      "2                 1.0               NaN               NaN          NaN   \n",
      "3                 1.0               NaN               NaN          NaN   \n",
      "4                 1.0               NaN               NaN          NaN   \n",
      "\n",
      "   ResourceEggHead  ResourceFCC  ResourceHackerRank  ResourceKhanAcademy  \\\n",
      "0              NaN          1.0                 NaN                  NaN   \n",
      "1              NaN          1.0                 NaN                  NaN   \n",
      "2              NaN          1.0                 NaN                  1.0   \n",
      "3              NaN          1.0                 NaN                  1.0   \n",
      "4              NaN          1.0                 NaN                  NaN   \n",
      "\n",
      "   ResourceLynda  ResourceMDN  ResourceOdinProj ResourceOther  \\\n",
      "0            NaN          NaN               NaN           NaN   \n",
      "1            NaN          NaN               NaN           NaN   \n",
      "2            NaN          NaN               1.0           NaN   \n",
      "3            NaN          NaN               NaN           NaN   \n",
      "4            NaN          NaN               NaN           NaN   \n",
      "\n",
      "   ResourcePluralSight  ResourceSkillCrush  ResourceStackOverflow  \\\n",
      "0                  NaN                 NaN                    NaN   \n",
      "1                  NaN                 NaN                    NaN   \n",
      "2                  NaN                 NaN                    NaN   \n",
      "3                  NaN                 NaN                    NaN   \n",
      "4                  NaN                 NaN                    NaN   \n",
      "\n",
      "   ResourceTreehouse  ResourceUdacity  ResourceUdemy  ResourceW3Schools  \\\n",
      "0                NaN              NaN            NaN                NaN   \n",
      "1                NaN              NaN            1.0                NaN   \n",
      "2                NaN              NaN            NaN                NaN   \n",
      "3                NaN              NaN            NaN                NaN   \n",
      "4                NaN              NaN            NaN                NaN   \n",
      "\n",
      "                              SchoolDegree              SchoolMajor  \\\n",
      "0           some college credit, no degree                      NaN   \n",
      "1           some college credit, no degree                      NaN   \n",
      "2  high school diploma or equivalent (GED)                      NaN   \n",
      "3                        bachelor's degree  Cinematography And Film   \n",
      "4           some college credit, no degree                      NaN   \n",
      "\n",
      "  StudentDebtOwe  \n",
      "0          20000  \n",
      "1            NaN  \n",
      "2            NaN  \n",
      "3           7000  \n",
      "4            NaN  \n"
     ]
    }
   ],
   "source": [
    "# Load pandas as pd\n",
    "# import pandas as pd\n",
    "\n",
    "# Read spreadsheet and assign it to survey_responses\n",
    "survey_responses = pd.read_excel(raw / \"fcc_survey.xlsx\")\n",
    "\n",
    "# View the head of the dataframe\n",
    "print(survey_responses.head())"
   ]
  },
  {
   "cell_type": "markdown",
   "metadata": {},
   "source": [
    "## 14.2.3 Load a portion of a spreadsheet"
   ]
  },
  {
   "cell_type": "code",
   "execution_count": 6,
   "metadata": {},
   "outputs": [
    {
     "name": "stdout",
     "output_type": "stream",
     "text": [
      "Index(['ExpectedEarning', 'JobApplyWhen', 'JobPref', 'JobRelocateYesNo',\n",
      "       'JobRoleInterest', 'JobWherePref'],\n",
      "      dtype='object')\n"
     ]
    }
   ],
   "source": [
    "# Create string of lettered columns to load\n",
    "col_string = \"AD,AW:BA\"\n",
    "\n",
    "# Load data with skiprows and usecols set\n",
    "survey_responses = pd.read_excel(raw / \"fcc-new-coder-survey.xlsx\", \n",
    "                        skiprows=2,\n",
    "                        usecols=col_string)\n",
    "\n",
    "# View the names of the columns selected\n",
    "print(survey_responses.columns)"
   ]
  },
  {
   "cell_type": "markdown",
   "metadata": {},
   "source": [
    "## 14.2.5 Select a single sheet"
   ]
  },
  {
   "cell_type": "code",
   "execution_count": 16,
   "metadata": {},
   "outputs": [
    {
     "data": {
      "image/png": "[encoded data removed]",
      "text/plain": [
       "<Figure size 640x480 with 1 Axes>"
      ]
     },
     "metadata": {},
     "output_type": "display_data"
    }
   ],
   "source": [
    "# Create df from second worksheet by referencing its position\n",
    "responses_2017 = pd.read_excel(raw / \"fcc_survey.xlsx\",\n",
    "                               sheet_name=1)\n",
    "\n",
    "# Graph where people would like to get a developer job\n",
    "job_prefs = responses_2017.groupby(\"JobPref\").JobPref.count()\n",
    "job_prefs.plot.barh()\n",
    "plt.show()"
   ]
  },
  {
   "cell_type": "code",
   "execution_count": 21,
   "metadata": {},
   "outputs": [
    {
     "data": {
      "image/png": "[encoded data removed]",
      "text/plain": [
       "<Figure size 640x480 with 1 Axes>"
      ]
     },
     "metadata": {},
     "output_type": "display_data"
    }
   ],
   "source": [
    "# Create df from second worksheet by referencing its name\n",
    "responses_2017 = pd.read_excel(raw / \"fcc_survey.xlsx\",\n",
    "                               sheet_name='2017')\n",
    "\n",
    "# Graph where people would like to get a developer job\n",
    "job_prefs = responses_2017.groupby(\"JobPref\").JobPref.count()\n",
    "job_prefs.plot.barh()\n",
    "plt.show()"
   ]
  },
  {
   "cell_type": "markdown",
   "metadata": {},
   "source": [
    "## 14.2.6 Select multiple sheets"
   ]
  },
  {
   "cell_type": "code",
   "execution_count": 22,
   "metadata": {},
   "outputs": [
    {
     "name": "stdout",
     "output_type": "stream",
     "text": [
      "<class 'dict'>\n"
     ]
    }
   ],
   "source": [
    "# Load both the 2016 and 2017 sheets by name\n",
    "all_survey_data = pd.read_excel(raw / \"fcc_survey.xlsx\",\n",
    "                                sheet_name=['2016', '2017'])\n",
    "\n",
    "# View the data type of all_survey_data\n",
    "print(type(all_survey_data))"
   ]
  },
  {
   "cell_type": "code",
   "execution_count": 23,
   "metadata": {},
   "outputs": [
    {
     "name": "stdout",
     "output_type": "stream",
     "text": [
      "dict_keys([0, '2017'])\n"
     ]
    }
   ],
   "source": [
    "# Load all sheets in the Excel file\n",
    "all_survey_data = pd.read_excel(raw / \"fcc_survey.xlsx\",\n",
    "                                sheet_name=[0, '2017'])\n",
    "\n",
    "# View the sheet names in all_survey_data\n",
    "print(all_survey_data.keys())"
   ]
  },
  {
   "cell_type": "code",
   "execution_count": 25,
   "metadata": {},
   "outputs": [
    {
     "name": "stdout",
     "output_type": "stream",
     "text": [
      "dict_keys(['2016', '2017'])\n"
     ]
    }
   ],
   "source": [
    "# Load all sheets in the Excel file\n",
    "all_survey_data = pd.read_excel(raw / \"fcc_survey.xlsx\",\n",
    "                                sheet_name=None)\n",
    "\n",
    "# View the sheet names in all_survey_data\n",
    "print(all_survey_data.keys())"
   ]
  },
  {
   "cell_type": "markdown",
   "metadata": {},
   "source": [
    "## 14.2.7 Work with multiple spreadsheets"
   ]
  },
  {
   "cell_type": "code",
   "execution_count": 28,
   "metadata": {},
   "outputs": [],
   "source": [
    "responses = all_survey_data.copy()"
   ]
  },
  {
   "cell_type": "code",
   "execution_count": 32,
   "metadata": {},
   "outputs": [
    {
     "name": "stdout",
     "output_type": "stream",
     "text": [
      "Adding 1000 rows\n",
      "Adding 1000 rows\n"
     ]
    },
    {
     "data": {
      "image/png": "[encoded data removed]",
      "text/plain": [
       "<Figure size 640x480 with 1 Axes>"
      ]
     },
     "metadata": {},
     "output_type": "display_data"
    }
   ],
   "source": [
    "# Create an empty dataframe\n",
    "all_responses = pd.DataFrame()\n",
    "\n",
    "# Set up for loop to iterate through values in responses\n",
    "for df in responses.values():\n",
    "  # Print the number of rows being added\n",
    "  print(\"Adding {} rows\".format(df.shape[0]))\n",
    "  # Append df to all_responses, assign result\n",
    "  # all_responses = all_responses.append(df)\n",
    "  all_responses = pd.concat([all_responses, pd.DataFrame(df)], ignore_index=True)  # -> pandas 2.0\n",
    "\n",
    "# Graph employment statuses in sample\n",
    "counts = all_responses.groupby(\"EmploymentStatus\").EmploymentStatus.count()\n",
    "counts.plot.barh()\n",
    "plt.show()"
   ]
  },
  {
   "cell_type": "markdown",
   "metadata": {},
   "source": [
    "## 14.2.8 Set Boolean columns"
   ]
  },
  {
   "cell_type": "code",
   "execution_count": 41,
   "metadata": {},
   "outputs": [
    {
     "name": "stdout",
     "output_type": "stream",
     "text": [
      "ID.x                        0\n",
      "HasDebt                    10\n",
      "HasFinancialDependents      9\n",
      "HasHomeMortgage           499\n",
      "HasStudentDebt            502\n",
      "dtype: int64\n"
     ]
    }
   ],
   "source": [
    "# Load the data\n",
    "\n",
    "# survey_data = pd.read_excel(\"fcc_survey_subset.xlsx\")\n",
    "survey_data = pd.read_excel(raw / \"fcc_survey.xlsx\")\n",
    "survey_data = survey_data.loc[:,['ID.x', 'HasDebt', 'HasFinancialDependents', 'HasHomeMortgage', 'HasStudentDebt']]\n",
    "\n",
    "# Count NA values in each column\n",
    "print(survey_data.isna().sum())"
   ]
  },
  {
   "cell_type": "code",
   "execution_count": 54,
   "metadata": {},
   "outputs": [],
   "source": [
    "# survey_data = pd.read_excel(raw / \"fcc_survey.xlsx\")\n",
    "# survey_data = survey_data.loc[:,['ID.x', 'HasDebt', 'HasFinancialDependents', 'HasHomeMortgage', 'HasStudentDebt']]\n",
    "# survey_data = survey_data.dropna(subset=['HasDebt'])\n",
    "# survey_data.to_excel(raw / 'fcc_survey2.xlsx', index=False)"
   ]
  },
  {
   "cell_type": "code",
   "execution_count": 55,
   "metadata": {},
   "outputs": [
    {
     "name": "stdout",
     "output_type": "stream",
     "text": [
      "                                                      ID.x  \\\n",
      "HasDebt                                                      \n",
      "False    323e5a113644d18185c743c241407754b29a1027e5cd06...   \n",
      "True     cef35615d61b202f1dc794ef2746df1404a11e4bcb573a...   \n",
      "\n",
      "         HasFinancialDependents  HasHomeMortgage  HasStudentDebt  \n",
      "HasDebt                                                           \n",
      "False                     111.0              0.0             0.0  \n",
      "True                      205.0            151.0           281.0  \n"
     ]
    }
   ],
   "source": [
    "# Set dtype to load appropriate column(s) as Boolean data\n",
    "# survey_data = pd.read_excel(\"fcc_survey_subset.xlsx\",\n",
    "#                             dtype={\"HasDebt\": bool})\n",
    "\n",
    "survey_data = pd.read_excel(raw / \"fcc_survey2.xlsx\", \n",
    "                            dtype={\"HasDebt\": bool})\n",
    "\n",
    "# View financial burdens by Boolean group\n",
    "print(survey_data.groupby('HasDebt').sum())"
   ]
  },
  {
   "cell_type": "markdown",
   "metadata": {},
   "source": [
    "## 14.2.9 Set custom true/false values"
   ]
  },
  {
   "cell_type": "code",
   "execution_count": 61,
   "metadata": {},
   "outputs": [],
   "source": [
    "# survey_data = pd.read_excel(raw / \"fcc_survey.xlsx\")\n",
    "# survey_data = survey_data.loc[:,['ID.x', 'AttendedBootcamp', 'HasDebt', 'HasFinancialDependents', 'HasHomeMortgage', 'HasStudentDebt']]\n",
    "# survey_data.rename(columns={'AttendedBootcamp':'AttendedBootCampYesNo'}, inplace=True)\n",
    "# survey_data = survey_data.dropna(subset=['HasDebt', 'AttendedBootCampYesNo'])\n",
    "# survey_data.to_excel(raw / 'fcc_survey_yn_data.xlsx', index=False)"
   ]
  },
  {
   "cell_type": "code",
   "execution_count": 62,
   "metadata": {},
   "outputs": [
    {
     "name": "stdout",
     "output_type": "stream",
     "text": [
      "                               ID.x  AttendedBootCampYesNo  HasDebt  \\\n",
      "0  cef35615d61b202f1dc794ef2746df14                  False     True   \n",
      "1  323e5a113644d18185c743c241407754                  False    False   \n",
      "2  b29a1027e5cd062e654a63764157461d                  False    False   \n",
      "3  04a11e4bcb573a1261eb0d9948d32637                  False     True   \n",
      "4  9368291c93d5d5f5c8cdb1a575e18bec                  False     True   \n",
      "\n",
      "   HasFinancialDependents  HasHomeMortgage  HasStudentDebt  \n",
      "0                     1.0              0.0             1.0  \n",
      "1                     0.0              NaN             NaN  \n",
      "2                     0.0              NaN             NaN  \n",
      "3                     0.0              0.0             1.0  \n",
      "4                     0.0              0.0             0.0  \n"
     ]
    }
   ],
   "source": [
    "# Load file with Yes as a True value and No as a False value\n",
    "survey_subset = pd.read_excel(raw / \"fcc_survey_yn_data.xlsx\",\n",
    "                              dtype={\"HasDebt\": bool,\n",
    "                              \"AttendedBootCampYesNo\": bool},\n",
    "                              true_values=[\"Yes\"],\n",
    "                              false_values=[\"No\"])\n",
    "\n",
    "# View the data\n",
    "print(survey_subset.head())"
   ]
  },
  {
   "cell_type": "markdown",
   "metadata": {},
   "source": [
    "## 14.2.11 Parse simple dates"
   ]
  },
  {
   "cell_type": "code",
   "execution_count": 64,
   "metadata": {},
   "outputs": [],
   "source": [
    "# Load file, with Part1StartTime parsed as datetime data\n",
    "survey_data = pd.read_excel(raw / \"fcc_survey.xlsx\",\n",
    "                            parse_dates=[\"Part1StartTime\"])\n",
    "\n",
    "# Print first few values of Part1StartTime\n",
    "print(survey_data.Part1StartTime.head())"
   ]
  },
  {
   "cell_type": "code",
   "execution_count": null,
   "metadata": {},
   "outputs": [],
   "source": []
  },
  {
   "cell_type": "code",
   "execution_count": null,
   "metadata": {},
   "outputs": [],
   "source": []
  },
  {
   "cell_type": "code",
   "execution_count": null,
   "metadata": {},
   "outputs": [
    {
     "name": "stdout",
     "output_type": "stream",
     "text": [
      "Ok_\n"
     ]
    }
   ],
   "source": [
    "print('ok_')"
   ]
  }
 ],
 "metadata": {
  "kernelspec": {
   "display_name": "Python 3",
   "language": "python",
   "name": "python3"
  },
  "language_info": {
   "codemirror_mode": {
    "name": "ipython",
    "version": 3
   },
   "file_extension": ".py",
   "mimetype": "text/x-python",
   "name": "python",
   "nbconvert_exporter": "python",
   "pygments_lexer": "ipython3",
   "version": "3.11.5"
  },
  "orig_nbformat": 4,
  "vscode": {
   "interpreter": {
    "hash": "5238573367df39f7286bb46f9ff5f08f63a01a80960060ce41e3c79b190280fa"
   }
  }
 },
 "nbformat": 4,
 "nbformat_minor": 2
}
